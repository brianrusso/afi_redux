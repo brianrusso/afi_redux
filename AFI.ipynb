{
 "cells": [
  {
   "cell_type": "code",
   "execution_count": 15,
   "metadata": {},
   "outputs": [],
   "source": [
    "import topycal\n",
    "import os\n",
    "import glob\n",
    "import random\n",
    "\n",
    "INSTR_PATH = os.path.join(os.getcwd(),\"afi_txt\")"
   ]
  },
  {
   "cell_type": "code",
   "execution_count": 89,
   "metadata": {},
   "outputs": [],
   "source": [
    "from concurrent.futures import ThreadPoolExecutor, wait, as_completed\n",
    "def do_fn_on_iter(fn, iterator, num_threads=6):\n",
    "    futures = []\n",
    "    if isinstance(num_threads, str):\n",
    "        num_threads = int(num_threads)\n",
    "    with ThreadPoolExecutor(max_workers=num_threads) as executor:\n",
    "        for elem in iterator:\n",
    "            futures.append(executor.submit(fn, elem))\n",
    "    results = []\n",
    "    for x in as_completed(futures):\n",
    "        results.append(x.result())\n",
    "    return results\n"
   ]
  },
  {
   "cell_type": "code",
   "execution_count": 90,
   "metadata": {},
   "outputs": [],
   "source": [
    "def get_file_list(limit=500, shuffle=True):\n",
    "    files = glob.glob(\"{}/afi*.txt\".format(INSTR_PATH))\n",
    "    if shuffle:\n",
    "        random.shuffle(files)\n",
    "    if limit:\n",
    "        return files[0:limit]\n",
    "    else:\n",
    "        return files\n",
    "    #data = myfile.read()\n",
    "    \n",
    "def read_file(fname):\n",
    "    with open(fname, errors='replace') as fd:\n",
    "        return fd.read()"
   ]
  },
  {
   "cell_type": "code",
   "execution_count": 91,
   "metadata": {},
   "outputs": [],
   "source": [
    "file_list = get_file_list(limit=None)\n"
   ]
  },
  {
   "cell_type": "code",
   "execution_count": 414,
   "metadata": {},
   "outputs": [],
   "source": [
    "import re\n",
    "import os\n",
    "\n",
    "def load_file(fname):       \n",
    "    with open(fname, 'r') as myfile:\n",
    "        contents = re.sub(r'[\\t\\n\\r\\x0b\\x0c]',' ', myfile.read())\n",
    "        return (os.path.basename(fname),re.sub(\"\\s+\",' ', contents))\n",
    "\n",
    "def load_corpus(file_list):\n",
    "    return {f[0]:f[1] for f in do_fn_on_iter(load_file, file_list)}    "
   ]
  },
  {
   "cell_type": "code",
   "execution_count": 415,
   "metadata": {},
   "outputs": [],
   "source": [
    "corpus_dict = load_corpus(file_list)"
   ]
  },
  {
   "cell_type": "code",
   "execution_count": 151,
   "metadata": {},
   "outputs": [],
   "source": [
    "import spacy\n",
    "nlp = spacy.load(\"en_core_web_md\")"
   ]
  },
  {
   "cell_type": "markdown",
   "metadata": {},
   "source": [
    "For each document, we sentence segment then create a basket based on the 64bit murmurhash (after whitespace trimming and checking for a minimum sentence threshold)."
   ]
  },
  {
   "cell_type": "code",
   "execution_count": 153,
   "metadata": {},
   "outputs": [],
   "source": [
    "import mmh3\n",
    "\n",
    "from tqdm import tqdm\n",
    "from collections import defaultdict\n",
    "\n",
    "MIN_SENT_LEN = 15\n",
    "\n",
    "def do_market_basket_analysis(doc_dict):\n",
    "    baskets = defaultdict(set)\n",
    "    for k,v in tqdm(doc_dict.items()):\n",
    "        for sent in nlp(v).sents:\n",
    "            if len(sent) > MIN_SENT_LEN:\n",
    "                baskets[mmh3.hash64(sent.text.strip())].add(k)\n",
    "    return baskets"
   ]
  },
  {
   "cell_type": "code",
   "execution_count": 96,
   "metadata": {},
   "outputs": [
    {
     "name": "stderr",
     "output_type": "stream",
     "text": [
      "100%|██████████| 1141/1141 [21:49<00:00,  1.15s/it]\n"
     ]
    }
   ],
   "source": [
    "baskets = do_market_basket_analysis(corpus_dict)"
   ]
  },
  {
   "cell_type": "markdown",
   "metadata": {},
   "source": [
    "Each basket is trimmed based on being a certain minimum size.. logic here is to reduce noise."
   ]
  },
  {
   "cell_type": "code",
   "execution_count": 107,
   "metadata": {},
   "outputs": [],
   "source": [
    "# trim baskets\n",
    "\n",
    "def trim_baskets(baskets, min_size=3):\n",
    "    return {k:v for k,v in tqdm(baskets.items()) if len(v) > min_size}\n"
   ]
  },
  {
   "cell_type": "code",
   "execution_count": 108,
   "metadata": {},
   "outputs": [
    {
     "name": "stderr",
     "output_type": "stream",
     "text": [
      "100%|██████████| 490156/490156 [00:00<00:00, 991812.79it/s]\n"
     ]
    }
   ],
   "source": [
    "trimmed_baskets = trim_baskets(baskets, min_size=4)"
   ]
  },
  {
   "cell_type": "code",
   "execution_count": 157,
   "metadata": {},
   "outputs": [
    {
     "data": {
      "text/plain": [
       "490156"
      ]
     },
     "execution_count": 157,
     "metadata": {},
     "output_type": "execute_result"
    }
   ],
   "source": [
    "len(list(baskets.items()))"
   ]
  },
  {
   "cell_type": "code",
   "execution_count": 109,
   "metadata": {},
   "outputs": [
    {
     "data": {
      "text/plain": [
       "1785"
      ]
     },
     "execution_count": 109,
     "metadata": {},
     "output_type": "execute_result"
    }
   ],
   "source": [
    "len(list(trimmed_baskets.items()))"
   ]
  },
  {
   "cell_type": "markdown",
   "metadata": {},
   "source": [
    "Now we build a graph from the baskets, each combination of documents in each bucket is related to each other.. and the edge weight between documents is based on how many buckets they share. We also determine series here and enrich the node with that, so we can compare how links within or across series work."
   ]
  },
  {
   "cell_type": "code",
   "execution_count": 154,
   "metadata": {},
   "outputs": [],
   "source": [
    "import networkx as nx\n",
    "from itertools import combinations\n",
    "# Build a weighted graph from the baskets\n",
    "\n",
    "def traverse_baskets(baskets):   \n",
    "    graph = nx.Graph()\n",
    "    for k,v in baskets.items():\n",
    "        combs = combinations(v, 2)\n",
    "        for comb in combs:\n",
    "            # ensure nodes exist\n",
    "            if comb[0] not in graph:\n",
    "                graph.add_node(comb[0], series=comb[0].split('-')[0][-2:]) # split on '-' and take the last 2 chars from first part of split result\n",
    "            if comb[1] not in graph:\n",
    "                graph.add_node(comb[1], series=comb[1].split('-')[0][-2:]) # e.g. afi_12-21 -> 12; afi12-22 -> 12\n",
    "            \n",
    "            # if already exists, increment\n",
    "            if comb[0] in graph[comb[1]]:\n",
    "                curr_wt = graph.edges[comb[0], comb[1]]['weight']\n",
    "                series_same = comb[0].split('-')[0][-2:] == comb[1].split('-')[0][-2:]\n",
    "                graph.add_edge(comb[0],comb[1], weight=curr_wt+1, label=\"{}-{}\".format(comb[0],comb[1]),sameseries=\"{}\".format(series_same))\n",
    "            # create new link\n",
    "            else:\n",
    "                series_same = comb[0].split('-')[0][-2:] == comb[1].split('-')[0][-2:]\n",
    "                graph.add_edge(comb[0],comb[1], weight=1, label=\"{}-{}\".format(comb[0],comb[1]), sameseries=\"{}\".format(series_same))\n",
    "    return graph\n",
    "            \n",
    "        "
   ]
  },
  {
   "cell_type": "code",
   "execution_count": 155,
   "metadata": {},
   "outputs": [],
   "source": [
    "graph = traverse_baskets(trimmed_baskets)"
   ]
  },
  {
   "cell_type": "code",
   "execution_count": 158,
   "metadata": {},
   "outputs": [
    {
     "data": {
      "text/plain": [
       "14948"
      ]
     },
     "execution_count": 158,
     "metadata": {},
     "output_type": "execute_result"
    }
   ],
   "source": [
    "len(graph.edges())"
   ]
  },
  {
   "cell_type": "markdown",
   "metadata": {},
   "source": [
    "More noise reduction.. prune nodes/edges that only share 1 bucket."
   ]
  },
  {
   "cell_type": "code",
   "execution_count": 189,
   "metadata": {},
   "outputs": [],
   "source": [
    "# Trim graphs with only 1 link\n",
    "def prune_graph(graph):\n",
    "    removal_candidates = []\n",
    "    for edge in graph.edges():\n",
    "        if graph.edges()[edge]['weight'] < 2:\n",
    "            removal_candidates.append((edge[0],edge[1]))\n",
    "    # remove low weight edges\n",
    "    graph.remove_edges_from(removal_candidates)\n",
    "    # remove isolate nodes\n",
    "    graph.remove_nodes_from(list(nx.isolates(graph)))\n",
    "    return graph"
   ]
  },
  {
   "cell_type": "code",
   "execution_count": 190,
   "metadata": {},
   "outputs": [],
   "source": [
    "pruned_graph = prune_graph(graph)"
   ]
  },
  {
   "cell_type": "code",
   "execution_count": 188,
   "metadata": {},
   "outputs": [
    {
     "data": {
      "text/plain": [
       "4124"
      ]
     },
     "execution_count": 188,
     "metadata": {},
     "output_type": "execute_result"
    }
   ],
   "source": [
    "len(pruned_graph.edges())"
   ]
  },
  {
   "cell_type": "markdown",
   "metadata": {},
   "source": [
    "Save as GML"
   ]
  },
  {
   "cell_type": "code",
   "execution_count": 191,
   "metadata": {},
   "outputs": [],
   "source": [
    "nx.write_gml(pruned_graph,'afi_mba_pruned.gml')"
   ]
  },
  {
   "cell_type": "code",
   "execution_count": null,
   "metadata": {},
   "outputs": [],
   "source": []
  },
  {
   "cell_type": "markdown",
   "metadata": {},
   "source": [
    "We can also use the trimmed basket keys as a starting point for sentences that are very common in the corpus.. now if we remove those and then perform a conventional cosine similarity or other affinity analysis; we are effectively excluding the facsimile sentences. Again we exclude shorter sentences to reduce noise from outlines, etc."
   ]
  },
  {
   "cell_type": "code",
   "execution_count": 193,
   "metadata": {},
   "outputs": [],
   "source": [
    "redundant_sent_hashes = list(trimmed_baskets.keys())"
   ]
  },
  {
   "cell_type": "code",
   "execution_count": 263,
   "metadata": {},
   "outputs": [],
   "source": [
    "import mmh3\n",
    "\n",
    "from tqdm import tqdm\n",
    "from collections import defaultdict\n",
    "\n",
    "MIN_SENT_LEN = 15\n",
    "\n",
    "def prune_corpus_of_reused_sentences(doc_dict, bad_hashes):\n",
    "    pruned_dict = {}\n",
    "    for docname,doctxt in tqdm(doc_dict.items()):\n",
    "        reduced_sents = []\n",
    "        for sent in nlp(doctxt).sents:\n",
    "            if len(sent) > MIN_SENT_LEN:\n",
    "                # check if hash is okay\n",
    "                this_sent = sent.text.strip()\n",
    "                if mmh3.hash64(this_sent) not in bad_hashes:\n",
    "                    reduced_sents.append(this_sent)\n",
    "        pruned_dict[docname] = \" \".join(reduced_sents)\n",
    "    return pruned_dict"
   ]
  },
  {
   "cell_type": "code",
   "execution_count": 264,
   "metadata": {},
   "outputs": [
    {
     "name": "stderr",
     "output_type": "stream",
     "text": [
      "100%|██████████| 1141/1141 [22:25<00:00,  1.18s/it]\n"
     ]
    }
   ],
   "source": [
    "pruned_dict = prune_corpus_of_reused_sentences(corpus_dict,redundant_sent_hashes)"
   ]
  },
  {
   "cell_type": "code",
   "execution_count": 400,
   "metadata": {},
   "outputs": [
    {
     "data": {
      "text/plain": [
       "'afi51-302.txt'"
      ]
     },
     "execution_count": 400,
     "metadata": {},
     "output_type": "execute_result"
    }
   ],
   "source": [
    "list(pruned_dict.keys())[3]"
   ]
  },
  {
   "cell_type": "code",
   "execution_count": 401,
   "metadata": {},
   "outputs": [
    {
     "data": {
      "text/plain": [
       "True"
      ]
     },
     "execution_count": 401,
     "metadata": {},
     "output_type": "execute_result"
    }
   ],
   "source": [
    "len(corpus_dict[list(pruned_dict.keys())[5]]) != len(pruned_dict[list(pruned_dict.keys())[5]])"
   ]
  },
  {
   "cell_type": "markdown",
   "metadata": {},
   "source": [
    "Simple code to compute dot product on 1 docs using tfidf"
   ]
  },
  {
   "cell_type": "code",
   "execution_count": 306,
   "metadata": {},
   "outputs": [],
   "source": [
    "from sklearn.feature_extraction.text import TfidfVectorizer\n",
    "\n",
    "def compare_docs(doc1,doc2):\n",
    "    tfidf = TfidfVectorizer().fit_transform([doc1, doc2])\n",
    "    diffs = list((tfidf * tfidf.T).A)\n",
    "    return diffs[0][1]\n"
   ]
  },
  {
   "cell_type": "markdown",
   "metadata": {},
   "source": [
    "Build similarity graph .. link each doc with similarity as attribute"
   ]
  },
  {
   "cell_type": "code",
   "execution_count": 374,
   "metadata": {},
   "outputs": [],
   "source": [
    "import random\n",
    "import networkx as nx\n",
    "\n",
    "from itertools import combinations\n",
    "# Build a weighted graph from the pruned docs based on cosine similarity\n",
    "\n",
    "# O(n^2)!!\n",
    "# should do this more efficiently.. fingerprint method or self-organizing map\n",
    "\n",
    "def make_similarity_graph(doc_dict,sample=None):   \n",
    "    graph = nx.Graph()\n",
    "    pairwise_docs = list(combinations([k for k in doc_dict.keys()],2))\n",
    "    if sample:\n",
    "        random.shuffle(pairwise_docs)\n",
    "        pairwise_docs = pairwise_docs[0:sample]\n",
    "    \n",
    "    for doc_key in doc_dict.keys():\n",
    "        graph.add_node(doc_key, series=doc_key.split('-')[0][-2:])\n",
    "    for pair in tqdm(pairwise_docs):\n",
    "        series_same = pair[0].split('-')[0][-2:] == pair[1].split('-')[0][-2:]\n",
    "        try:\n",
    "            graph.add_edge(pair[0],pair[1],weight=compare_docs(doc_dict[pair[0]],doc_dict[pair[1]]),label=\"{}${}\".format(pair[0],pair[1]), sameseries=series_same)\n",
    "        except ValueError as e: # happens if we get empty vocab.. no worries\n",
    "            print(\"{e}\")\n",
    "            pass\n",
    "    return graph\n",
    "            \n",
    "        "
   ]
  },
  {
   "cell_type": "code",
   "execution_count": 404,
   "metadata": {},
   "outputs": [
    {
     "name": "stdout",
     "output_type": "stream",
     "text": [
      "18166\n",
      "24854\n"
     ]
    }
   ],
   "source": [
    "key = list(pruned_dict.keys())[1]\n",
    "print(len(pruned_dict[key]))\n",
    "print(len(corpus_dict[key]))"
   ]
  },
  {
   "cell_type": "code",
   "execution_count": 416,
   "metadata": {
    "scrolled": true
   },
   "outputs": [
    {
     "name": "stdout",
     "output_type": "stream",
     "text": [
      " BY ORDER OF THE SECRETARY OF THE AIR FORCE AIR FORCE INSTRUCTION 36-2811 28 NOVEMBER 2014 Personnel CHAPLAIN CORPS AWARDS COMPLIANCE WITH THIS PUBLICATION IS MANDATORY ACCESSIBILITY: Publications and forms are available for downloading or ordering on the e-Publishing website at www.e-Publishing.af.mil. RELEASABILITY: There are no releasability restrictions on this publication. OPR: HQ USAF/HCX Supersedes: AFI 36-2811, 1 February 2006 Certified by: HQ USAF/HC (Ch, Major General Howard D. Stendahl) Pages: 13 This instruction implements AFPD 36-28, Awards and Decorations Programs. It describes Chaplain Corps awards presented to individuals and teams in recognition of their outstanding service or contributions to the Chaplain Corps. It explains award eligibility, nomination criteria, and procedures for nomination and winner selection. This instruction applies to Regular Air Force (RegAF), Air Reserve Component (ARC), and civilian personnel. Ensure that all records created as a result of processes prescribed in this publication are maintained in accordance with Air Force Manual (AFMAN) 33-363, Management of Records, and disposed of in accordance with the Air Force Records Disposition Schedule (RDS) located in the Air Force Records Information Management System (AFRIMS) Records Disposition Schedule (RDS). Refer recommended changes and conflicts between this and other publications to AF/HCX, 1380 Air Force Pentagon, Room 4D286, Washington, DC 20330-1380, using Air Force Form 847, Recommendation for Change of Publication; route AF Forms 847 through the appropriate functional chain of command. This publication may be supplemented at any level, but all direct supplements must be routed to the OPR of this publication for coordination prior to certification or approval. The use of the name or mark of any specific manufacturer, commercial product, commodity, or service in this publication does not imply endorsement by the Air Force. SUMMARY OF CHANGES This publication has been substantially revised and must be completely reviewed. Major changes include updating “Chaplain Service” to “Chaplain Corps.” In addition, an Outstanding Religious Support Team (RST) award has been added as well as changes to major headings in team award categories. 2 AFI36-2811 28 NOVEMBER 2014 1. Description of Awards. This awards program is for Air Force Chief of Chaplains-level awards and is designed to foster morale, incentive and esprit-de-corps. Teams and individuals receiving awards under this program must clearly demonstrate sustained and superior performance. All teams and individuals submitted who meet the selection criteria will be considered. Award categories and suspenses for award nominations are listed in Table 1. 1.1. Team Awards: (Award Period is 1 January – 31 December) 1.1.1. Outstanding Large Chapel Team (Charles I. Carpenter Award). This award honors the late Chaplain, Major General Charles I. Carpenter, USAF (Retired), the first Air Force Chief of Chaplains. Eligible candidates are wing/installation chapel teams with 10 or more RegAF military and General Schedule (GS) civilian employees authorized on the wing/installation unit manning document. 1.1.2. Outstanding Medium Chapel Team (Terence P. Finnegan Award). This award honors the late Chaplain, Major General Terence P. Finnegan, USAF (Retired), the second Air Force Chief of Chaplains. Eligible candidates are wing/installation chapel teams with five to nine RegAF military and GS civilian employees authorized on the wing/installation unit manning document. 1.1.3. Outstanding Small Chapel Team (Robert P. Taylor Award). This award honors the late Chaplain, Major General Robert P. Taylor, USAF (Retired), the third Air Force Chief of Chaplains. Eligible candidates are wing/installation chapel teams with two the wing/installation unit manning document. to four RegAF military and GS civilian employees authorized on 1.1.4. Outstanding Religious Support Team (RST Award. Eligible RSTs include one active duty chaplain and chaplain assistant team that delivers exemplary performance providing spiritual care at the tactical level. RST nominees must meet Air Force standards and be paired as an RST as part of the wing ministry plan. 1.1.5. The team award winners are selected based on the following strategic priorities (AF Form 1206, Nomination for Award headings): Focus on Warrior Care, Advisement to Leadership, and Care for Chaplain Corps Caregivers. Joint base chapel teams are eligible to be nominated for outstanding large, medium or small chapel team awards; however, they must meet the requirements listed in the above paragraphs. See para. 1.3.1.1. for criteria for civilian employees. 1.2. Regular Air Force Individual Awards: (Award Period is 1 January – 31 December) 1.2.1. Outstanding Company Grade Chaplain (Edwin R. Chess Award). This award honors the late Chaplain, Major General Edwin R. Chess, USAF (Retired), the fourth Air Force Chief of Chaplains. Eligible candidates must meet Air Force standards and serve in the grade of O-3 or below as of 31 December during the respective award period. 1.2.2. Outstanding Chaplain Assistant Senior Noncommissioned Officer (Gerrald Cullins Award). This award honors the late Chief Master Sergeant Gerrald Cullins, USAF (Retired), the first Chaplain Assistant Career Field Manager of the Air Force AFI36-2811 28 NOVEMBER 2014 3 Chaplain Corps. Eligible candidates must meet Air Force standards and serve in the grade of E-7 or E-8 as of 31 December during the respective award period. 1.2.3. Outstanding Chaplain Assistant Noncommissioned Officer (Charles R. Meier Award). This award honors Chief Master Sergeant Charles R. Meier, USAF (Retired), the second Chaplain Assistant Career Field Manager of the Air Force Chaplain Corps. Eligible candidates must meet Air Force standards and serve in the grade of E-5 or E-6 as of 31 December during the respective award period. 1.2.4. Outstanding Chaplain Assistant Airman (Richard C. Schneider Award). This award honors Chief Master Sergeant Richard C. Schneider, USAF (Retired), the third Chaplain Assistant Career Field Manager of the Air Force Chaplain Corps. Eligible candidates must meet Air Force standards and serve in the grade of E-4 or below as of 31 December during the respective award period. 1.2.5. The individual award winners must be Regular Air Force members and are selected based on the following three categories (AF Form 1206 headings): Leadership and Job Performance, Significant Self-Improvement, and Base and/or Community Involvement. 1.3. Civilian Award: (Award Period is 1 January – 31 December) 1.3.1. Air Force Chaplain Corps Civilian. This award is presented annually to recognize an outstanding civilian employed in the Air Force Chaplain Corps. 1.3.1.1. Eligible candidates are all civilian (GS, Non-Appropriated Fund (NAF), or Local National (LN)) Chaplain Corps employees. 1.3.1.2. Selection is based on the following three categories (AF Form 1206 headings): Leadership and Job Performance, Significant Self-Improvement, and Contributing to Civic, Cultural, or Professional Activities in the Military or Civilian community. 1.4. Air Reserve Component Awards: (Award Period is 1 January – 31 December) 1.4.1. Outstanding Reserve Chaplain (Thoralf T. Thielen Award). This award honors the late Chaplain, Major General Thoralf T. Thielen, USAFR (Retired) who was the first Air Force Reserve chaplain to obtain general officer rank. 1.4.1.1. Eligible candidates must meet Air Force standards and are Category A or Category B chaplains serving in the Air Reserve. 1.4.1.2. The annual winner is an officer selected as the outstanding reserve chaplain based on training accomplishments or contributions to mission support; exhibition of leadership in contributing to civic, cultural, or professional activities in the military or civilian community; and enrollment in off-duty programs of professional self-improvement. 1.4.2. Outstanding Reserve Chaplain Assistant (Citizen Airman Award). This award is presented to an enlisted member of the Category A or Category B Air Reserve. 1.4.2.1. Eligible candidates must meet Air Force standards and are Category A or Category B chaplain assistants serving in the Air Reserve. 4 AFI36-2811 28 NOVEMBER 2014 1.4.2.2. The annual winner is a chaplain assistant selected as the outstanding reserve chaplain assistant based on demonstrated superior initiative, technical skill, training accomplishments or contribution to mission support; exhibition of leadership qualities in contributing to civic, cultural, or professional activities in the military or civilian community; and enrollment in off-duty programs of professional self-improvement. 1.4.3. Outstanding Air National Guard (Samuel Stone Award). This award honors Chaplain Samuel Stone who was the first recorded chaplain to serve in the militia of colonial America. (ANG) Chaplain 1.4.3.1. Eligible candidates must meet Air Force standards and are chaplains serving in the ANG. 1.4.3.2. The annual winner is an officer selected as the outstanding ANG chaplain based on training accomplishments or contributions to mission support; exhibition of leadership in contributing to civic, cultural, or professional activities in the military or civilian community; and enrollment in off-duty programs of professional self-improvement. 1.4.4. Outstanding Air National Guard Chaplain Assistant (Minuteman Award). This award is presented annually to a member of the ANG selected as the outstanding chaplain assistant of the year. 1.4.4.1. Eligible candidates must meet Air Force standards and are chaplain assistants serving in the ANG. 1.4.4.2. The annual winner is a chaplain assistant selected as the outstanding ANG chaplain assistant based on demonstrated superior initiative, technical skill, training accomplishments or contribution to mission support; exhibition of leadership qualities in contributing to civic, cultural, or professional activities in the military or civilian community; and enrollment in off-duty programs of professional self-improvement. 1.5. Special Service Award: (No Specific Award Period) 1.5.1. Spirit of the Four Chaplains. This award, honoring the Four Chaplains of the WWII USAT Dorchester, encourages service before self and celebrates the Air Force’s religious diversity. This award is presented annually and recognizes those in the Chaplain Corps community who have given of themselves to enhance the spiritual lives of others. 1.5.1.1. Eligible candidates are Air Force chaplains, chaplain assistants, GS civilian employees (defined in para. 1.3.1.1.), and Chaplain Corps volunteers. 1.5.1.2. Any Air Force member may submit a nomination for this award. There are no limits to the number of nominations, however, the below guidance applies to nominations: 1.5.1.2.1. Individuals may not submit their current supervisor. 1.5.1.2.2. Nominations shall be no longer than one page and follow the example in Attachment 5. AFI36-2811 28 NOVEMBER 2014 5 Table 1. Eligibility and Suspenses by Award. TITLE OF AWARD ELIGIBILITY MAJCOM SUSPENSE AF/HCX SUSPENSE Charles I. Carpenter Award Team of ten or more 15 Jan 15 Feb military/civilian members Terrence P. Finnegan Team of five to nine 15 Jan 15 Feb Award military/civilian members Robert P. Taylor Award Team of two to four 15 Jan 15 Feb Outstanding RST Award Edwin R. Chess Award Gerrald Cullins Award Charles R. Meier Award Richard C. Schneider Award military/civilian members Active duty chaplain and chaplain assistant team at the tactical level Company Grade Chaplain SNCO Chaplain Assistant NCO Chaplain Assistant Amn Chaplain Assistant Civilian of the Year Award Any wing/installation-level Chaplain Corps GS, NAF, or Spirit of the Four Chaplains Award LN Any Chaplain Corps military member or civilian employee or volunteer 15 Jan 15 Feb 15 Jan 15 Jan 15 Jan 15 Jan 15 Feb 15 Feb 15 Feb 15 Feb 15 Jan 15 Feb N/A 15 Feb Thoralf T. Thielen Award Any Category A or B 15 Jan 15 Feb Reserve Chaplain Citizen Airman Award Any Category A or B 15 Jan 15 Feb Samuel Stone Award Minuteman Award 2. Nomination Process. Reserve Chaplain Assistant Any ANG Chaplain Any ANG Chaplain Assistant 15 Jan 15 Jan 15 Feb 15 Feb 2.1. Wings/installations will prepare a nomination package for each award category for which they are submitting a nomination. 2.1.1. All award packages (except the Spirit of the Four Chaplains Award; see Attachment 5 for template) must include the following: 2.1.1.1. Signed endorsement memo from the wing/installation commander. 2.1.1.2. Biographical sketch (Individual, Civilian and Air Reserve Component Award categories only). See Attachment 4 for a sample biographical sketch. 2.1.1.3. Completed AF Form 1206, Nomination for Award. 2.1.1.3.1. For all awards use only the front side of the form. The back side will be used (listed alphabetically). for acronyms and non-frequently used abbreviations 6 AFI36-2811 28 NOVEMBER 2014 2.1.1.3.2. Category headings will be in all capital letters. 2.1.1.3.3. Type the rank and name of the wing/installation commander, or equivalent, in the block titled “Rank/Name of Unit Commander.” 2.1.1.3.4. For all team award categories (including the Outstanding RST Award), limit accomplishments to 20 bullets; 15 bullets under Warrior Care, 3 bullets under Advisement to Leadership, and 2 bullets under Care for Chaplain Corps Caregivers. See Attachment 2 for template. 2.1.1.3.5. For all individual award categories, limit accomplishments to 10 bullets; 5 bullets under Leadership and Job Performance, 3 bullets under Significant Self-Improvement and 2 bullets under Base and/or Community Involvement. A statement must follow the bullets certifying that the individual meets Air Force physical fitness standards. It must read: “I certify the nominee for this award meets Air Force physical fitness standards.” See Attachment 3 for a template. 2.1.1.3.6. For the civilian award category, limit accomplishments to 10 bullets; 5 bullets under Leadership and Job Performance, 3 bullets under Significant Self-Improvement and 2 bullets under Contributing to Civic, Cultural or Professional Activities in the Military or Civilian Community. 2.1.1.3.7. Active duty wings/installations submit nominations to their respective MAJCOM-FOA-DRU/HC by 15 January in accordance with MAJCOM-FOA-DRU/HC procedures. 2.1.1.3.7.1. MAJCOM-FOA-DRU/HC will establish procedures for selecting respective MAJCOM-FOA-DRU/HC award winners. 2.1.1.3.7.2. MAJCOM-FOA-DRU/HC will forward winners’ packages to respective MAJCOM-FOA-DRU/CC, notifying them of their winners. 2.1.1.3.7.3. MAJCOM-FOA-DRU/HC will submit MAJCOM-FOA-DRU/HC award winners’ packages at usaf.pentagon.af-hc.mbx.af-hcx-workflow@mail.mil by 15 February for nomination for Air Force Chief of Chaplains-level awards. to HQ USAF/HCX electronically the wing/installation 2.2. Air Force Reserve nomination packages will be submitted directly to HQ AFRC/HC from at afrc.hcx@us.af.mil and afrc.hcc@us.af.mil by 15 January. HQ AFRC/HC will select their annual award winners and forward winner names to HQ USAF/HCX at usaf.pentagon.af-hc.mbx.af-hcx-workflow@mail.mil by 15 February. chapel or MAJCOM-FOA-DRU/HC via email 2.3. Air National Guard nomination packages will be sent through the individual’s state headquarters to the NGB/HC, via email at angrc.ngbhchcchaplaincorps@ang.af.mil by 15 November. The Director, NGB/HC will select their award winners and forward award winner names to HQ USAF/HCX at usaf.pentagon.af-hc.mbx.af-hcx-workflow@mail.mil by 15 February. 2.4. Do not send nominations for the Spirit of the Four Chaplains Award through MAJCOM-FOA-DRU/HC offices. Send directly to HQ USAF/HCX at usaf.pentagon.af-hc.mbx.af-hcx-workflow@mail.mil. AFI36-2811 28 NOVEMBER 2014 7 3. Selection Process. 3.1. A board comprised of individuals outside the Chaplain Corps will select Air Force Chief of Chaplains-level winners. AF/HCX will coordinate the board each year and will serve in a non-voting capacity as the board proctor and board recorder. 3.2. Names of selected winners will be forwarded to AF/HC. AF/HC will announce winners via email no later than 1 April. 4. Award Winner Recognition. 4.1. Award winners in all categories will be recognized and presented their respective award by AF/HC in a manner determined by the Air Force Chief of Chaplains. Local components and commanders may verbally acknowledge the award winners at events such as commanders’ calls and conferences. 4.2. Respective Air Reserve Component headquarters must work with the commanders of Air Reserve Component award winners to determine if unit funding is available that will allow winner(s) to be recognized and presented their awards at the date and location determined by AF/HC. 4.3. In the event award winners are not available to be recognized and presented their award, AF/HC will coordinate the presentation of the Air Force Chief of Chaplains-level award at the unit-level. 4.4. Refer to AFI 65-601V1, Budget Guidance and Procedures, AFI 36-2805, Special Trophies and Awards, paras 1.4. and 1.7., and, with regard to installations located outside the United States, any and all pertinent Status of Forces Agreements (SOFAs) or other supplementary Departmental guidance pertaining to official interactions with local national employees, for further guidance regarding funding for award elements. 4.4.1. Awards must be of nominal value. 4.4.2. Awards may not be redeemable for cash, merchandise, or services. 4.4.3. The cost of awards will be commensurate with the significance of the achievement being recognized. 4.4.4. Prior to providing any award possessing intrinsic value to a local national employee or volunteer, the local Chaplain will consult with the servicing Staff Judge Advocate to ensure compliance with local basing and other agreements, as well as applicable laws and regulations. 8 AFI36-2811 28 NOVEMBER 2014 5. Air Force Recognition Ribbon. 5.1. Recipients of Air Force Chief of Chaplains-level individual and the Spirit of the Four Chaplains awards are authorized to wear the Air Force Recognition ribbon in accordance with AFI 36-2805, Special Trophies and Awards, paragraph 1.8.1.2. 6. Withdrawal of an Award. The Air Force Chief of Chaplains may withdraw an award after the selection and prior to its presentation if determined that the award winner’s actions discredit themselves and bring dishonor to the Air Force Chaplain Corps. HOWARD D. STENDAHL Chaplain, Major General, USAF Chief of Chaplains AFI36-2811 28 NOVEMBER 2014 9 GLOSSARY OF REFERENCES AND SUPPORTING INFORMATION Attachment 1 References AFPD 36-28, Awards and Decorations Programs, 9 May 2014 AFI 36-2805, Special Trophies and Awards, 14 March 2013 AFI 65-601V1, Budget Guidance and Procedures, 16 August 2012 AFMAN 33-363, Management of Records, 1 March 2008 Adopted Forms AF Form 847, Recommendation for Change of Publication AF Form 1206, Nomination for Award Abbreviations and Acronyms AD—Active Duty AFI—Air Force Instruction AFPD—Air Force Policy Directive AFRC—Air Force Reserve Command DRU—Direct Reporting Unit FOA—Field Operating Agency GS—General Schedule RegAF—Regular Air Force LN—Local National MAJCOM—Major Command NGB—National Guard Bureau NAF—Non-appropriated Fund RST—Religious Support Team 10 AFI36-2811 28 NOVEMBER 2014 Attachment 2 SAMPLE NOMINATION PACKAGE FOR TEAM AWARDS Figure A2.1. SAMPLE NOMINATION PACKAGE FOR TEAM AWARDS The following are example entries for the AF Form 1206: AWARD. Name of the Award (e.g., Charles I. Carpenter Award) CATEGORY. Outstanding Large Chapel, Outstanding Medium Chapel, Outstanding Small Chapel, Outstanding RST AWARD PERIOD. 1 January-31 December (Year) RANK/NAME OF NOMINEE. Name of Chapel MAJCOM, FOA, DRU. Self-explanatory DAFSC/DUTY TITLE. Leave blank NOMINEE’S TELEPHONE through RANK/NAME OF UNIT COMMANDER. Self-explanatory SPECIFIC ACCOMPLISHMENTS. Use bullet-format under the following categories. FOCUS ON WARRIOR CARE ADVISEMENT TO LEADERSHIP CARE FOR CHAPLAIN CORPS CAREGIVERS AFI36-2811 28 NOVEMBER 2014 11 SAMPLE NOMINATION PACKAGE FOR INDIVIDUAL AWARDS Attachment 3 Figure A3.1. SAMPLE NOMINATION PACKAGE FOR INDIVIDUAL AWARDS The following are example entries for AF Form 1206: AWARD. Name of individual award (e.g., Richard C. Schneider Award) CATEGORY. Chaplain, SNCO, NCO, Airman, Civilian AWARD PERIOD. 1 January-31 December (Year) RANK/NAME OF NOMINEE through RANK/NAME OF UNIT COMMANDER. Self-explanatory SPECIFIC ACCOMPLISHMENTS. Use bullet format under the following categories. LEADERSHIP AND JOB PERFORMANCE SIGNIFICANT SELF-IMPROVEMENT BASE OR COMMUNITY INVOLVEMENT COMPLIANCE WITH STANDARDS I certify the nominee for this award meets Air Force physical fitness standards (for military members only) 12 AFI36-2811 28 NOVEMBER 2014 Attachment 4 SAMPLE BIOGRAPHY Figure A4.1. SAMPLE BIOGRAPHY JOHN Q. DOE AFSC: 5R051, Chaplain Assistant Senior Airman John Q. Doe is a Chaplain Assistant assigned to 123 AW/HC, Jones Air Force Base, Texas. Upon graduation and completion of his technical training school at Fort Jackson, South Carolina, he was assigned to his present duty station, arriving in January 2014. Since arriving at Jones AFB, he has served in a variety of positions including chapel facility manager and Individual Mobilization Augmentee training monitor. Airman Doe is an active member of the Big Brothers Association and assisted in the base annual Thanksgiving dinner to feed the homeless this past year. His military awards include the National Defense Service Medal and the Air Force Training Ribbon. He attends Lucas College in Smith, Texas and is working toward a Bachelor’s Degree in Business Administration. NOTE: Single-space the narrative portion of the biography. Double-space between name and AFSC. AFI36-2811 28 NOVEMBER 2014 13 Attachment 5 SAMPLE FORMAT FOR SPIRIT OF THE FOUR CHAPLAINS AWARD Figure A5.1. SAMPLE FORMAT FOR SPIRIT OF THE FOUR CHAPLAINS AWARD (APPROPRIATE OFFICIAL LETTERHEAD) Date MEMORANDUM FOR HQ USAF/HC FROM: Your Unit/Address SUBJECT: Spirit of the Four Chaplains Award Nomination I nominate (name, unit address or mailing address if not active duty) for the Spirit of the Four Chaplains award. Begin paragraph by explaining why you are nominating this individual, a specific event that made this individual special to you and how he/she has influenced your life through their selfless and sacrificial service. Include a closing line expressing gratitude for this individual. EXAMPLE: When I was assigned to Base X as a brand new airman basic I, like many others, had no sense of direction in my life. Soon after arriving at the base, I went to see a chaplain who got me and others involved with the singles ministry…there were several airmen who were struggling with the challenges of military life who found encouragement and help there. Chaplain XXXXX's commitment to our growth went beyond the base chapel. He mentored me as a Christian, an Airman, and later helped me recognize a calling to the ministry and with his encouragement I had the confidence to return to seminary. Thank you XXXXX for taking the time to notice me when so many others did not. Thank you for looking deeper into my life and into the lives of so many others and seeing what God could do. Thank you for the great love and commitment you gave all of us through your career. I thank God for you and only hope I can follow your example. Your Signature Block NOTE: Limit nomination to no more than one typed page \n"
     ]
    }
   ],
   "source": [
    "print(corpus_dict[key])"
   ]
  },
  {
   "cell_type": "code",
   "execution_count": 417,
   "metadata": {
    "scrolled": true
   },
   "outputs": [
    {
     "name": "stdout",
     "output_type": "stream",
     "text": [
      "BY ORDER OF THE  SECRETARY OF THE AIR FORCE AIR FORCE INSTRUCTION 36-2811 28 Publications and forms are available for downloading or ordering on the e-Publishing website at www.e-Publishing.af.mil. HQ USAF/HCX  Supersedes:   AFI 36-2811, 1 February 2006 Certified by: HQ USAF This  instruction  implements  AFPD  36-28,  Awards  and  Decorations  Programs. It  describes Chaplain  Corps  awards  presented  to  individuals  and  teams  in  recognition  of  their  outstanding service or contributions to the Chaplain Corps. It explains award eligibility, nomination criteria, and  procedures  for  nomination  and  winner  selection. This  instruction  applies  to  Regular  Air Force (RegAF), Air Reserve Component (ARC), and civilian personnel. Ensure that all records created as a result of processes prescribed in this publication are maintained in accordance with Air  Force  Manual  (AFMAN)  33-363,  Management  of  Records,  and  disposed  of  in  accordance with  the  Air  Force  Records  Disposition  Schedule  (RDS)  located  in  the  Air  Force  Records Information  Management  System  (AFRIMS)  Records  Disposition  Schedule  (RDS). AF/HCX, 1380 Air Force  Pentagon,  Room  4D286,  Washington,  DC  20330-1380,  using  Air  Force  Form  847, Recommendation  for  Change  of  Publication;  route  AF  Forms  847    through  the  appropriate functional chain of command. This publication may be supplemented at any level, but all direct supplements must be routed to the OPR of this publication for coordination prior to certification or  approval. In addition, an Outstanding Religious  Support  Team (RST) award has been  added as  well as  changes to  major headings in team award categories. This  awards  program  is  for  Air  Force  Chief  of  Chaplains-level awards  and  is  designed  to  foster  morale,  incentive  and  esprit-de-corps. Teams  and  individuals receiving  awards  under  this  program  must  clearly  demonstrate  sustained  and  superior performance. All  teams  and  individuals  submitted  who  meet  the  selection  criteria  will  be considered. This award honors the late Chaplain, Major General  Charles  I. Carpenter, USAF (Retired), the first Air Force Chief of Chaplains. Eligible candidates are wing/installation chapel teams with 10 or more RegAF military and General Schedule (GS) civilian employees authorized on the wing/installation unit manning document. This award honors the late Chaplain, Major General Terence P. Finnegan, USAF (Retired), the second  Air  Force  Chief  of  Chaplains. Eligible  candidates  are  wing/installation  chapel teams  with  five  to  nine  RegAF  military  and  GS  civilian  employees  authorized  on  the wing/installation unit manning document. This  award honors the late Chaplain, Major General Robert P. Taylor, USAF (Retired), the third Air Force  Chief  of  Chaplains. Eligible  candidates  are  wing/installation  chapel  teams  with two the wing/installation unit manning document. to  four  RegAF  military  and  GS  civilian  employees  authorized  on 1.1.4. Eligible RSTs include one active  duty  chaplain  and  chaplain  assistant  team  that  delivers  exemplary  performance providing  spiritual  care  at  the  tactical  level. RST  nominees  must  meet  Air  Force standards and be paired as an RST as part of the wing ministry plan. The  team  award  winners  are  selected  based  on  the  following  strategic  priorities (AF  Form  1206, Nomination for  Award headings): Focus on Warrior Care, Advisement to  Leadership,  and  Care  for  Chaplain  Corps  Caregivers. Joint  base  chapel  teams  are eligible  to  be  nominated  for  outstanding  large,  medium  or  small  chapel  team  awards; however,  they  must  meet  the  requirements  listed  in  the  above  paragraphs. Outstanding  Company  Grade  Chaplain  (Edwin  R.  Chess  Award). This award  honors  the  late  Chaplain,  Major  General  Edwin  R.  Chess,  USAF  (Retired),  the fourth Air Force Chief of Chaplains. Eligible candidates must meet Air Force standards and serve in  the  grade of O-3 or below as of 31  December during the  respective award period. Assistant  Senior  Noncommissioned  Officer  (Gerrald Cullins  Award). This  award  honors  the  late  Chief  Master  Sergeant  Gerrald  Cullins, USAF  (Retired),  the  first  Chaplain  Assistant  Career  Field  Manager  of  the  Air  Force  AFI36-2811  28 Eligible  candidates  must  meet  Air  Force  standards  and  serve  in  the grade of E-7 or E-8 as of 31 December during the respective award period. This award honors Chief Master Sergeant Charles R. Meier, USAF (Retired), the  second  Chaplain  Assistant  Career  Field  Manager  of  the  Air  Force  Chaplain  Corps. Eligible candidates must meet Air Force standards and serve in the grade of E-5 or E-6 as of 31 December during the respective award period. This  award  honors  Chief  Master  Sergeant  Richard  C.  Schneider,  USAF  (Retired),  the third Chaplain Assistant Career Field Manager of the Air Force Chaplain Corps. Eligible candidates must meet Air Force standards and serve in the grade of E-4 or below as of 31 December during the respective award period. The  individual  award  winners  must  be  Regular  Air  Force  members  and  are selected  based  on  the  following  three  categories  (AF  Form  1206  headings):  Leadership and  Job  Performance,  Significant  Self-Improvement,  and  Base  and/or  Community Involvement. This  award  is  presented  annually  to recognize an outstanding civilian employed in the Air Force Chaplain Corps. Eligible  candidates  are  all  civilian  (GS,  Non-Appropriated  Fund  (NAF),  or Local National (LN)) Selection  is  based  on  the  following  three  categories  (AF  Form  1206 headings):  Leadership  and  Job  Performance,  Significant  Self-Improvement,  and Contributing to Civic, Cultural, or Professional  Activities in the Military or Civilian community. This  award honors the late Chaplain, Major General Thoralf T. Thielen, USAFR (Retired) who was the first Air Force Reserve chaplain to obtain general officer rank. Eligible  candidates  must  meet  Air  Force  standards  and  are  Category The annual winner is an officer selected as the outstanding reserve chaplain based on training accomplishments or contributions to mission support; exhibition of leadership in contributing to civic, cultural, or professional activities in the military or civilian  community;  and  enrollment  in  off-duty  programs  of  professional  self-improvement. Outstanding  Reserve  Chaplain  Assistant  (Citizen  Airman  Award). This award is presented to an enlisted member of the Category A or Category B Air Reserve. Eligible  candidates  must  meet  Air  Force  standards  and  are  Category The annual winner is a chaplain assistant selected as the outstanding reserve chaplain  assistant  based  on  demonstrated  superior  initiative,  technical  skill,  training accomplishments or contribution to mission support; exhibition of leadership qualities in  contributing  to  civic,  cultural,  or  professional  activities  in  the  military  or  civilian community; and enrollment in off-duty programs of professional self-improvement. This award honors Chaplain Samuel Stone who was the first recorded chaplain to serve in the militia of colonial America. The  annual  winner  is  an  officer  selected  as  the  outstanding  ANG  chaplain based on training accomplishments or contributions to mission support; exhibition of leadership in contributing to civic, cultural, or professional activities in the military or civilian  community;  and  enrollment  in  off-duty  programs  of  professional  self-improvement. Outstanding  Air  National  Guard  Chaplain  Assistant (Minuteman Award). This  award  is  presented  annually  to  a  member  of  the  ANG  selected  as  the outstanding chaplain assistant of the year. Eligible candidates must meet Air Force standards and are chaplain assistants serving in the ANG. The  annual  winner  is  a  chaplain  assistant  selected  as  the  outstanding  ANG chaplain  assistant  based  on  demonstrated  superior  initiative,  technical  skill,  training accomplishments or contribution to mission support; exhibition of leadership qualities in  contributing  to  civic,  cultural,  or  professional  activities  in  the  military  or  civilian community; and enrollment in off-duty programs of professional self-improvement. This  award,  honoring  the  Four  Chaplains  of  the WWII  USAT  Dorchester,  encourages  service  before  self  and  celebrates  the  Air  Force’s religious  diversity. This  award  is  presented  annually  and  recognizes  those  in  the Chaplain Corps community who have given of themselves to enhance the spiritual lives of others. Eligible candidates are Air Force  chaplains, chaplain assistants,  GS  civilian employees (defined in para. There are no  limits  to  the  number  of  nominations,  however,  the  below  guidance  applies  to nominations: 1.5.1.2.1. Nominations shall be no longer than one page and follow the example in Attachment 5. SUSPENSE AF/HCX SUSPENSE Charles I. Carpenter Award Team of ten or more 15 Jan 15 Feb military/civilian members Terrence P. Finnegan Team of five to nine 15 Jan 15 Feb Award military/civilian members Robert P. Taylor Award Team of two to four 15 Jan 15 Feb Outstanding RST Award Edwin R. Chess Award Gerrald Cullins Award Charles R. Meier Award Richard C. Schneider Award military/civilian members Any wing/installation-level Chaplain Corps GS, NAF, or Spirit of the Four Chaplains Award LN Any Jan 15 Jan 15 Jan 15 Jan 15 Feb 15 Feb 15 Feb 15 Feb 15 Jan 15 Feb N/ Any ANG Chaplain Any ANG Chaplain Assistant 15 Jan 15 Jan 15 Feb 15 Feb 2.1. Wings/installations  will  prepare  a  nomination  package  for  each  award  category  for which they are submitting a nomination. All  award  packages  (except  the  Spirit  of  the  Four  Chaplains  Award;  see Attachment 5 for template) must include the following: 2.1.1.1. Biographical  sketch  (Individual,  Civilian  and  Air  Reserve  Component Award categories only). The back side will be  used (listed alphabetically). for  acronyms  and Type  the  rank  and  name  of  the  wing/installation  commander,  or equivalent, in the block titled “ For all team award categories (including the Outstanding RST Award), limit  accomplishments  to  20  bullets;  15  bullets  under  Warrior  Care,  3  bullets under  Advisement  to  Leadership,  and  2  bullets  under  Care  for  Chaplain  Corps Caregivers. For  all  individual  award  categories,  limit  accomplishments  to  10 bullets;  5  bullets  under  Leadership  and  Job  Performance,  3  bullets  under Significant  Self-Improvement  and  2  bullets  under  Base  and/or  Community Involvement. A  statement  must  follow  the  bullets  certifying  that  the  individual meets  Air Force physical  fitness standards. For the civilian award category, limit accomplishments to 10 bullets; 5 bullets  under  Leadership  and  Job  Performance,  3  bullets  under  Significant  Self-Improvement and 2 bullets  under Contributing to  Civic, Cultural  or Professional Activities in the Military or Civilian Community. Active  duty  wings/installations  submit  nominations  to  their  respective MAJCOM-FOA-DRU HC  by  15  January  in  accordance  with  MAJCOM-FOA-DRU/HC procedures. will  forward  winners’  packages  to respective MAJCOM-FOA-DRU/CC, notifying them of their winners. /HC will submit MAJCOM-FOA-DRU/HC award  winners’  packages at usaf.pentagon.af-hc.mbx.af-hcx-workflow@mail.mil  by  15  February  for nomination for Air Force Chief of Chaplains-level awards. to  HQ  USAF/HCX electronically the  wing/installation 2.2. Air  Force  Reserve  nomination  packages  will  be  submitted  directly  to  HQ  AFRC/HC from at afrc.hcx@us.af.mil and  afrc.hcc@us.af.mil by 15 January. /HC will select their annual  award  winners  and  forward  winner  names  to  HQ  USAF/HCX  at  usaf.pentagon.af-hc.mbx.af-hcx-workflow@mail.mil by 15 February. chapel  or  MAJCOM-FOA-DRU/HC  via email 2.3. Air  National  Guard  nomination  packages  will  be  sent  through  the  individual’s  state headquarters to the NGB/HC, via email at angrc.ngbhchcchaplaincorps@ang.af.mil by 15 November. The  Director,  NGB/HC  will  select  their  award  winners  and  forward  award winner names to  HQ USAF/HCX at  usaf.pentagon.af-hc.mbx.af-hcx-workflow@mail.mil by 15 February. Do  not  send  nominations  for  the  Spirit  of  the  Four  Chaplains  Award  through MAJCOM-FOA-DRU Send  directly  to  HQ  USAF/HCX  at  usaf.pentagon.af-hc.mbx.af-hcx-workflow@mail.mil. A board comprised of individuals outside the Chaplain Corps will select Air Force Chief of Chaplains-level winners. AF/HCX will coordinate the board each year and will serve in a non-voting capacity as the board proctor and board recorder. Award winners in all categories will be recognized and presented their respective award by AF/HC in a manner determined by the Air Force Chief of Chaplains. Local components and  commanders  may  verbally  acknowledge  the  award  winners  at  events  such  as commanders’ calls and conferences. Component  headquarters  must  work  with  the  commanders  of Air  Reserve  Component  award  winners  to  determine  if  unit  funding  is  available  that  will allow  winner(s)  to  be  recognized  and  presented  their  awards  at  the  date  and  location determined by AF/HC. In the event award winners are not available to be recognized and presented their award, AF/HC  will  coordinate  the  presentation  of  the  Air  Force  Chief  of  Chaplains-level  award  at the unit-level. Refer  to  AFI  65-601V1,  Budget  Guidance  and  Procedures,  AFI  36-2805,  Special Trophies and Awards, paras 1.4. and , and, with regard to installations located outside the United  States,  any  and  all  pertinent  Status  of  Forces Agreements  (SOFAs)  or  other supplementary  Departmental  guidance  pertaining  to  official  interactions  with  local  national employees, for further guidance regarding funding for award elements. The cost of awards will be commensurate with the significance of the achievement being recognized. Prior  to  providing  any  award  possessing  intrinsic  value  to  a  local  national employee  or  volunteer,  the  local  Chaplain  will  consult  with  the  servicing  Staff  Judge Advocate  to  ensure  compliance  with  local  basing  and  other  agreements,  as  well  as applicable laws and regulations. Recipients  of  Air  Force  Chief  of  Chaplains-level individual  and  the  Spirit  of  the  Four Chaplains  awards  are  authorized  to  wear  the  Air  Force Recognition  ribbon  in  accordance with AFI 36-2805, Special Trophies and Awards, paragraph 1.8.1.2. The Air Force Chief of Chaplains may withdraw an award after the selection and prior to its presentation if determined that the award winner’s actions discredit themselves and bring dishonor to the Air Force Chaplain Corps. HOWARD D. STENDAHL Chaplain, Major General, USAF Chief of Chaplains  AFI36-2811  28 NOVEMBER 2014   9  GLOSSARY OF REFERENCES AND SUPPORTING INFORMATION Attachment 1 References AFPD 36-28, Awards and Decorations Programs, 9 May 2014 AFI 36-2805, Special Trophies and Awards, 14 March 2013 16 August 2012 AFMAN 33-363, Management of Records, 1 March 2008 Adopted Forms AF Form 847, Recommendation for Change of Publication AF Form 1206, Nomination for Award Abbreviations and Acronyms AD— Outstanding Large Chapel, Outstanding Medium Chapel, Outstanding Small Chapel, Outstanding RST AWARD PERIOD. 1 January-31 December (Year) . 1 January-31 December (Year) RANK/NAME OF NOMINEE through RANK/NAME OF UNIT COMMANDER. COMMUNITY INVOLVEMENT COMPLIANCE WITH STANDARDS I certify the nominee for this award meets Air Force physical fitness standards (for military members only)      12  AFI36-2811  28 Assistant Senior Airman John Q. Doe is a Chaplain Assistant assigned to 123 AW/HC, Jones Air Force Base, Texas. Upon graduation and completion of his technical training school at Fort Jackson, South Carolina, he was assigned to his present duty station, arriving in January 2014. Since arriving at Jones AFB, he has served in a variety of positions including chapel facility manager and Individual Mobilization Augmentee training monitor. Airman Doe is an active member of the Big Brothers Association and assisted in the base annual Thanksgiving dinner to feed the homeless this past year. His military awards include the National Defense Service Medal and the Air Force Training Ribbon. He attends Lucas College in Smith, Texas and is working toward a Bachelor’s Degree in Business Administration. 28 NOVEMBER 2014   13  Attachment 5 SAMPLE FORMAT FOR SPIRIT OF THE FOUR CHAPLAINS SAMPLE FORMAT FOR SPIRIT OF THE FOUR CHAPLAINS AWARD (APPROPRIATE OFFICIAL LETTERHEAD)    Date  MEMORANDUM FOR HQ USAF Spirit of the Four Chaplains Award Nomination  I nominate (name, unit address or mailing address if not active duty) for the Spirit of the Four Chaplains award. Begin paragraph by explaining why  you are nominating this individual, a specific event that  made  this  individual  special  to  you  and  how  he/she  has  influenced  your  life  through  their selfless and sacrificial service. When  I was assigned to  Base X as  a brand new  airman basic  I, like many others,  had  no  sense  of  direction  in  my  life. Soon  after  arriving  at  the  base,  I  went  to  see  a chaplain who got me and others involved with the singles ministry …there were several  airmen who  were  struggling  with  the  challenges  of  military  life  who  found  encouragement  and  help there. He mentored me as a Christian, an  Airman, and later helped me recognize a calling to the ministry and with his encouragement I had the confidence to return to seminary. Thank you XXXXX for taking the time to notice me when so many others did not. Thank you  for  looking  deeper  into  my  life  and  into  the  lives  of  so  many  others  and  seeing  what  God could do. Thank you for the great love and commitment you gave all of us through your career.\n"
     ]
    }
   ],
   "source": [
    "print(pruned_dict[key])"
   ]
  },
  {
   "cell_type": "code",
   "execution_count": 376,
   "metadata": {},
   "outputs": [
    {
     "name": "stderr",
     "output_type": "stream",
     "text": [
      "  3%|▎         | 17683/650370 [06:45<4:01:57, 43.58it/s]"
     ]
    },
    {
     "ename": "KeyboardInterrupt",
     "evalue": "",
     "output_type": "error",
     "traceback": [
      "\u001b[0;31m---------------------------------------------------------------------------\u001b[0m",
      "\u001b[0;31mKeyboardInterrupt\u001b[0m                         Traceback (most recent call last)",
      "\u001b[0;32m<ipython-input-376-30adea73a672>\u001b[0m in \u001b[0;36m<module>\u001b[0;34m()\u001b[0m\n\u001b[0;32m----> 1\u001b[0;31m \u001b[0msimilarity_graph\u001b[0m \u001b[0;34m=\u001b[0m \u001b[0mmake_similarity_graph\u001b[0m\u001b[0;34m(\u001b[0m\u001b[0mpruned_dict\u001b[0m\u001b[0;34m,\u001b[0m\u001b[0msample\u001b[0m\u001b[0;34m=\u001b[0m\u001b[0;32mNone\u001b[0m\u001b[0;34m)\u001b[0m\u001b[0;34m\u001b[0m\u001b[0m\n\u001b[0m",
      "\u001b[0;32m<ipython-input-374-2c4e1771ffda>\u001b[0m in \u001b[0;36mmake_similarity_graph\u001b[0;34m(doc_dict, sample)\u001b[0m\n\u001b[1;32m     20\u001b[0m         \u001b[0mseries_same\u001b[0m \u001b[0;34m=\u001b[0m \u001b[0mpair\u001b[0m\u001b[0;34m[\u001b[0m\u001b[0;36m0\u001b[0m\u001b[0;34m]\u001b[0m\u001b[0;34m.\u001b[0m\u001b[0msplit\u001b[0m\u001b[0;34m(\u001b[0m\u001b[0;34m'-'\u001b[0m\u001b[0;34m)\u001b[0m\u001b[0;34m[\u001b[0m\u001b[0;36m0\u001b[0m\u001b[0;34m]\u001b[0m\u001b[0;34m[\u001b[0m\u001b[0;34m-\u001b[0m\u001b[0;36m2\u001b[0m\u001b[0;34m:\u001b[0m\u001b[0;34m]\u001b[0m \u001b[0;34m==\u001b[0m \u001b[0mpair\u001b[0m\u001b[0;34m[\u001b[0m\u001b[0;36m1\u001b[0m\u001b[0;34m]\u001b[0m\u001b[0;34m.\u001b[0m\u001b[0msplit\u001b[0m\u001b[0;34m(\u001b[0m\u001b[0;34m'-'\u001b[0m\u001b[0;34m)\u001b[0m\u001b[0;34m[\u001b[0m\u001b[0;36m0\u001b[0m\u001b[0;34m]\u001b[0m\u001b[0;34m[\u001b[0m\u001b[0;34m-\u001b[0m\u001b[0;36m2\u001b[0m\u001b[0;34m:\u001b[0m\u001b[0;34m]\u001b[0m\u001b[0;34m\u001b[0m\u001b[0m\n\u001b[1;32m     21\u001b[0m         \u001b[0;32mtry\u001b[0m\u001b[0;34m:\u001b[0m\u001b[0;34m\u001b[0m\u001b[0m\n\u001b[0;32m---> 22\u001b[0;31m             \u001b[0mgraph\u001b[0m\u001b[0;34m.\u001b[0m\u001b[0madd_edge\u001b[0m\u001b[0;34m(\u001b[0m\u001b[0mpair\u001b[0m\u001b[0;34m[\u001b[0m\u001b[0;36m0\u001b[0m\u001b[0;34m]\u001b[0m\u001b[0;34m,\u001b[0m\u001b[0mpair\u001b[0m\u001b[0;34m[\u001b[0m\u001b[0;36m1\u001b[0m\u001b[0;34m]\u001b[0m\u001b[0;34m,\u001b[0m\u001b[0mweight\u001b[0m\u001b[0;34m=\u001b[0m\u001b[0mcompare_docs\u001b[0m\u001b[0;34m(\u001b[0m\u001b[0mdoc_dict\u001b[0m\u001b[0;34m[\u001b[0m\u001b[0mpair\u001b[0m\u001b[0;34m[\u001b[0m\u001b[0;36m0\u001b[0m\u001b[0;34m]\u001b[0m\u001b[0;34m]\u001b[0m\u001b[0;34m,\u001b[0m\u001b[0mdoc_dict\u001b[0m\u001b[0;34m[\u001b[0m\u001b[0mpair\u001b[0m\u001b[0;34m[\u001b[0m\u001b[0;36m1\u001b[0m\u001b[0;34m]\u001b[0m\u001b[0;34m]\u001b[0m\u001b[0;34m)\u001b[0m\u001b[0;34m,\u001b[0m\u001b[0mlabel\u001b[0m\u001b[0;34m=\u001b[0m\u001b[0;34m\"{}${}\"\u001b[0m\u001b[0;34m.\u001b[0m\u001b[0mformat\u001b[0m\u001b[0;34m(\u001b[0m\u001b[0mpair\u001b[0m\u001b[0;34m[\u001b[0m\u001b[0;36m0\u001b[0m\u001b[0;34m]\u001b[0m\u001b[0;34m,\u001b[0m\u001b[0mpair\u001b[0m\u001b[0;34m[\u001b[0m\u001b[0;36m1\u001b[0m\u001b[0;34m]\u001b[0m\u001b[0;34m)\u001b[0m\u001b[0;34m,\u001b[0m \u001b[0msameseries\u001b[0m\u001b[0;34m=\u001b[0m\u001b[0mseries_same\u001b[0m\u001b[0;34m)\u001b[0m\u001b[0;34m\u001b[0m\u001b[0m\n\u001b[0m\u001b[1;32m     23\u001b[0m         \u001b[0;32mexcept\u001b[0m \u001b[0mValueError\u001b[0m \u001b[0;32mas\u001b[0m \u001b[0me\u001b[0m\u001b[0;34m:\u001b[0m\u001b[0;34m\u001b[0m\u001b[0m\n\u001b[1;32m     24\u001b[0m             \u001b[0mprint\u001b[0m\u001b[0;34m(\u001b[0m\u001b[0;34m\"{e}\"\u001b[0m\u001b[0;34m)\u001b[0m\u001b[0;34m\u001b[0m\u001b[0m\n",
      "\u001b[0;32m<ipython-input-306-bff9479d08e0>\u001b[0m in \u001b[0;36mcompare_docs\u001b[0;34m(doc1, doc2)\u001b[0m\n\u001b[1;32m      2\u001b[0m \u001b[0;34m\u001b[0m\u001b[0m\n\u001b[1;32m      3\u001b[0m \u001b[0;32mdef\u001b[0m \u001b[0mcompare_docs\u001b[0m\u001b[0;34m(\u001b[0m\u001b[0mdoc1\u001b[0m\u001b[0;34m,\u001b[0m\u001b[0mdoc2\u001b[0m\u001b[0;34m)\u001b[0m\u001b[0;34m:\u001b[0m\u001b[0;34m\u001b[0m\u001b[0m\n\u001b[0;32m----> 4\u001b[0;31m     \u001b[0mtfidf\u001b[0m \u001b[0;34m=\u001b[0m \u001b[0mTfidfVectorizer\u001b[0m\u001b[0;34m(\u001b[0m\u001b[0;34m)\u001b[0m\u001b[0;34m.\u001b[0m\u001b[0mfit_transform\u001b[0m\u001b[0;34m(\u001b[0m\u001b[0;34m[\u001b[0m\u001b[0mdoc1\u001b[0m\u001b[0;34m,\u001b[0m \u001b[0mdoc2\u001b[0m\u001b[0;34m]\u001b[0m\u001b[0;34m)\u001b[0m\u001b[0;34m\u001b[0m\u001b[0m\n\u001b[0m\u001b[1;32m      5\u001b[0m     \u001b[0mdiffs\u001b[0m \u001b[0;34m=\u001b[0m \u001b[0mlist\u001b[0m\u001b[0;34m(\u001b[0m\u001b[0;34m(\u001b[0m\u001b[0mtfidf\u001b[0m \u001b[0;34m*\u001b[0m \u001b[0mtfidf\u001b[0m\u001b[0;34m.\u001b[0m\u001b[0mT\u001b[0m\u001b[0;34m)\u001b[0m\u001b[0;34m.\u001b[0m\u001b[0mA\u001b[0m\u001b[0;34m)\u001b[0m\u001b[0;34m\u001b[0m\u001b[0m\n\u001b[1;32m      6\u001b[0m     \u001b[0;32mreturn\u001b[0m \u001b[0mdiffs\u001b[0m\u001b[0;34m[\u001b[0m\u001b[0;36m0\u001b[0m\u001b[0;34m]\u001b[0m\u001b[0;34m[\u001b[0m\u001b[0;36m1\u001b[0m\u001b[0;34m]\u001b[0m\u001b[0;34m\u001b[0m\u001b[0m\n",
      "\u001b[0;32m/usr/local/lib/python3.6/dist-packages/sklearn/feature_extraction/text.py\u001b[0m in \u001b[0;36mfit_transform\u001b[0;34m(self, raw_documents, y)\u001b[0m\n\u001b[1;32m   1379\u001b[0m             \u001b[0mTf\u001b[0m\u001b[0;34m-\u001b[0m\u001b[0midf\u001b[0m\u001b[0;34m-\u001b[0m\u001b[0mweighted\u001b[0m \u001b[0mdocument\u001b[0m\u001b[0;34m-\u001b[0m\u001b[0mterm\u001b[0m \u001b[0mmatrix\u001b[0m\u001b[0;34m.\u001b[0m\u001b[0;34m\u001b[0m\u001b[0m\n\u001b[1;32m   1380\u001b[0m         \"\"\"\n\u001b[0;32m-> 1381\u001b[0;31m         \u001b[0mX\u001b[0m \u001b[0;34m=\u001b[0m \u001b[0msuper\u001b[0m\u001b[0;34m(\u001b[0m\u001b[0mTfidfVectorizer\u001b[0m\u001b[0;34m,\u001b[0m \u001b[0mself\u001b[0m\u001b[0;34m)\u001b[0m\u001b[0;34m.\u001b[0m\u001b[0mfit_transform\u001b[0m\u001b[0;34m(\u001b[0m\u001b[0mraw_documents\u001b[0m\u001b[0;34m)\u001b[0m\u001b[0;34m\u001b[0m\u001b[0m\n\u001b[0m\u001b[1;32m   1382\u001b[0m         \u001b[0mself\u001b[0m\u001b[0;34m.\u001b[0m\u001b[0m_tfidf\u001b[0m\u001b[0;34m.\u001b[0m\u001b[0mfit\u001b[0m\u001b[0;34m(\u001b[0m\u001b[0mX\u001b[0m\u001b[0;34m)\u001b[0m\u001b[0;34m\u001b[0m\u001b[0m\n\u001b[1;32m   1383\u001b[0m         \u001b[0;31m# X is already a transformed view of raw_documents so\u001b[0m\u001b[0;34m\u001b[0m\u001b[0;34m\u001b[0m\u001b[0m\n",
      "\u001b[0;32m/usr/local/lib/python3.6/dist-packages/sklearn/feature_extraction/text.py\u001b[0m in \u001b[0;36mfit_transform\u001b[0;34m(self, raw_documents, y)\u001b[0m\n\u001b[1;32m    867\u001b[0m \u001b[0;34m\u001b[0m\u001b[0m\n\u001b[1;32m    868\u001b[0m         vocabulary, X = self._count_vocab(raw_documents,\n\u001b[0;32m--> 869\u001b[0;31m                                           self.fixed_vocabulary_)\n\u001b[0m\u001b[1;32m    870\u001b[0m \u001b[0;34m\u001b[0m\u001b[0m\n\u001b[1;32m    871\u001b[0m         \u001b[0;32mif\u001b[0m \u001b[0mself\u001b[0m\u001b[0;34m.\u001b[0m\u001b[0mbinary\u001b[0m\u001b[0;34m:\u001b[0m\u001b[0;34m\u001b[0m\u001b[0m\n",
      "\u001b[0;32m/usr/local/lib/python3.6/dist-packages/sklearn/feature_extraction/text.py\u001b[0m in \u001b[0;36m_count_vocab\u001b[0;34m(self, raw_documents, fixed_vocab)\u001b[0m\n\u001b[1;32m    790\u001b[0m         \u001b[0;32mfor\u001b[0m \u001b[0mdoc\u001b[0m \u001b[0;32min\u001b[0m \u001b[0mraw_documents\u001b[0m\u001b[0;34m:\u001b[0m\u001b[0;34m\u001b[0m\u001b[0m\n\u001b[1;32m    791\u001b[0m             \u001b[0mfeature_counter\u001b[0m \u001b[0;34m=\u001b[0m \u001b[0;34m{\u001b[0m\u001b[0;34m}\u001b[0m\u001b[0;34m\u001b[0m\u001b[0m\n\u001b[0;32m--> 792\u001b[0;31m             \u001b[0;32mfor\u001b[0m \u001b[0mfeature\u001b[0m \u001b[0;32min\u001b[0m \u001b[0manalyze\u001b[0m\u001b[0;34m(\u001b[0m\u001b[0mdoc\u001b[0m\u001b[0;34m)\u001b[0m\u001b[0;34m:\u001b[0m\u001b[0;34m\u001b[0m\u001b[0m\n\u001b[0m\u001b[1;32m    793\u001b[0m                 \u001b[0;32mtry\u001b[0m\u001b[0;34m:\u001b[0m\u001b[0;34m\u001b[0m\u001b[0m\n\u001b[1;32m    794\u001b[0m                     \u001b[0mfeature_idx\u001b[0m \u001b[0;34m=\u001b[0m \u001b[0mvocabulary\u001b[0m\u001b[0;34m[\u001b[0m\u001b[0mfeature\u001b[0m\u001b[0;34m]\u001b[0m\u001b[0;34m\u001b[0m\u001b[0m\n",
      "\u001b[0;31mKeyboardInterrupt\u001b[0m: "
     ]
    }
   ],
   "source": [
    "#similarity_graph = make_similarity_graph(pruned_dict,sample=None)"
   ]
  },
  {
   "cell_type": "code",
   "execution_count": 368,
   "metadata": {},
   "outputs": [
    {
     "data": {
      "text/plain": [
       "True"
      ]
     },
     "execution_count": 368,
     "metadata": {},
     "output_type": "execute_result"
    }
   ],
   "source": [
    "doc_a, doc_b = list(similarity_graph.edges())[3]\n",
    "similarity_graph.edges()[list(similarity_graph.edges())[3]]['weight'] == compare_docs(pruned_dict[doc_a],pruned_dict[doc_b])"
   ]
  },
  {
   "cell_type": "code",
   "execution_count": 369,
   "metadata": {},
   "outputs": [],
   "source": [
    "# Trim graphs lower similarity\n",
    "def prune_similarity_graph(graph,floor=0.4):\n",
    "    removal_candidates = []\n",
    "    for edge in graph.edges():\n",
    "        if graph.edges()[edge]['weight'] < floor:\n",
    "            removal_candidates.append((edge[0],edge[1]))\n",
    "    # remove low weight edges\n",
    "    graph.remove_edges_from(removal_candidates)\n",
    "    # remove isolate nodes\n",
    "    graph.remove_nodes_from(list(nx.isolates(graph)))\n",
    "    return graph"
   ]
  },
  {
   "cell_type": "code",
   "execution_count": 370,
   "metadata": {},
   "outputs": [],
   "source": [
    "pruned_similarity = prune_similarity_graph(similarity_graph)"
   ]
  },
  {
   "cell_type": "code",
   "execution_count": 371,
   "metadata": {},
   "outputs": [],
   "source": [
    "nx.write_gml(pruned_similarity,'afi_cosine_pruned.gml')"
   ]
  },
  {
   "cell_type": "code",
   "execution_count": null,
   "metadata": {},
   "outputs": [],
   "source": []
  }
 ],
 "metadata": {
  "kernelspec": {
   "display_name": "Python 3",
   "language": "python",
   "name": "python3"
  },
  "language_info": {
   "codemirror_mode": {
    "name": "ipython",
    "version": 3
   },
   "file_extension": ".py",
   "mimetype": "text/x-python",
   "name": "python",
   "nbconvert_exporter": "python",
   "pygments_lexer": "ipython3",
   "version": "3.6.3"
  },
  "toc": {
   "colors": {
    "hover_highlight": "#DAA520",
    "navigate_num": "#000000",
    "navigate_text": "#333333",
    "running_highlight": "#FF0000",
    "selected_highlight": "#FFD700",
    "sidebar_border": "#EEEEEE",
    "wrapper_background": "#FFFFFF"
   },
   "moveMenuLeft": true,
   "nav_menu": {
    "height": "12px",
    "width": "252px"
   },
   "navigate_menu": true,
   "number_sections": true,
   "sideBar": true,
   "threshold": 4,
   "toc_cell": false,
   "toc_section_display": "block",
   "toc_window_display": false,
   "widenNotebook": false
  }
 },
 "nbformat": 4,
 "nbformat_minor": 2
}
