{
 "cells": [
  {
   "cell_type": "code",
   "execution_count": 1,
   "metadata": {
    "collapsed": true
   },
   "outputs": [],
   "source": [
    "import topycal\n",
    "import os\n",
    "import glob\n",
    "import random\n",
    "\n",
    "INSTR_PATH = os.path.join(os.getcwd(),\"afi_txt\")"
   ]
  },
  {
   "cell_type": "code",
   "execution_count": 2,
   "metadata": {
    "collapsed": true
   },
   "outputs": [],
   "source": [
    "from concurrent.futures import ThreadPoolExecutor, wait, as_completed\n",
    "def do_fn_on_iter(fn, iterator, num_threads=6):\n",
    "    futures = []\n",
    "    if isinstance(num_threads, str):\n",
    "        num_threads = int(num_threads)\n",
    "    with ThreadPoolExecutor(max_workers=num_threads) as executor:\n",
    "        for elem in iterator:\n",
    "            futures.append(executor.submit(fn, elem))\n",
    "    results = []\n",
    "    for x in as_completed(futures):\n",
    "        results.append(x.result())\n",
    "    return results\n"
   ]
  },
  {
   "cell_type": "code",
   "execution_count": 3,
   "metadata": {
    "collapsed": true
   },
   "outputs": [],
   "source": [
    "def get_file_list(limit=500, shuffle=True):\n",
    "    files = glob.glob(\"{}/afi*.txt\".format(INSTR_PATH))\n",
    "    if shuffle:\n",
    "        random.shuffle(files)\n",
    "    if limit:\n",
    "        return files[0:limit]\n",
    "    else:\n",
    "        return files\n",
    "    #data = myfile.read()\n",
    "    \n",
    "def read_file(fname):\n",
    "    with open(fname, errors='replace') as fd:\n",
    "        return fd.read()"
   ]
  },
  {
   "cell_type": "code",
   "execution_count": 4,
   "metadata": {
    "collapsed": true
   },
   "outputs": [],
   "source": [
    "file_list = get_file_list(limit=None)\n"
   ]
  },
  {
   "cell_type": "code",
   "execution_count": 5,
   "metadata": {
    "collapsed": true
   },
   "outputs": [],
   "source": [
    "import re\n",
    "import os\n",
    "\n",
    "def load_file(fname):       \n",
    "    with open(fname, 'r') as myfile:\n",
    "        contents = re.sub(r'[\\t\\n\\r\\x0b\\x0c]',' ', myfile.read())\n",
    "        return (os.path.basename(fname),re.sub(\"\\s+\",' ', contents))\n",
    "\n",
    "def load_corpus(file_list):\n",
    "    return {f[0]:f[1] for f in do_fn_on_iter(load_file, file_list)}    "
   ]
  },
  {
   "cell_type": "code",
   "execution_count": 6,
   "metadata": {
    "collapsed": true
   },
   "outputs": [],
   "source": [
    "corpus_dict = load_corpus(file_list)"
   ]
  },
  {
   "cell_type": "code",
   "execution_count": 7,
   "metadata": {
    "collapsed": true
   },
   "outputs": [],
   "source": [
    "import spacy\n",
    "nlp = spacy.load(\"en_core_web_md\")"
   ]
  },
  {
   "cell_type": "markdown",
   "metadata": {},
   "source": [
    "For each document, we sentence segment then create a basket based on the 64bit murmurhash (after whitespace trimming and checking for a minimum sentence threshold)."
   ]
  },
  {
   "cell_type": "code",
   "execution_count": 8,
   "metadata": {
    "collapsed": true
   },
   "outputs": [],
   "source": [
    "import mmh3\n",
    "\n",
    "from tqdm import tqdm\n",
    "from collections import defaultdict\n",
    "\n",
    "MIN_SENT_LEN = 15\n",
    "\n",
    "def do_market_basket_analysis(doc_dict):\n",
    "    baskets = defaultdict(set)\n",
    "    for k,v in tqdm(doc_dict.items()):\n",
    "        for sent in nlp(v).sents:\n",
    "            if len(sent) > MIN_SENT_LEN:\n",
    "                baskets[mmh3.hash64(sent.text.strip())].add(k)\n",
    "    return baskets"
   ]
  },
  {
   "cell_type": "code",
   "execution_count": 9,
   "metadata": {
    "collapsed": false
   },
   "outputs": [
    {
     "name": "stderr",
     "output_type": "stream",
     "text": [
      "100%|██████████| 1141/1141 [22:28<00:00,  1.18s/it]\n"
     ]
    }
   ],
   "source": [
    "baskets = do_market_basket_analysis(corpus_dict)"
   ]
  },
  {
   "cell_type": "markdown",
   "metadata": {},
   "source": [
    "Each basket is trimmed based on being a certain minimum size.. logic here is to reduce noise."
   ]
  },
  {
   "cell_type": "code",
   "execution_count": 10,
   "metadata": {
    "collapsed": true
   },
   "outputs": [],
   "source": [
    "# trim baskets\n",
    "\n",
    "def trim_baskets(baskets, min_size=3):\n",
    "    return {k:v for k,v in tqdm(baskets.items()) if len(v) > min_size}\n"
   ]
  },
  {
   "cell_type": "code",
   "execution_count": 11,
   "metadata": {
    "collapsed": false
   },
   "outputs": [
    {
     "name": "stderr",
     "output_type": "stream",
     "text": [
      "100%|██████████| 509336/509336 [00:00<00:00, 1319543.97it/s]\n"
     ]
    }
   ],
   "source": [
    "trimmed_baskets = trim_baskets(baskets, min_size=4)"
   ]
  },
  {
   "cell_type": "code",
   "execution_count": 12,
   "metadata": {
    "collapsed": false
   },
   "outputs": [
    {
     "data": {
      "text/plain": [
       "509336"
      ]
     },
     "execution_count": 12,
     "metadata": {},
     "output_type": "execute_result"
    }
   ],
   "source": [
    "len(list(baskets.items()))"
   ]
  },
  {
   "cell_type": "code",
   "execution_count": 13,
   "metadata": {
    "collapsed": false
   },
   "outputs": [
    {
     "data": {
      "text/plain": [
       "3030"
      ]
     },
     "execution_count": 13,
     "metadata": {},
     "output_type": "execute_result"
    }
   ],
   "source": [
    "len(list(trimmed_baskets.items()))"
   ]
  },
  {
   "cell_type": "markdown",
   "metadata": {},
   "source": [
    "Now we build a graph from the baskets, each combination of documents in each bucket is related to each other.. and the edge weight between documents is based on how many buckets they share. We also determine series here and enrich the node with that, so we can compare how links within or across series work."
   ]
  },
  {
   "cell_type": "code",
   "execution_count": 14,
   "metadata": {
    "collapsed": true
   },
   "outputs": [],
   "source": [
    "import networkx as nx\n",
    "from itertools import combinations\n",
    "# Build a weighted graph from the baskets\n",
    "\n",
    "def traverse_baskets(baskets):   \n",
    "    graph = nx.Graph()\n",
    "    for k,v in baskets.items():\n",
    "        combs = combinations(v, 2)\n",
    "        for comb in combs:\n",
    "            # ensure nodes exist\n",
    "            if comb[0] not in graph:\n",
    "                graph.add_node(comb[0], series=comb[0].split('-')[0][-2:]) # split on '-' and take the last 2 chars from first part of split result\n",
    "            if comb[1] not in graph:\n",
    "                graph.add_node(comb[1], series=comb[1].split('-')[0][-2:]) # e.g. afi_12-21 -> 12; afi12-22 -> 12\n",
    "            \n",
    "            # if already exists, increment\n",
    "            if comb[0] in graph[comb[1]]:\n",
    "                curr_wt = graph.edges[comb[0], comb[1]]['weight']\n",
    "                series_same = comb[0].split('-')[0][-2:] == comb[1].split('-')[0][-2:]\n",
    "                graph.add_edge(comb[0],comb[1], weight=curr_wt+1, label=\"{}-{}\".format(comb[0],comb[1]),sameseries=\"{}\".format(series_same))\n",
    "            # create new link\n",
    "            else:\n",
    "                series_same = comb[0].split('-')[0][-2:] == comb[1].split('-')[0][-2:]\n",
    "                graph.add_edge(comb[0],comb[1], weight=1, label=\"{}-{}\".format(comb[0],comb[1]), sameseries=\"{}\".format(series_same))\n",
    "    return graph\n",
    "            \n",
    "        "
   ]
  },
  {
   "cell_type": "code",
   "execution_count": 15,
   "metadata": {
    "collapsed": true
   },
   "outputs": [],
   "source": [
    "graph = traverse_baskets(trimmed_baskets)"
   ]
  },
  {
   "cell_type": "code",
   "execution_count": 16,
   "metadata": {
    "collapsed": false
   },
   "outputs": [
    {
     "data": {
      "text/plain": [
       "111646"
      ]
     },
     "execution_count": 16,
     "metadata": {},
     "output_type": "execute_result"
    }
   ],
   "source": [
    "len(graph.edges())"
   ]
  },
  {
   "cell_type": "markdown",
   "metadata": {},
   "source": [
    "More noise reduction.. prune nodes/edges that only share 1 bucket."
   ]
  },
  {
   "cell_type": "code",
   "execution_count": 17,
   "metadata": {
    "collapsed": true
   },
   "outputs": [],
   "source": [
    "# Trim graphs with only 1 link\n",
    "def prune_graph(graph):\n",
    "    removal_candidates = []\n",
    "    for edge in graph.edges():\n",
    "        if graph.edges()[edge]['weight'] < 2:\n",
    "            removal_candidates.append((edge[0],edge[1]))\n",
    "    # remove low weight edges\n",
    "    graph.remove_edges_from(removal_candidates)\n",
    "    # remove isolate nodes\n",
    "    graph.remove_nodes_from(list(nx.isolates(graph)))\n",
    "    return graph"
   ]
  },
  {
   "cell_type": "code",
   "execution_count": 18,
   "metadata": {
    "collapsed": true
   },
   "outputs": [],
   "source": [
    "pruned_graph = prune_graph(graph)"
   ]
  },
  {
   "cell_type": "code",
   "execution_count": 19,
   "metadata": {
    "collapsed": false
   },
   "outputs": [
    {
     "data": {
      "text/plain": [
       "33631"
      ]
     },
     "execution_count": 19,
     "metadata": {},
     "output_type": "execute_result"
    }
   ],
   "source": [
    "len(pruned_graph.edges())"
   ]
  },
  {
   "cell_type": "markdown",
   "metadata": {},
   "source": [
    "Save as GML"
   ]
  },
  {
   "cell_type": "code",
   "execution_count": 20,
   "metadata": {
    "collapsed": true
   },
   "outputs": [],
   "source": [
    "nx.write_gml(pruned_graph,'afi_mba_pruned.gml')"
   ]
  },
  {
   "cell_type": "code",
   "execution_count": null,
   "metadata": {
    "collapsed": true
   },
   "outputs": [],
   "source": []
  },
  {
   "cell_type": "markdown",
   "metadata": {},
   "source": [
    "We can also use the trimmed basket keys as a starting point for sentences that are very common in the corpus.. now if we remove those and then perform a conventional cosine similarity or other affinity analysis; we are effectively excluding the facsimile sentences. Again we exclude shorter sentences to reduce noise from outlines, etc."
   ]
  },
  {
   "cell_type": "code",
   "execution_count": 21,
   "metadata": {
    "collapsed": true
   },
   "outputs": [],
   "source": [
    "redundant_sent_hashes = list(trimmed_baskets.keys())"
   ]
  },
  {
   "cell_type": "code",
   "execution_count": 22,
   "metadata": {
    "collapsed": true
   },
   "outputs": [],
   "source": [
    "import mmh3\n",
    "\n",
    "from tqdm import tqdm\n",
    "from collections import defaultdict\n",
    "\n",
    "MIN_SENT_LEN = 15\n",
    "\n",
    "def prune_corpus_of_reused_sentences(doc_dict, bad_hashes):\n",
    "    pruned_dict = {}\n",
    "    for docname,doctxt in tqdm(doc_dict.items()):\n",
    "        reduced_sents = []\n",
    "        for sent in nlp(doctxt).sents:\n",
    "            if len(sent) > MIN_SENT_LEN:\n",
    "                # check if hash is okay\n",
    "                this_sent = sent.text.strip()\n",
    "                if mmh3.hash64(this_sent) not in bad_hashes:\n",
    "                    reduced_sents.append(this_sent)\n",
    "        pruned_dict[docname] = \" \".join(reduced_sents)\n",
    "    return pruned_dict"
   ]
  },
  {
   "cell_type": "code",
   "execution_count": 23,
   "metadata": {
    "collapsed": false
   },
   "outputs": [
    {
     "name": "stderr",
     "output_type": "stream",
     "text": [
      "100%|██████████| 1141/1141 [23:23<00:00,  1.23s/it]\n"
     ]
    }
   ],
   "source": [
    "pruned_dict = prune_corpus_of_reused_sentences(corpus_dict,redundant_sent_hashes)"
   ]
  },
  {
   "cell_type": "code",
   "execution_count": 24,
   "metadata": {
    "collapsed": false
   },
   "outputs": [
    {
     "data": {
      "text/plain": [
       "'afi14-2crcv2.txt'"
      ]
     },
     "execution_count": 24,
     "metadata": {},
     "output_type": "execute_result"
    }
   ],
   "source": [
    "list(pruned_dict.keys())[3]"
   ]
  },
  {
   "cell_type": "code",
   "execution_count": 25,
   "metadata": {
    "collapsed": false
   },
   "outputs": [
    {
     "data": {
      "text/plain": [
       "True"
      ]
     },
     "execution_count": 25,
     "metadata": {},
     "output_type": "execute_result"
    }
   ],
   "source": [
    "len(corpus_dict[list(pruned_dict.keys())[5]]) != len(pruned_dict[list(pruned_dict.keys())[5]])"
   ]
  },
  {
   "cell_type": "markdown",
   "metadata": {},
   "source": [
    "Simple code to compute dot product on 1 docs using tfidf"
   ]
  },
  {
   "cell_type": "code",
   "execution_count": 26,
   "metadata": {
    "collapsed": true
   },
   "outputs": [],
   "source": [
    "from sklearn.feature_extraction.text import TfidfVectorizer\n",
    "\n",
    "def compare_docs(doc1,doc2):\n",
    "    tfidf = TfidfVectorizer().fit_transform([doc1, doc2])\n",
    "    diffs = list((tfidf * tfidf.T).A)\n",
    "    return diffs[0][1]\n"
   ]
  },
  {
   "cell_type": "markdown",
   "metadata": {},
   "source": [
    "Build similarity graph .. link each doc with similarity as attribute"
   ]
  },
  {
   "cell_type": "code",
   "execution_count": 27,
   "metadata": {
    "collapsed": true
   },
   "outputs": [],
   "source": [
    "import random\n",
    "import networkx as nx\n",
    "\n",
    "from itertools import combinations\n",
    "# Build a weighted graph from the pruned docs based on cosine similarity\n",
    "\n",
    "# O(n^2)!!\n",
    "# should do this more efficiently.. fingerprint method or self-organizing map\n",
    "\n",
    "def make_similarity_graph(doc_dict,sample=None):   \n",
    "    graph = nx.Graph()\n",
    "    pairwise_docs = list(combinations([k for k in doc_dict.keys()],2))\n",
    "    if sample:\n",
    "        random.shuffle(pairwise_docs)\n",
    "        pairwise_docs = pairwise_docs[0:sample]\n",
    "    \n",
    "    for doc_key in doc_dict.keys():\n",
    "        graph.add_node(doc_key, series=doc_key.split('-')[0][-2:])\n",
    "    for pair in tqdm(pairwise_docs):\n",
    "        series_same = pair[0].split('-')[0][-2:] == pair[1].split('-')[0][-2:]\n",
    "        try:\n",
    "            graph.add_edge(pair[0],pair[1],weight=compare_docs(doc_dict[pair[0]],doc_dict[pair[1]]),label=\"{}${}\".format(pair[0],pair[1]), sameseries=series_same)\n",
    "        except ValueError as e: # happens if we get empty vocab.. no worries\n",
    "            print(\"{e}\")\n",
    "            pass\n",
    "    return graph\n",
    "            \n",
    "        "
   ]
  },
  {
   "cell_type": "code",
   "execution_count": 28,
   "metadata": {
    "collapsed": false
   },
   "outputs": [
    {
     "name": "stdout",
     "output_type": "stream",
     "text": [
      "25322\n",
      "31611\n"
     ]
    }
   ],
   "source": [
    "key = list(pruned_dict.keys())[1]\n",
    "print(len(pruned_dict[key]))\n",
    "print(len(corpus_dict[key]))"
   ]
  },
  {
   "cell_type": "code",
   "execution_count": 29,
   "metadata": {
    "collapsed": false,
    "scrolled": true
   },
   "outputs": [
    {
     "name": "stdout",
     "output_type": "stream",
     "text": [
      " BY ORDER OF THE SECRETARY OF THE AIR FORCE AIR FORCE INSTRUCTION 36-2906 30 MAY 2013 Personnel PERSONAL FINANCIAL RESPONSIBILITY COMPLIANCE WITH THIS PUBLICATION IS MANDATORY ACCESSIBILITY: Publications and forms are available on the e-Publishing website at www.e-Publishing.af.mil for downloading or ordering. RELEASABILITY: There are no releasability restrictions on this publication OPR: AFPC/DPSIM Supersedes: AFI 36-2906, 1 January 1998 Certified by: AF/A1S (Brig Gen Eden J. Murrie) Pages: 12 This instruction implements Air Force Policy Directive (AFPD) 36-29, Military Standards, Department of Defense Instruction (DoDI) 1344.09, Indebtedness of Military Personnel, and DoDI 1344.12, Indebtedness Processing Procedures for Military Personnel. This instruction is applicable to the total force to include Active Duty, Air Force Reserve, and Air National Guard members. Refer recommended changes and questions about this publication to the Office of Primary Responsibility (OPR), using AF Form 847, Recommendation for Change of Publication; route AF Form 847s from the field through the appropriate functional’s chain of command. This publication may be supplemented at any level, but all direct supplements must be routed to the OPR of this publication for coordination prior to the certification and approval. Requests for waivers must be submitted through chain of command to the OPR listed above for consideration and approval. Ensure all records created as a result of processes prescribed in this publication are maintained in accordance with (IAW) Air Force Manual (AFMAN) 33-363, Management of Records, and disposed of IAW the Air Force Records Disposition Schedule located in the Air Force Records Information Management System. Vigilance must be taken to protect Personally Identifying Information (PII) when submitting or sending nominations, applications or other documents to DoD agencies through government Internet, software applications, systems, e-mail, postal, faxing or scanning. This instruction requires the collection and or maintenance of information protected by the Privacy Act of 1974 authorized by Title 10 United States Code (U.S.C.), Section 8013 and Secretary of the Air Force and Executive Order (E.O.) 9397 (SSN), as amended. The applicable Privacy Act System of 2 AFI36-2906 30 MAY 2013 Records Notice F036 AFPC C Indebtedness, Nonsupport Paternity, is available online at http://privacy.defense.gov/notices/usaf. SUMMARY OF CHANGES This revision changes office symbols from AFPC/DPSFC to AFPC/DPSIM. This revision includes removal of verbiage pertaining to obsolete personnel data systems such as Personnel Concept III (PC III), clarifies removal of UIFs and their documents, and added clarification to responsibilities and Personnel Data System (PDS) update procedures. 1.1. Overview. This instruction establishes administration and management guidelines for alleged delinquent financial obligations and processing claims. 1.2. Roles and Responsibilities. 1.2.1. Major Commands, Field Operating Agencies, and Direct Reporting Units will: 1.2.1.1. Monitor and guide subordinate units. 1.2.1.2. Include comprehensive instruction about personal financial management in teaching guides or course curriculum. 1.2.2. The Installation Commander will: Develop and coordinate responses to high-level, executive, and congressional inquiries. 1.2.3. The Unit Commander will: 1.2.3.1. Review and assess financial responsibility complaints and attempt to respond to the complainant within 15 days, if possible. If appropriate, include a copy of the fact sheets attached to this instruction. 1.2.3.1.1. Advise members and the complainant of Air Force policy, including the fact that the Air Force has no authority to arbitrate disputed cases of nonsupport or personal indebtedness. 1.2.3.1.2. Monitor complaint until resolved. 1.2.3.1.3. Not provide information to the complainant regarding administrative or disciplinary action contemplated or taken against the member. 1.2.3.2. Refer members who demonstrate financial irresponsibility to the local Personal Financial Management Program (PFMP) manager for financial management education and information. 1.2.3.3. Refer member to a qualified legal assistance provider in nonsupport cases or when member may have legal standing to contest the indebtedness. 1.2.3.4. Consider and, if appropriate, initiate administrative or disciplinary action against members who continue to demonstrate financial irresponsibility. 1.2.3.5. Obtain the advice and coordination of the staff judge advocate, the military personnel flight commander, the accounting and finance officer, and the inspector general on high-level, executive, and congressional inquiries. AFI36-2906 30 MAY 2013 3 1.2.3.6. Respond to inquiries from AFPC High Level Inquiries Division, 550 C Street West, Randolph AFB TX 78150-4747, should contain the following information if applicable: 1.2.3.6.1. Member’s military status and position. 1.2.3.6.2. Whether the member agrees to release information protected by the Privacy Act of 1974. 1.2.3.6.3. Name, address and telephone number of unit commander and of the person preparing the inquiry. 1.2.3.7. In cases alleging nonsupport of family members: 1.2.3.7.1. Advise members of the Air Force policy that they are expected to provide adequate financial support to family members and the procedures which the family member may implement to obtain involuntary collection of support through garnishment or statutory allotments. See attached fact sheet, Attachment 2. 1.2.3.7.2. While proof of financial support of immediate family members (primary dependents; i.e., spouse, minor child, etc.) is not ordinarily required, upon receipt of a complaint of non-support by a family member, require proof of financial support from the member. 1.2.3.7.3. Working with the FSO, assess basic allowance for housing (BAH) entitlements. Inform members: 1.2.3.7.3.1. They may not receive BAH at the with-dependent rate if they do not provide financial support to their spouse or children. 1.2.3.7.3.2. Refusal to support family members will result in termination of BAH entitlement at the with-dependent rate. 1.2.3.7.3.3. The Air Force will recoup the with-dependent rate BAH received by the member during periods of non-support. 1.2.3.7.4. When responding to an AFPC/DPSIM request for information concerning a non-support case, include a copy of the reply sent to the complainant and the following information: 1.2.3.7.4.1. If applicable, a copy of the court order. 1.2.3.7.4.2. Evaluation of the degree of compliance by the member. 1.2.3.7.4.3. Date, amount, and method of prior support payments. 1.2.3.7.4.4. Proposed date, amount, and method of payment for future support payments. If paying by allotment, include the effective date of the first payroll deduction. 1.2.3.7.4.5. BAH amounts received by the member and the basis of receipt (i.e., spouse, child, child in custody of former spouse). 1.2.3.7.4.6. If applicable, action anticipated or taken in accordance with Air Force policy. 4 AFI36-2906 30 MAY 2013 1.2.3.8. In cases alleging paternity: 1.2.3.8.1. Counsel the member concerning the allegations, in all cases. 1.2.3.8.2. If the member denies paternity, inform the claimant accordingly and advise that the Air Force does not have the authority to adjudicate paternity claims. 1.2.3.8.3. If a member acknowledges paternity, advise him of his financial support obligations. Refer the member to the MPS, Customer Service Element, for guidance on eligibility of Identification Card for the child, to the local Financial Services Office (FSO) for with-dependent rate financial support information, and to the legal office for advice on the member’s legal rights and obligations to the child. 1.2.3.8.4. If the case involves a member released from active duty who enters an Individual Reserve Program, the office of responsibility concerning personal financial responsibility is HQ ARPC/DS, 18420 E. Silver Creek Ave. BLDG 390 MS 68, Buckley AFB, CO 80011. For specific guidance on eligibility of dependents, contact HQ ARPC/DS and for financial support information contact the member’s servicing Reserve Pay Office. If the case involves a member released from active duty who retains no military affiliation, return the case to the claimant advising them of the fact. 1.2.3.9. In cases alleging personal financial indebtedness of a civil nature: 1.2.3.9.1. Advise members of Air Force policy, including the fact that Air Force members are expected to pay their just financial obligations in a proper and timely manner. Further advise the member that the failure to pay just debts may result in the creditor obtaining a court judgment, which could result in an involuntary allotment from the member’s military pay. 1.2.3.9.2. Advise the claimant that the Air Force has no authority to resolve disputed claims or to require members to pay a private debt without a civil judgment. 1.2.3.9.3. If the complaint is supported by a court judgment or if the claimant is attempting to serve legal documents upon the Air Force, refer the claimant to the Defense Finance and Accounting Service (see paragraph 1.2.8) to obtain DD Form 2653, Involuntary Allotment Application. 1.2.3.9.4. If the Defense Finance and Accounting Service (DFAS) forwards an involuntary allotment application package which includes DD Form 2654, Involuntary Allotment Notice and Processing, (completed by the unit commander and member, and maintained by DFAS) and supporting documentation, the member's commander will ensure the procedures described on DD Form 2654 are followed, including the following: 1.2.3.9.4.1. Promptly determine if the member is assigned or attached to the commander's unit. If not, the commander will immediately complete and return the DD Form 2654 to DFAS indicating that the member is not assigned to that unit. AFI36-2906 30 MAY 2013 5 1.2.3.9.4.2. If the member is assigned to the commander’s unit, but the member cannot respond to the action within the time designated by DFAS officials, the commander may grant a reasonable extension of time for the member to submit a response. In such cases, the commander will complete Section II of DD Form 2654 to reflect the new suspense date and promptly return a copy of the form to DFAS. 1.2.3.9.4.3. If the member is assigned to the commander's unit and is available to respond to the involuntary allotment package, the commander will provide the member a copy of the involuntary allotment package and counsel the member in accordance with Section III of DD Form 2654. 1.2.3.9.4.4. If the member does not contest the involuntary allotment, the member and the commander will complete Section IV of DD Form 2654 and return it to DFAS. If the member refuses to respond or fails to respond by the authorized suspense date, the commander will Note that fact in Section V of DD Form 2654 and return the form to DFAS. DFAS will then automatically process the involuntary allotment. 1.2.3.9.4.5. If the member contests the allotment for any reason other than exigencies of military duty, the commander will ensure that the member submits a completed DD Form 2654, with supporting documentation, back to the commander within the time allotted (usually within 15 days of receiving the package from the commander). The commander will then forward the member’s response to DFAS for further review and final determination. 1.2.3.9.4.6. If the member contests the allotment by asserting that exigencies of military duty caused the absence of the member from making an appearance in the judicial proceeding which forms the basis for the judgment, the commander will determine whether the member’s assertion is true. that, because of 1.2.3.9.4.6.1. The term “exigencies of military duty” is defined as a military assignment or mission-essential duty its urgency, importance, duration, location, or isolation, necessitates the absence of a member of the Military Services from appearance at a judicial proceeding or prevents the member from being able to respond to a notice of application for an involuntary allotment. Exigency of military duty is normally presumed during periods of war, national emergency, or when the member is deployed. The commander’s decision on exigencies of military duty will be based upon a preponderance of the evidence. 1.2.3.9.4.6.2. The commander’s decision on military exigencies will be reflected in Section V of DD Form 2654. The completed form must be returned to DFAS within the time allotted (usually within 90 days from the date DFAS mailed the DD Form 2654 to the commander, unless the commander granted an extension of time). The commander’s decision about military exigencies is binding on DFAS. 1.2.3.9.4.7. In cases where the commander has determined that exigencies of military duty caused the absence of the member from the judicial proceeding, 6 AFI36-2906 30 MAY 2013 the commander will also designate in Section V of DD Form 2654 the name and address of the appellate authority. 1.2.3.9.4.8. Within the Air Force, the appellate authority is the immediate Air Force superior commander of the commander who made the initial decision. There is no appeal from the appellate authority’s decision. 1.2.4. The Military Personnel (MPS) will: 1.2.4.1. Assign a unit in the MPS to process complaints. 1.2.4.2. Forward complaints to the member's unit commander for action. 1.2.4.3. Forward complaints for individuals not assigned to a serviced unit to the appropriate MPS. 1.2.4.4. Send complaints concerning member’s no longer on active duty, but who are assigned to an individual Reserve program to: HQ ARPC/DS, 18420 E. Silver Creek Ave, Bldg 390, MS 68, Buckley AFB, CO 80011. For all others refer to paragraph 1.2.8. 1.2.4.5. Advise the complainant that the Air Force cannot assist with individuals no longer under its jurisdiction such as members who have separated or retired from the service. Exception: If the complaint is a legal process garnishing the retiree's pay for child support or alimony. 1.2.4.6. Advise claimants who want to contact a military member about indebtedness to request the member's military address from AFPC/DS1W (Air Force Worldwide Locator), 550 C Street West Suite 50, Randolph AFB TX 78150-4752. Commercial creditors will be charged $3.50 for locator service. HQ AFPC/DS1W will advise the creditor in writing if they are unable to release a member’s address. 1.2.4.7. Recommend that AFPC/DPSIM discontinue processing when a claimant refuses or repeatedly fails to comply with this instruction. 1.2.4.8. Provide creditors with the DFAS address and phone number upon request. 1.2.4.9. Report cases of fraudulent, misleading, or deceptive business practices to the Armed Forces Disciplinary Control Board according to Air Force Joint Instruction (AFJI) 31-213, Armed Forces Disciplinary Control Boards and Off-Installation Liaison and Operations, and AFPC/DPSIM if Air Force-wide action seems appropriate. 1.2.5. The Staff Judge Advocate will: 1.2.5.1. Advise commanders on how to apply Air Force policy to individual cases involving financial support of dependents, garnishments, and involuntary allotments for financial support based upon court orders. 1.2.5.1.1. Advise commanders on in processing involuntary allotment cases, including assisting the commander in determining whether exigencies of military duty support a decision to disapprove the application for involuntary allotment. the procedures involved 1.2.5.1.2. Advise commanders on appropriate administrative or disciplinary AFI36-2906 30 MAY 2013 7 action in cases of fraud, deceit, criminal conduct or persistent financial irresponsibility. 1.2.5.2. Provide legal assistance to military members on issues of financial responsibility under federal and state laws, including the “Fair Debt Collection Practices Act”, the “Uniformed Services Former Spouses’ Protection Act”, and the “Servicemembers Civil Relief Act”. 1.2.5.2.1. Arrange for the provision legal assistance to members who choose to contest applications for involuntary allotments for civil debts. 1.2.5.3. Coordinate on congressional inquiries and special action cases involving allegations of non-support or financial irresponsibility. 1.2.6. The Airman and Family Readiness Center and Personal Financial Management Program (PFMP) Manager will: Provide military members and their families with financial management education and information and referral services. 1.2.7. The Military Members will: 1.2.7.1. Pay their just financial obligations in a proper and timely manner. 1.2.7.2. Provide adequate financial support of a spouse or child or any other relative for which the member receives additional allowances for support. Members will also comply with the financial support provisions of a court order or written support agreement. 1.2.7.3. Comply with the requirements imposed by this instruction, including the requirement to respond to applications for involuntary allotments of pay within the suspense dates established by DFAS or the commander. 1.2.8. DFAS will: 1.2.8.1. Refer persons and creditors seeking assistance with garnishments, statutory allotments for child and spousal support, or involuntary allotments for civil debts on active duty, Reserve, Air National Guard, and retired members to the following address: DFAS-Cleveland Center, Attn: Garnishment Operations, P.O. Box 998002, Cleveland, OH 44199-8002 1.2.8.2. DFAS provides customer service at the following toll free number: 1-(888) 332-7411. DARRELL D. JONES,Lt Gen, USAF DCS, Manpower, Personnel and Services 8 AFI36-2906 30 MAY 2013 GLOSSARY OF REFERENCES AND SUPPORTING INFORMATION Attachment 1 References AFPD 36-29, Military Standards, 29 October 2009 AFJI 31-213, Armed Forces Disciplinary Control Boards and Off-Installation Liaison and Operations, 27 July 2006 AFMAN 33-363, Management of Records, 1 March 2008 AFI 33-332 Air Force Privacy Program, 16 May 2011 DoDI 1344.9, Indebtedness of Military Personnel, 8 December 2008 DoDI 1344.12, Indebtedness Processing Procedures for Military Personnel, 18 November 1994 Servicemembers Civil Relief Act of 2003 Adopted Forms: AF Form 847, Recommendation for Change of Publication DD Form 2653, Involuntary Allotment Application DD Form 2654, Involuntary Allotment Notice and Processing Abbreviations and Acronyms AFPD—Air Force Policy Directive BAH—Basic Allowance for Housing DFAS—Defense Finance and Accounting Service DoDI—Department of Defense Instruction MPS—Military Personnel Section OPR—Office of Primary Responsibility PFMP—Personal Financial Management Program SSN—Social Security Number USC—United States Codes AFI36-2906 30 MAY 2013 9 Attachment 2 FACT SHEET GARNISHMENT OF PAY AND STATUTORY ALLOTMENTS AGAINST MILITARY PAY FOR CHILD SUPPORT AND ALIMONY OBLIGATIONS A2.1. Methods of Involuntary Collection of Military Pay. This fact sheet addresses the general procedures involved in the two methods of involuntarily collecting military pay from a military member for child support and spousal support (alimony): garnishment and statutory allotments. A2.2. Garnishment of Military Pay (Title 42 United States Code (USC) Section 659-662; 5 C. F.R. Part 581): A2.2.1. Federal law authorizes legal process (garnishment) against the pay of Air Force members to enforce child support and alimony in accordance with state law. Garnishments may be placed against the pay of active duty, Reserve, Guard and retired military members of the Air Force. The administrative costs incurred in establishing and maintaining an involuntary allotment for commercial debts, as determined by DFAS, shall be deducted from the amount withheld from the pay of the member. The amount deducted shall be credited to the appropriation, fund or account from which such administrative costs were paid. A2.2.2. Legal process is defined as any writ, order, summons, or other process in the nature of garnishment directed to the US Air Force which is issued by: a court of competent jurisdiction within any state, territory or possession of the US; a court of competent jurisdiction in any foreign country with which the US has entered into an agreement that requires the US to honor such process; or an authorized official pursuant to an order of such court of competent jurisdiction or pursuant to state or local law. A2.2.3. The procedure to obtain a garnishment order is determined by state law. However, federal law determines how the garnishment order is applied to military pay, i.e., how service or process is accomplished, the type of pay subject to garnishment, etc. A2.2.4. Unless state law specifies a lesser amount, federal law provides a limit of 50 percent of the member’s aggregate disposable earnings for any workweek if the member is currently supporting a second family (spouse or child) and 60 percent if the member is not supporting a second family. The percentage may be increased by 5 percent if the arrearage is 12 weeks or more. A2.2.5. The legal documents must clearly show that the garnishment order was issued for child support or alimony or both. Garnishment orders will not be honored for payments or transfers of property by one spouse to another for purposes of a marital property settlement or for the division of retired pay resulting from divorce or legal separation. A2.2.6. Sufficient identifying information must accompany the legal process in order for the Air Force to implement the order. At a minimum, the information must include the following: the member’s full name, date of birth, SSN, current military status and, if known, the member’s current assignment. A2.2.7. Enforcement of garnishment order may be accomplished by sending a request for involuntary allotment via certified or registered mail, return receipt requested to Garnishment Operations Directorate, Code L-Last 4 digits of member’s SSN, DFAS, Cleveland Center, 10 AFI36-2906 30 MAY 2013 P.O. Box 998002, Cleve10 land, OH 44199-8002. Requests may also be faxed to the following commercial fax numbers indicated by the last 4 digits of the member’s SSN—NOTE: You will not receive a return receipt if you fax the order: Last 4 digits: 0000 - 1249: (216) 522-6819; 1250 - 2499: (216) 522-6951; 2500 - 3749: (216) 522-6821; 3750 - 5000: (216) 522-5372; 5001 - 6250: (216) 522-5371; 6251 - 7500: (216) 522-6817; 7501 - 8750: (216) 522-5958; 8751 - 9999: (216) 522-6819. Call commercial (216) 522-5301 or DSN 580-5301 for additional information. A2.3. Statutory Allotments for Child Support and Alimony (Title 42 U. S.C. Section 665, 32 C.F.R. Part 54): A2.3.1. Federal law authorizes allotments from active duty military pay in order to satisfy child support and alimony obligations. Alimony alone will not qualify under this law. These statutory allotments may only be paid from active duty pay. A2.3.2. A statutory allotment may be initiated when child support and alimony payments are at least 2 months in arrears. The allotment is initiated by furnishing the DFAS Center a written notice from a court or state agency administering the child support program under Title IV-D of the Social Security Act. The notice must be signed by an authorized official and must contain the following information: A2.3.2.1. A statement that the person signing the request is an agent or attorney of a state that has a Title IV-D plan with authority under the plan to collect money owed by a military member as child support or child support and alimony. The request may also be signed by an agent of the court issuing the order. A2.3.2.2. The statement must include the military member’s full name, SSN, the dates that the current support terminates for each child, and the exact name and address of the allotment payee. The statement must also show the total amount of the allotment to be taken and specify the amount to be paid each month for current support and the arrearage. A2.3.2.3. The statement must be supported by a recently certified copy of the original court order awarding support and a court order which specifies the amount of the arrears and those payments is made to liquidate such arrears. A2.3.3. Allotments cannot exceed 50 percent of a member’s pay and allowances if the member is supporting a second family. If the member is not supporting a second family, the allotment may not exceed 60 percent. The percentage may be increased by 5 percent if the arrearage is 12 weeks or more. A2.3.4. After DFAS receives the request, DFAS notifies the member’s commander. The commander will then notify and counsel the member. The member will have 30 days to cure the arrearage or to submit evidence that the arrearage is an error. If not, DFAS will ordinarily implement the allotment 30 days after the member’s notification. Payments will begin at the end of the month in which the allotment is to be effective. AFI36-2906 30 MAY 2013 11 Attachment 3 FACT SHEET PERSONAL INDEBTEDNESS AND INVOLUNTARY ALLOTMENTS FOR CIVIL DEBTS A3.1. Involuntary Allotments. This fact sheet addresses the general procedures involved in resolving allegations of indebtedness and initiating involuntary allotments against military pay for civil debts. A3.2. Air Force Policy. Military members are expected to pay their just financial obligations in a proper and timely manner. When necessary, commanders will council members about their financial responsibilities. However, Air Force components have no legal authority to arbitrate or resolve personal disputes over debts or, except as provided in paragraph A3.4, to require a member to pay or to divert any part of a member’s pay to satisfy a private debt. A3.3. Disputes over Indebtedness. Whenever possible, disputes over indebtedness should be resolved through amicable means by the parties involved. Claimants desiring to contact a military member about indebtedness may, in most cases, obtain the member's military address by contacting the member’s department of Service (i.e., Army, Navy, Air Force, or Marine Corps) locator service. A3.3.1. For Air Force members, the military locator service may be contacted at: AFPC/ DS1W 550 C Street West, Suite 50, Randolph AFB TX 78150-4752, (210) 565-2660. The service will charge a reasonable fee for the research service. The Air Force does not charge for locator service on Air Force active duty or retired personnel. In situations where the Service is unable to release information about the military member (i.e., members assigned at overseas installations or at classified locations), the Service will forward correspondence from the claimant to the member at no additional cost. A3.4. Involuntary Allotments for Civil Debts. Creditors whose bona fide efforts to collect a debt have failed may seek relief by applying for an involuntary allotment of pay pursuant to the Hatch Act Reform Amendments of 1993 (Public Law No. 103-94), as implemented by DoDI 1344.9, DoD Instruction 1344.12, and AFI 36-2906. A3.4.1. A creditor may initiate this process against any member of the regular Air Force, Air National Guard or Air Force Reserve. Involuntary allotments will not be taken from retired or disability pay. The application is initiated by submitting a DD Form 2653, supported by a certified copy of a judgment issued by a civil court and any other certifications required by the DoDI, to the appropriate DoD agency. The DD Form 2653 may be obtained from DFAS. A3.4.2. The creditor's application must certify certain state and federal procedural requirements have been satisfied prior to obtaining the judgment, including satisfaction of the procedural requirements of the ”Servicemembers Civil Relief Act” of 2003. A3.4.3. Upon proper receipt of a complete application package, DFAS will forward a copy of the application to the member and the member's commander along with a DD Form 2654, Involuntary Allotment Notice and Processing. The member will have 90 days from the date DFAS mails the package in which to respond to the application. The member's time to respond to the action may be extended by the member's commander for good cause. If the member and commander fail to respond to the notice from DFAS within the allotted time, 12 AFI36-2906 30 MAY 2013 and application is otherwise valid, DFAS may automatically process the involuntary allotment on the 15th calendar day after the date a response was due. A3.4.4. If the member consents to the allotment, the commander will return the package to DFAS. The allotment will commence within 30 days. If the member contests the application, the member may seek legal assistance and will submit supporting evidence refuting the validity of the application within 15 days to his or her commander, who will then forward the response to DFAS. A3.4.5. DFAS officials will make the final decision on any issues or defenses raised by the member except for the issue of whether \"military exigencies\" adversely impacted the member. A \"military exigency\" is defined in DoDI 1344.09, to be a military assignment or mission-essential duty that, because of its urgency, importance, duration, location or isolation, necessitates the member to be absent from an appearance at a judicial proceeding, or prevents the member from being able to respond to notice of an involuntary allotment action. Exigency of military duty is normally presumed during periods of war, national emergency, or when the member is deployed. The member’s unit commander will decide whether the defense of military exigencies is valid and the commander’s decision on this issue is binding on DFAS. Commanders return the application to DFAS indicating their decision on the DD Form 2654. If the commander finds that the military exigencies defense is valid, DFAS will return the application to the creditor without further action. A3.4.6. If the involuntary allotment application is denied based upon the commander’s determination that military exigencies adversely impacted the member’s ability to respond to the legal action, DFAS will give the creditor the name and address of the appellate authority listed on the DD Form 2654 by the commander. In the Air Force, the appellate authority is the immediate Air Force superior commander to the commander who made the initial decision. The creditor may appeal the denial to the appellate authority, who will make the final decision within 30 days of receiving the appeal and who will respond directly to the creditor. The appellate authority’s decision may not be appealed. If the appeal is granted, the creditor must submit a written request to DFAS, along with a copy of the appellate authority’s decision, to start the allotment. A3.4.7. Involuntary allotments will be taken only from pay that is \"subject to involuntary allotment,\" as defined by DoDI 1344.12. Pay subject to allotment includes basic pay and certain other payments, but not allowances, reimbursements for expenses, or separation pay. The maximum amount of pay that may be taken is the lesser of 25 percent of the member’s pay subject to involuntary allotment or the maximum amount authorized by the applicable state’s law. Other debts (e.g., income tax withholding, government debts, military fines and forfeitures, family support obligations) take priority over allotments for civil debts. A3.4.8. DFAS is the designated agency to receive involuntary allotment applications on Air Force, Army, Navy, and Marine Corps personnel. For further information contact DFAS at the following address: Garnishment Operations Directorate, Code L-Last 4 digits of member’s SSN, DFAS, Cleveland Center, P.O. Box 998002, Cleveland, OH 44199-8002 or call (216) 522-5301 or DSN 580-5301. \n"
     ]
    }
   ],
   "source": [
    "print(corpus_dict[key])"
   ]
  },
  {
   "cell_type": "code",
   "execution_count": 30,
   "metadata": {
    "collapsed": false,
    "scrolled": true
   },
   "outputs": [
    {
     "name": "stdout",
     "output_type": "stream",
     "text": [
      "BY ORDER OF THE SECRETARY OF THE AIR FORCE AIR FORCE INSTRUCTION 36-2906 30 MAY 2013 Personnel AFPC/DPSIM Supersedes: AFI 36-2906, 1 January 1998 Certified by: AF/A1S (Brig Gen Eden J. Murrie) This instruction implements Air Force Policy Directive (AFPD) 36-29, Military Standards, Department of Defense Instruction (DoDI) 1344.09, Indebtedness of Military Personnel, and DoDI 1344.12, Indebtedness Processing Procedures for Military Personnel. This instruction is applicable to the total force to include Active Duty, Air Force Reserve, and Air National Guard members. Refer recommended changes and questions about this publication to the Office of Primary Responsibility (OPR), using AF Form 847, Recommendation for Change of Publication; route AF Form 847s from the field through the appropriate functional’s chain of command. This publication may be supplemented at any level, but all direct supplements must be routed to the OPR of this publication for coordination prior to the certification and approval. Vigilance must be taken to protect Personally Identifying Information (PII) when submitting or sending nominations, applications or other documents to DoD agencies through government Internet, software applications, systems, e-mail, postal, faxing or scanning. This instruction requires the collection and or maintenance of information protected by the Privacy Act of 1974 authorized by Title 10 United States Code (U.S.C.), Section 8013 and Secretary of the Air Force and Executive Order (E.O.) 9397 (SSN), as amended. SUMMARY OF CHANGES This revision changes office symbols from AFPC/DPSFC to AFPC/DPSIM. This revision includes removal of verbiage pertaining to obsolete personnel data systems such as Personnel Concept III (PC III), clarifies removal of UIFs and their documents, and added clarification to responsibilities and Personnel Data System (PDS) update procedures. This instruction establishes administration and management guidelines for alleged delinquent financial obligations and processing claims. The Installation Commander will: Develop and coordinate responses to high-level, executive, and congressional inquiries. Review and assess financial responsibility complaints and attempt to respond to the complainant within 15 days, if possible. Advise members and the complainant of Air Force policy, including the fact that the Air Force has no authority to arbitrate disputed cases of nonsupport or personal indebtedness. Not provide information to the complainant regarding administrative or disciplinary action contemplated or taken against the member. Refer members who demonstrate financial irresponsibility to the local Personal Financial Management Program (PFMP) manager for financial management education and information. Refer member to a qualified legal assistance provider in nonsupport cases or when member may have legal standing to contest the indebtedness. Consider and, if appropriate, initiate administrative or disciplinary action against members who continue to demonstrate financial irresponsibility. Obtain the advice and coordination of the staff judge advocate, the military personnel flight commander, the accounting and finance officer, and the inspector general on high-level, executive, and congressional inquiries. Respond to inquiries from AFPC High Level Inquiries Division, 550 C Street West, Randolph AFB Name, address and telephone number of unit commander and of the person preparing the inquiry. Advise members of the Air Force policy that they are expected to provide adequate financial support to family members and the procedures which the family member may implement to obtain involuntary collection of support through garnishment or statutory allotments. While proof of financial support of immediate family members (primary dependents; i.e., spouse, minor child, etc.) is not ordinarily required, upon receipt of a complaint of non-support by a family member, require proof of financial support from the member. They may not receive BAH at the with-dependent rate if they do not provide financial support to their spouse or children. Refusal to support family members will result in termination of BAH entitlement at the with-dependent rate. The Air Force will recoup the with-dependent rate BAH received by the member during periods of non-support. When responding to an AFPC/DPSIM request for information concerning a non-support case, include a copy of the reply sent to the complainant and the following information: 1.2.3.7.4.1. BAH amounts received by the member and the basis of receipt (i.e., spouse, child, child in custody of former spouse). If the member denies paternity, inform the claimant accordingly and advise that the Air Force does not have the authority to adjudicate paternity claims. Refer the member to the MPS, Customer Service Element, for guidance on eligibility of Identification Card for the child, to the local Financial Services Office (FSO) for with-dependent rate financial support information, and to the legal office for advice on the member’s legal rights and obligations to the child. If the case involves a member released from active duty who enters an Individual Reserve Program, the office of responsibility concerning personal financial responsibility is HQ ARPC/DS, 18420 E. Silver Creek Ave. For specific guidance on eligibility of dependents, contact HQ ARPC/DS and for financial support information contact the member’s servicing Reserve Pay Office. If the case involves a member released from active duty who retains no military affiliation, return the case to the claimant advising them of the fact. Advise members of Air Force policy, including the fact that Air Force members are expected to pay their just financial obligations in a proper and timely manner. Further advise the member that the failure to pay just debts may result in the creditor obtaining a court judgment, which could result in an involuntary allotment from the member’s military pay. Advise the claimant that the Air Force has no authority to resolve disputed claims or to require members to pay a private debt without a civil judgment. If the complaint is supported by a court judgment or if the claimant is attempting to serve legal documents upon the Air Force, refer the claimant to the Defense Finance and Accounting Service (see paragraph 1.2.8) to obtain DD Form 2653, Involuntary Allotment Application. If the Defense Finance and Accounting Service (DFAS) forwards an involuntary allotment application package which includes DD Form 2654, Involuntary Allotment Notice and Processing, (completed by the unit commander and member, and maintained by DFAS) and supporting documentation, the member's commander will ensure the procedures described on DD Form 2654 are followed, including the following: 1.2.3.9.4.1. If not, the commander will immediately complete and return the DD Form 2654 to DFAS indicating that the member is not assigned to that unit. If the member is assigned to the commander’s unit, but the member cannot respond to the action within the time designated by DFAS officials, the commander may grant a reasonable extension of time for the member to submit a response. In such cases, the commander will complete Section II of DD Form 2654 to reflect the new suspense date and promptly return a copy of the form to DFAS. If the member is assigned to the commander's unit and is available to respond to the involuntary allotment package, the commander will provide the member a copy of the involuntary allotment package and counsel the member in accordance with Section III of DD Form 2654. If the member does not contest the involuntary allotment, the member and the commander will complete Section IV of DD Form 2654 and return it to DFAS. If the member refuses to respond or fails to respond by the authorized suspense date, the commander will Note that fact in Section V of DD Form 2654 and return the form to DFAS. If the member contests the allotment for any reason other than exigencies of military duty, the commander will ensure that the member submits a completed DD Form 2654, with supporting documentation, back to the commander within the time allotted (usually within 15 days of receiving the package from the commander). The commander will then forward the member’s response to DFAS for further review and final determination. If the member contests the allotment by asserting that exigencies of military duty caused the absence of the member from making an appearance in the judicial proceeding which forms the basis for the judgment, the commander will determine whether the member’s assertion is true. exigencies of military duty” is defined as a military assignment or mission-essential duty its urgency, importance, duration, location, or isolation, necessitates the absence of a member of the Military Services from appearance at a judicial proceeding or prevents the member from being able to respond to a notice of application for an involuntary allotment. Exigency of military duty is normally presumed during periods of war, national emergency, or when the member is deployed. The commander’s decision on exigencies of military duty will be based upon a preponderance of the evidence. The commander’s decision on military exigencies will be reflected in Section V of DD Form 2654. The completed form must be returned to DFAS within the time allotted (usually within 90 days from the date DFAS mailed the DD Form 2654 to the commander, unless the commander granted an extension of time). In cases where the commander has determined that exigencies of military duty caused the absence of the member from the judicial proceeding, 6 AFI36-2906 30 MAY 2013 the commander will also designate in Section V of DD Form 2654 the name and address of the appellate authority. Within the Air Force, the appellate authority is the immediate Air Force superior commander of the commander who made the initial decision. Send complaints concerning member’s no longer on active duty, but who are assigned to an individual Reserve program to: HQ ARPC/DS, 18420 E. Silver Creek Ave, Bldg 390, MS 68, Buckley AFB, CO 80011. Advise the complainant that the Air Force cannot assist with individuals no longer under its jurisdiction such as members who have separated or retired from the service. If the complaint is a legal process garnishing the retiree's pay for child support or alimony. Advise claimants who want to contact a military member about indebtedness to request the member's military address from AFPC/DS1W (Air Force Worldwide Locator), 550 C Street West Suite 50, Randolph AFB TX 78150-4752. /DS1W will advise the creditor in writing if they are unable to release a member’s address. Recommend that AFPC/DPSIM discontinue processing when a claimant refuses or repeatedly fails to comply with this instruction. Report cases of fraudulent, misleading, or deceptive business practices to the Armed Forces Disciplinary Control Board according to Air Force Joint Instruction (AFJI) 31-213, Armed Forces Disciplinary Control Boards and Off-Installation Liaison and Operations, and AFPC/DPSIM if Air Force-wide action seems appropriate. Advise commanders on how to apply Air Force policy to individual cases involving financial support of dependents, garnishments, and involuntary allotments for financial support based upon court orders. Advise commanders on in processing involuntary allotment cases, including assisting the commander in determining whether exigencies of military duty support a decision to disapprove the application for involuntary allotment. AFI36-2906 30 MAY 2013 7 action in cases of fraud, deceit, criminal conduct or persistent financial irresponsibility. Provide legal assistance to military members on issues of financial responsibility under federal and state laws, including the “Fair Debt Collection Practices Act”, the “Uniformed Services Former Spouses’ Protection Act”, and the “Servicemembers Civil Relief Act”. Arrange for the provision legal assistance to members who choose to contest applications for involuntary allotments for civil debts. Coordinate on congressional inquiries and special action cases involving allegations of non-support or financial irresponsibility. will: Provide military members and their families with financial management education and information and referral services. Provide adequate financial support of a spouse or child or any other relative for which the member receives additional allowances for support. Members will also comply with the financial support provisions of a court order or written support agreement. Comply with the requirements imposed by this instruction, including the requirement to respond to applications for involuntary allotments of pay within the suspense dates established by DFAS or the commander. Refer persons and creditors seeking assistance with garnishments, statutory allotments for child and spousal support, or involuntary allotments for civil debts on active duty, Reserve, Air National Guard, and retired members to the following address: DFAS-Cleveland Center, Attn: DFAS provides customer service at the following toll free number: 1-(888) 332-7411. DARRELL D. JONES,Lt Gen, USAF DCS, Manpower, Personnel and Services 8 AFI36-2906 30 References AFPD 36-29, Military Standards, 29 October 2009 AFJI 31-213, Armed Forces Disciplinary Control Boards and Off-Installation Liaison and Operations, 27 July 2006 AFMAN 33-363, Management of Records, 1 March 2008 AFI 33-332 Air Force Privacy Program, 16 May 2011 DoDI 1344.9, Indebtedness of Military Personnel, 8 December 2008 DoDI 1344.12, Indebtedness Processing Procedures for Military Personnel, 18 November 1994 Servicemembers Civil Relief Act of 2003 Adopted Forms: AF Form 847, Recommendation for Change of Publication DD Form 2653, Involuntary Allotment Application DD Form 2654, Involuntary Allotment Notice and Processing Abbreviations and Acronyms AFPD—Air Force Policy Directive Department of Defense Instruction MPS—Military Personnel Section OPR—Office of Primary Responsibility PFMP— This fact sheet addresses the general procedures involved in the two methods of involuntarily collecting military pay from a military member for child support and spousal support (alimony): garnishment and statutory allotments. Federal law authorizes legal process (garnishment) against the pay of Air Force members to enforce child support and alimony in accordance with state law. Garnishments may be placed against the pay of active duty, Reserve, Guard and retired military members of the Air Force. The administrative costs incurred in establishing and maintaining an involuntary allotment for commercial debts, as determined by DFAS, shall be deducted from the amount withheld from the pay of the member. The amount deducted shall be credited to the appropriation, fund or account from which such administrative costs were paid. Legal process is defined as any writ, order, summons, or other process in the nature of garnishment directed to the US Air Force which is issued by: a court of competent jurisdiction within any state, territory or possession of the US; a court of competent jurisdiction in any foreign country with which the US has entered into an agreement that requires the US to honor such process; or an authorized official pursuant to an order of such court of competent jurisdiction or pursuant to state or local law. A2.2.3. However, federal law determines how the garnishment order is applied to military pay, i.e., how service or process is accomplished, the type of pay subject to garnishment, etc. Unless state law specifies a lesser amount, federal law provides a limit of 50 percent of the member’s aggregate disposable earnings for any workweek if the member is currently supporting a second family (spouse or child) and 60 percent if the member is not supporting a second family. The percentage may be increased by 5 percent if the arrearage is 12 weeks or more. The legal documents must clearly show that the garnishment order was issued for child support or alimony or both. Garnishment orders will not be honored for payments or transfers of property by one spouse to another for purposes of a marital property settlement or for the division of retired pay resulting from divorce or legal separation. Sufficient identifying information must accompany the legal process in order for the Air Force to implement the order. At a minimum, the information must include the following: the member’s full name, date of birth, SSN, current military status and, if known, the member’s current assignment. Enforcement of garnishment order may be accomplished by sending a request for involuntary allotment via certified or registered mail, return receipt requested to Garnishment Operations Directorate, Code L-Last 4 digits of member’s SSN, DFAS, Cleveland Center, 10 AFI36-2906 30 Requests may also be faxed to the following commercial fax numbers indicated by the last 4 digits of the member’s SSN— NOTE: You will not receive a return receipt if you fax the order: Last 4 digits: 0000 - 1249: (216) 522-6819; 1250 - 2499: (216) 522-6951; 2500 - 3749: (216) 522-6821; 3750 - 5000: (216) 522-5372; 5001 - 6250: (216) 522-5371; 6251 - 7500: (216) 522-6817; 7501 - 8750: (216) 522-5958; 8751 - 9999: (216) 522-6819. Statutory Allotments for Child Support and Alimony (Title 42 U. S.C. Section 665, 32 Federal law authorizes allotments from active duty military pay in order to satisfy child support and alimony obligations. A statutory allotment may be initiated when child support and alimony payments are at least 2 months in arrears. The allotment is initiated by furnishing the DFAS Center a written notice from a court or state agency administering the child support program under Title IV-D of the Social Security Act. The notice must be signed by an authorized official and must contain the following information: A statement that the person signing the request is an agent or attorney of a state that has a Title IV-D plan with authority under the plan to collect money owed by a military member as child support or child support and alimony. The request may also be signed by an agent of the court issuing the order. The statement must include the military member’s full name, SSN, the dates that the current support terminates for each child, and the exact name and address of the allotment payee. The statement must also show the total amount of the allotment to be taken and specify the amount to be paid each month for current support and the arrearage. The statement must be supported by a recently certified copy of the original court order awarding support and a court order which specifies the amount of the arrears and those payments is made to liquidate such arrears. Allotments cannot exceed 50 percent of a member’s pay and allowances if the member is supporting a second family. If the member is not supporting a second family, the allotment may not exceed 60 percent. The percentage may be increased by 5 percent if the arrearage is 12 weeks or more. The member will have 30 days to cure the arrearage or to submit evidence that the arrearage is an error. If not, DFAS will ordinarily implement the allotment 30 days after the member’s notification. Payments will begin at the end of the month in which the allotment is to be effective. AFI36 This fact sheet addresses the general procedures involved in resolving allegations of indebtedness and initiating involuntary allotments against military pay for civil debts. Military members are expected to pay their just financial obligations in a proper and timely manner. However, Air Force components have no legal authority to arbitrate or resolve personal disputes over debts or, except as provided in paragraph A3.4, to require a member to pay or to divert any part of a member’s pay to satisfy a private debt. Whenever possible, disputes over indebtedness should be resolved through amicable means by the parties involved. Claimants desiring to contact a military member about indebtedness may, in most cases, obtain the member's military address by contacting the member’s department of Service (i.e., Army, Navy, Air Force, or Marine Corps) locator service. For Air Force members, the military locator service may be contacted at: AFPC/ DS1W 550 C Street West, Suite 50, Randolph AFB TX 78150-4752, (210) 565-2660. The Air Force does not charge for locator service on Air Force active duty or retired personnel. In situations where the Service is unable to release information about the military member (i.e., members assigned at overseas installations or at classified locations), the Service will forward correspondence from the claimant to the member at no additional cost. Creditors whose bona fide efforts to collect a debt have failed may seek relief by applying for an involuntary allotment of pay pursuant to the Hatch Act Reform Amendments of 1993 (Public Law No. 103-94), as implemented by DoDI 1344.9, DoD Instruction 1344.12, and AFI 36-2906. A creditor may initiate this process against any member of the regular Air Force, Air National Guard or Air Force Reserve. The application is initiated by submitting a DD Form 2653, supported by a certified copy of a judgment issued by a civil court and any other certifications required by the DoDI, to the appropriate DoD agency. The creditor's application must certify certain state and federal procedural requirements have been satisfied prior to obtaining the judgment, including satisfaction of the procedural requirements of the ” Upon proper receipt of a complete application package, DFAS will forward a copy of the application to the member and the member's commander along with a DD Form 2654, Involuntary Allotment Notice and Processing. The member will have 90 days from the date DFAS mails the package in which to respond to the application. The member's time to respond to the action may be extended by the member's commander for good cause. If the member and commander fail to respond to the notice from DFAS within the allotted time, 12 AFI36-2906 30 MAY 2013 and application is otherwise valid, DFAS may automatically process the involuntary allotment on the 15th calendar day after the date a response was due. If the member consents to the allotment, the commander will return the package to DFAS. If the member contests the application, the member may seek legal assistance and will submit supporting evidence refuting the validity of the application within 15 days to his or her commander, who will then forward the response to DFAS. DFAS officials will make the final decision on any issues or defenses raised by the member except for the issue of whether \"military exigencies\" adversely impacted the member. A \"military exigency\" is defined in DoDI 1344.09, to be a military assignment or mission-essential duty that, because of its urgency, importance, duration, location or isolation, necessitates the member to be absent from an appearance at a judicial proceeding, or prevents the member from being able to respond to notice of an involuntary allotment action. Exigency of military duty is normally presumed during periods of war, national emergency, or when the member is deployed. The member’s unit commander will decide whether the defense of military exigencies is valid and the commander’s decision on this issue is binding on DFAS. If the commander finds that the military exigencies defense is valid, DFAS will return the application to the creditor without further action. If the involuntary allotment application is denied based upon the commander’s determination that military exigencies adversely impacted the member’s ability to respond to the legal action, DFAS will give the creditor the name and address of the appellate authority listed on the DD Form 2654 by the commander. In the Air Force, the appellate authority is the immediate Air Force superior commander to the commander who made the initial decision. The creditor may appeal the denial to the appellate authority, who will make the final decision within 30 days of receiving the appeal and who will respond directly to the creditor. If the appeal is granted, the creditor must submit a written request to DFAS, along with a copy of the appellate authority’s decision, to start the allotment. Involuntary allotments will be taken only from pay that is \"subject to involuntary allotment,\" as defined by DoDI 1344.12. Pay subject to allotment includes basic pay and certain other payments, but not allowances, reimbursements for expenses, or separation pay. The maximum amount of pay that may be taken is the lesser of 25 percent of the member’s pay subject to involuntary allotment or the maximum amount authorized by the applicable state’s law. Other debts (e.g., income tax withholding, government debts, military fines and forfeitures, family support obligations) take priority over allotments for civil debts. DFAS is the designated agency to receive involuntary allotment applications on Air Force, Army, Navy, and Marine Corps personnel. For further information contact DFAS at the following address: Garnishment Operations Directorate, Code L-Last 4 digits of member’s SSN, DFAS, Cleveland Center, P.O. Box 998002, Cleveland, OH 44199-8002 or call (216) 522-5301 or DSN 580-5301.\n"
     ]
    }
   ],
   "source": [
    "print(pruned_dict[key])"
   ]
  },
  {
   "cell_type": "code",
   "execution_count": 31,
   "metadata": {
    "collapsed": false
   },
   "outputs": [
    {
     "name": "stderr",
     "output_type": "stream",
     "text": [
      " 16%|█▌        | 100825/650370 [35:36<3:14:06, 47.19it/s]"
     ]
    },
    {
     "name": "stdout",
     "output_type": "stream",
     "text": [
      "{e}\n"
     ]
    },
    {
     "name": "stderr",
     "output_type": "stream",
     "text": [
      " 16%|█▌        | 101040/650370 [35:39<3:13:51, 47.23it/s]"
     ]
    },
    {
     "name": "stdout",
     "output_type": "stream",
     "text": [
      "{e}\n"
     ]
    },
    {
     "name": "stderr",
     "output_type": "stream",
     "text": [
      " 16%|█▌        | 101183/650370 [35:41<3:13:41, 47.25it/s]"
     ]
    },
    {
     "name": "stdout",
     "output_type": "stream",
     "text": [
      "{e}\n"
     ]
    },
    {
     "name": "stderr",
     "output_type": "stream",
     "text": [
      " 16%|█▌        | 101213/650370 [35:41<3:13:39, 47.26it/s]"
     ]
    },
    {
     "name": "stdout",
     "output_type": "stream",
     "text": [
      "{e}\n"
     ]
    },
    {
     "name": "stderr",
     "output_type": "stream",
     "text": [
      " 16%|█▌        | 101276/650370 [35:42<3:13:35, 47.27it/s]"
     ]
    },
    {
     "name": "stdout",
     "output_type": "stream",
     "text": [
      "{e}\n"
     ]
    },
    {
     "name": "stderr",
     "output_type": "stream",
     "text": [
      " 16%|█▌        | 101334/650370 [35:42<3:13:30, 47.29it/s]"
     ]
    },
    {
     "name": "stdout",
     "output_type": "stream",
     "text": [
      "{e}\n"
     ]
    },
    {
     "name": "stderr",
     "output_type": "stream",
     "text": [
      " 16%|█▌        | 101449/650370 [35:44<3:13:21, 47.31it/s]"
     ]
    },
    {
     "name": "stdout",
     "output_type": "stream",
     "text": [
      "{e}\n",
      "{e}\n"
     ]
    },
    {
     "name": "stderr",
     "output_type": "stream",
     "text": [
      " 16%|█▌        | 101572/650370 [35:45<3:13:14, 47.33it/s]"
     ]
    },
    {
     "name": "stdout",
     "output_type": "stream",
     "text": [
      "{e}\n"
     ]
    },
    {
     "name": "stderr",
     "output_type": "stream",
     "text": [
      " 16%|█▌        | 101693/650370 [35:47<3:13:05, 47.36it/s]"
     ]
    },
    {
     "name": "stdout",
     "output_type": "stream",
     "text": [
      "{e}\n"
     ]
    },
    {
     "name": "stderr",
     "output_type": "stream",
     "text": [
      " 33%|███▎      | 213961/650370 [1:14:19<2:31:36, 47.97it/s]"
     ]
    },
    {
     "name": "stdout",
     "output_type": "stream",
     "text": [
      "{e}\n"
     ]
    },
    {
     "name": "stderr",
     "output_type": "stream",
     "text": [
      " 33%|███▎      | 214097/650370 [1:14:21<2:31:31, 47.99it/s]"
     ]
    },
    {
     "name": "stdout",
     "output_type": "stream",
     "text": [
      "{e}\n"
     ]
    },
    {
     "name": "stderr",
     "output_type": "stream",
     "text": [
      " 33%|███▎      | 214134/650370 [1:14:22<2:31:30, 47.99it/s]"
     ]
    },
    {
     "name": "stdout",
     "output_type": "stream",
     "text": [
      "{e}\n"
     ]
    },
    {
     "name": "stderr",
     "output_type": "stream",
     "text": [
      " 33%|███▎      | 214195/650370 [1:14:22<2:31:27, 48.00it/s]"
     ]
    },
    {
     "name": "stdout",
     "output_type": "stream",
     "text": [
      "{e}\n"
     ]
    },
    {
     "name": "stderr",
     "output_type": "stream",
     "text": [
      " 33%|███▎      | 214251/650370 [1:14:23<2:31:25, 48.00it/s]"
     ]
    },
    {
     "name": "stdout",
     "output_type": "stream",
     "text": [
      "{e}\n"
     ]
    },
    {
     "name": "stderr",
     "output_type": "stream",
     "text": [
      " 33%|███▎      | 214366/650370 [1:14:24<2:31:20, 48.01it/s]"
     ]
    },
    {
     "name": "stdout",
     "output_type": "stream",
     "text": [
      "{e}\n",
      "{e}\n"
     ]
    },
    {
     "name": "stderr",
     "output_type": "stream",
     "text": [
      " 33%|███▎      | 214489/650370 [1:14:26<2:31:16, 48.02it/s]"
     ]
    },
    {
     "name": "stdout",
     "output_type": "stream",
     "text": [
      "{e}\n"
     ]
    },
    {
     "name": "stderr",
     "output_type": "stream",
     "text": [
      " 33%|███▎      | 214610/650370 [1:14:27<2:31:11, 48.03it/s]"
     ]
    },
    {
     "name": "stdout",
     "output_type": "stream",
     "text": [
      "{e}\n"
     ]
    },
    {
     "name": "stderr",
     "output_type": "stream",
     "text": [
      " 61%|██████    | 398113/650370 [2:20:20<1:28:55, 47.28it/s]"
     ]
    },
    {
     "name": "stdout",
     "output_type": "stream",
     "text": [
      "{e}\n"
     ]
    },
    {
     "name": "stderr",
     "output_type": "stream",
     "text": [
      " 61%|██████    | 398150/650370 [2:20:21<1:28:54, 47.28it/s]"
     ]
    },
    {
     "name": "stdout",
     "output_type": "stream",
     "text": [
      "{e}\n"
     ]
    },
    {
     "name": "stderr",
     "output_type": "stream",
     "text": [
      " 61%|██████    | 398204/650370 [2:20:21<1:28:53, 47.28it/s]"
     ]
    },
    {
     "name": "stdout",
     "output_type": "stream",
     "text": [
      "{e}\n"
     ]
    },
    {
     "name": "stderr",
     "output_type": "stream",
     "text": [
      " 61%|██████    | 398272/650370 [2:20:22<1:28:51, 47.29it/s]"
     ]
    },
    {
     "name": "stdout",
     "output_type": "stream",
     "text": [
      "{e}\n"
     ]
    },
    {
     "name": "stderr",
     "output_type": "stream",
     "text": [
      " 61%|██████▏   | 398385/650370 [2:20:23<1:28:48, 47.29it/s]"
     ]
    },
    {
     "name": "stdout",
     "output_type": "stream",
     "text": [
      "{e}\n",
      "{e}\n"
     ]
    },
    {
     "name": "stderr",
     "output_type": "stream",
     "text": [
      " 61%|██████▏   | 398507/650370 [2:20:25<1:28:44, 47.30it/s]"
     ]
    },
    {
     "name": "stdout",
     "output_type": "stream",
     "text": [
      "{e}\n"
     ]
    },
    {
     "name": "stderr",
     "output_type": "stream",
     "text": [
      " 61%|██████▏   | 398626/650370 [2:20:26<1:28:41, 47.31it/s]"
     ]
    },
    {
     "name": "stdout",
     "output_type": "stream",
     "text": [
      "{e}\n"
     ]
    },
    {
     "name": "stderr",
     "output_type": "stream",
     "text": [
      " 75%|███████▍  | 487106/650370 [2:53:29<58:08, 46.79it/s]  "
     ]
    },
    {
     "name": "stdout",
     "output_type": "stream",
     "text": [
      "{e}\n"
     ]
    },
    {
     "name": "stderr",
     "output_type": "stream",
     "text": [
      " 75%|███████▍  | 487169/650370 [2:53:30<58:07, 46.80it/s]"
     ]
    },
    {
     "name": "stdout",
     "output_type": "stream",
     "text": [
      "{e}\n"
     ]
    },
    {
     "name": "stderr",
     "output_type": "stream",
     "text": [
      " 75%|███████▍  | 487228/650370 [2:53:30<58:05, 46.80it/s]"
     ]
    },
    {
     "name": "stdout",
     "output_type": "stream",
     "text": [
      "{e}\n"
     ]
    },
    {
     "name": "stderr",
     "output_type": "stream",
     "text": [
      " 75%|███████▍  | 487342/650370 [2:53:32<58:03, 46.81it/s]"
     ]
    },
    {
     "name": "stdout",
     "output_type": "stream",
     "text": [
      "{e}\n",
      "{e}\n"
     ]
    },
    {
     "name": "stderr",
     "output_type": "stream",
     "text": [
      " 75%|███████▍  | 487465/650370 [2:53:33<58:00, 46.81it/s]"
     ]
    },
    {
     "name": "stdout",
     "output_type": "stream",
     "text": [
      "{e}\n"
     ]
    },
    {
     "name": "stderr",
     "output_type": "stream",
     "text": [
      " 75%|███████▍  | 487585/650370 [2:53:35<57:57, 46.82it/s]"
     ]
    },
    {
     "name": "stdout",
     "output_type": "stream",
     "text": [
      "{e}\n"
     ]
    },
    {
     "name": "stderr",
     "output_type": "stream",
     "text": [
      " 78%|███████▊  | 504373/650370 [2:59:58<52:05, 46.71it/s]"
     ]
    },
    {
     "name": "stdout",
     "output_type": "stream",
     "text": [
      "{e}\n"
     ]
    },
    {
     "name": "stderr",
     "output_type": "stream",
     "text": [
      " 78%|███████▊  | 504432/650370 [2:59:58<52:04, 46.71it/s]"
     ]
    },
    {
     "name": "stdout",
     "output_type": "stream",
     "text": [
      "{e}\n"
     ]
    },
    {
     "name": "stderr",
     "output_type": "stream",
     "text": [
      " 78%|███████▊  | 504547/650370 [3:00:00<52:01, 46.72it/s]"
     ]
    },
    {
     "name": "stdout",
     "output_type": "stream",
     "text": [
      "{e}\n",
      "{e}\n"
     ]
    },
    {
     "name": "stderr",
     "output_type": "stream",
     "text": [
      " 78%|███████▊  | 504670/650370 [3:00:01<51:58, 46.72it/s]"
     ]
    },
    {
     "name": "stdout",
     "output_type": "stream",
     "text": [
      "{e}\n"
     ]
    },
    {
     "name": "stderr",
     "output_type": "stream",
     "text": [
      " 78%|███████▊  | 504790/650370 [3:00:03<51:55, 46.73it/s]"
     ]
    },
    {
     "name": "stdout",
     "output_type": "stream",
     "text": [
      "{e}\n"
     ]
    },
    {
     "name": "stderr",
     "output_type": "stream",
     "text": [
      " 82%|████████▏ | 536436/650370 [3:11:01<40:34, 46.80it/s]"
     ]
    },
    {
     "name": "stdout",
     "output_type": "stream",
     "text": [
      "{e}\n"
     ]
    },
    {
     "name": "stderr",
     "output_type": "stream",
     "text": [
      " 82%|████████▏ | 536551/650370 [3:11:02<40:31, 46.81it/s]"
     ]
    },
    {
     "name": "stdout",
     "output_type": "stream",
     "text": [
      "{e}\n",
      "{e}\n"
     ]
    },
    {
     "name": "stderr",
     "output_type": "stream",
     "text": [
      " 83%|████████▎ | 536674/650370 [3:11:04<40:28, 46.81it/s]"
     ]
    },
    {
     "name": "stdout",
     "output_type": "stream",
     "text": [
      "{e}\n"
     ]
    },
    {
     "name": "stderr",
     "output_type": "stream",
     "text": [
      " 83%|████████▎ | 536794/650370 [3:11:05<40:25, 46.82it/s]"
     ]
    },
    {
     "name": "stdout",
     "output_type": "stream",
     "text": [
      "{e}\n"
     ]
    },
    {
     "name": "stderr",
     "output_type": "stream",
     "text": [
      " 87%|████████▋ | 564172/650370 [3:20:06<30:34, 46.99it/s]"
     ]
    },
    {
     "name": "stdout",
     "output_type": "stream",
     "text": [
      "{e}\n",
      "{e}\n"
     ]
    },
    {
     "name": "stderr",
     "output_type": "stream",
     "text": [
      " 87%|████████▋ | 564295/650370 [3:20:08<30:31, 46.99it/s]"
     ]
    },
    {
     "name": "stdout",
     "output_type": "stream",
     "text": [
      "{e}\n"
     ]
    },
    {
     "name": "stderr",
     "output_type": "stream",
     "text": [
      " 87%|████████▋ | 564415/650370 [3:20:09<30:28, 47.00it/s]"
     ]
    },
    {
     "name": "stdout",
     "output_type": "stream",
     "text": [
      "{e}\n"
     ]
    },
    {
     "name": "stderr",
     "output_type": "stream",
     "text": [
      " 93%|█████████▎| 605838/650370 [3:34:59<15:48, 46.96it/s]"
     ]
    },
    {
     "name": "stdout",
     "output_type": "stream",
     "text": [
      "{e}\n"
     ]
    },
    {
     "name": "stderr",
     "output_type": "stream",
     "text": [
      " 93%|█████████▎| 605947/650370 [3:35:01<15:45, 46.97it/s]"
     ]
    },
    {
     "name": "stdout",
     "output_type": "stream",
     "text": [
      "{e}\n"
     ]
    },
    {
     "name": "stderr",
     "output_type": "stream",
     "text": [
      " 93%|█████████▎| 606065/650370 [3:35:02<15:43, 46.97it/s]"
     ]
    },
    {
     "name": "stdout",
     "output_type": "stream",
     "text": [
      "{e}\n"
     ]
    },
    {
     "name": "stderr",
     "output_type": "stream",
     "text": [
      " 94%|█████████▎| 608295/650370 [3:36:09<14:57, 46.90it/s]"
     ]
    },
    {
     "name": "stdout",
     "output_type": "stream",
     "text": [
      "{e}\n"
     ]
    },
    {
     "name": "stderr",
     "output_type": "stream",
     "text": [
      " 94%|█████████▎| 608416/650370 [3:36:11<14:54, 46.90it/s]"
     ]
    },
    {
     "name": "stdout",
     "output_type": "stream",
     "text": [
      "{e}\n"
     ]
    },
    {
     "name": "stderr",
     "output_type": "stream",
     "text": [
      " 98%|█████████▊| 634744/650370 [3:46:58<05:35, 46.61it/s]"
     ]
    },
    {
     "name": "stdout",
     "output_type": "stream",
     "text": [
      "{e}\n"
     ]
    },
    {
     "name": "stderr",
     "output_type": "stream",
     "text": [
      "100%|██████████| 650370/650370 [3:52:36<00:00, 46.60it/s]\n"
     ]
    }
   ],
   "source": [
    "similarity_graph = make_similarity_graph(pruned_dict,sample=None)"
   ]
  },
  {
   "cell_type": "code",
   "execution_count": 32,
   "metadata": {
    "collapsed": false
   },
   "outputs": [
    {
     "data": {
      "text/plain": [
       "True"
      ]
     },
     "execution_count": 32,
     "metadata": {},
     "output_type": "execute_result"
    }
   ],
   "source": [
    "doc_a, doc_b = list(similarity_graph.edges())[3]\n",
    "similarity_graph.edges()[list(similarity_graph.edges())[3]]['weight'] == compare_docs(pruned_dict[doc_a],pruned_dict[doc_b])"
   ]
  },
  {
   "cell_type": "code",
   "execution_count": 33,
   "metadata": {
    "collapsed": true
   },
   "outputs": [],
   "source": [
    "# Trim graphs lower similarity\n",
    "def prune_similarity_graph(graph,floor=0.4):\n",
    "    removal_candidates = []\n",
    "    for edge in graph.edges():\n",
    "        if graph.edges()[edge]['weight'] < floor:\n",
    "            removal_candidates.append((edge[0],edge[1]))\n",
    "    # remove low weight edges\n",
    "    graph.remove_edges_from(removal_candidates)\n",
    "    # remove isolate nodes\n",
    "    graph.remove_nodes_from(list(nx.isolates(graph)))\n",
    "    return graph"
   ]
  },
  {
   "cell_type": "code",
   "execution_count": 35,
   "metadata": {
    "collapsed": true
   },
   "outputs": [],
   "source": [
    "#pruned_similarity = prune_similarity_graph(similarity_graph,floor=0.85)"
   ]
  },
  {
   "cell_type": "code",
   "execution_count": 37,
   "metadata": {
    "collapsed": true
   },
   "outputs": [],
   "source": [
    "#nx.write_gml(pruned_similarity,'afi_cosine_pruned_85thresh.gml')"
   ]
  },
  {
   "cell_type": "code",
   "execution_count": null,
   "metadata": {
    "collapsed": true
   },
   "outputs": [],
   "source": []
  }
 ],
 "metadata": {
  "kernelspec": {
   "display_name": "Python 3",
   "language": "python",
   "name": "python3"
  },
  "language_info": {
   "codemirror_mode": {
    "name": "ipython",
    "version": 3
   },
   "file_extension": ".py",
   "mimetype": "text/x-python",
   "name": "python",
   "nbconvert_exporter": "python",
   "pygments_lexer": "ipython3",
   "version": "3.5.2"
  },
  "toc": {
   "colors": {
    "hover_highlight": "#DAA520",
    "navigate_num": "#000000",
    "navigate_text": "#333333",
    "running_highlight": "#FF0000",
    "selected_highlight": "#FFD700",
    "sidebar_border": "#EEEEEE",
    "wrapper_background": "#FFFFFF"
   },
   "moveMenuLeft": true,
   "nav_menu": {
    "height": "12px",
    "width": "252px"
   },
   "navigate_menu": true,
   "number_sections": true,
   "sideBar": true,
   "threshold": 4,
   "toc_cell": false,
   "toc_section_display": "block",
   "toc_window_display": false,
   "widenNotebook": false
  }
 },
 "nbformat": 4,
 "nbformat_minor": 2
}
