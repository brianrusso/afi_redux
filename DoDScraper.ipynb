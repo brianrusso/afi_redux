{
 "cells": [
  {
   "cell_type": "markdown",
   "metadata": {},
   "source": [
    "## Scraping of DOD pubs from DTIC\n"
   ]
  },
  {
   "cell_type": "code",
   "execution_count": 1,
   "metadata": {},
   "outputs": [],
   "source": [
    "import os\n",
    "import requests\n",
    "import re\n",
    "\n",
    "from io import StringIO\n",
    "from pdfminer.pdfinterp import PDFResourceManager, PDFPageInterpreter\n",
    "from pdfminer.converter import TextConverter\n",
    "from pdfminer.layout import LAParams\n",
    "from pdfminer.pdfpage import PDFPage\n",
    "\n",
    "def convert_pdf_to_txt(inpath, outpath=None):\n",
    "    rsrcmgr = PDFResourceManager()\n",
    "    retstr = StringIO()\n",
    "    codec = 'utf-8'\n",
    "    laparams = LAParams()\n",
    "    device = TextConverter(rsrcmgr, retstr, codec=codec, laparams=laparams)\n",
    "    with open(inpath, 'rb') as fd:\n",
    "        interpreter = PDFPageInterpreter(rsrcmgr, device)\n",
    "        maxpages = 0\n",
    "        caching = True\n",
    "        pagenos=set()\n",
    "        for page in PDFPage.get_pages(fd, pagenos, maxpages=maxpages,caching=caching, check_extractable=True):\n",
    "            interpreter.process_page(page)\n",
    "        device.close()\n",
    "        str = retstr.getvalue()\n",
    "        retstr.close()\n",
    "        output = str.replace('\\n', '')\n",
    "    if outpath:\n",
    "        with open(outpath, 'w') as outf:\n",
    "            outf.write(output)\n",
    "        return outpath\n",
    "    else:\n",
    "        return output\n",
    "    "
   ]
  },
  {
   "cell_type": "code",
   "execution_count": 2,
   "metadata": {},
   "outputs": [],
   "source": [
    "import pickle\n",
    "\n",
    "locations = {'dod_directives': {'pickle':'dod_dir.pickle',\n",
    "                                'dir':'dod_dir',\n",
    "                                'txt_dir':'dod_dir-txt',\n",
    "                                'url':'http://www.esd.whs.mil/Directives/issuances/dodd/'},\n",
    "            'dod_instructions':{'pickle':'dod_instr.pickle',\n",
    "                                'dir':'dod_instr',\n",
    "                                'txt_dir':'dod_instr-txt',\n",
    "                                'url':'http://www.esd.whs.mil/Directives/issuances/dodi/'},\n",
    "             'dod_manpubs':{'pickle':'dod_manpub.pickle',\n",
    "                               'dir':'dod_manpub',\n",
    "                               'txt_dir':'dod_manpub-txt',\n",
    "                               'url':'http://www.esd.whs.mil/Directives/issuances/dodm/'},\n",
    "             'dod_dtms':{'pickle':'dod_dtm.pickle',\n",
    "                        'dir':'dod_dtm',\n",
    "                        'txt_dir':'dod_dtm-txt',\n",
    "                        'url':'http://www.esd.whs.mil/DD/DoD-Issuances/DTM/'},\n",
    "             'dod_ais':{'pickle':'dod_ai.pickle',\n",
    "                       'dir':'dod_ai',\n",
    "                       'txt_dir':'dod_ai-txt',\n",
    "                       'url':'http://www.esd.whs.mil/Directives/issuances/admin_inst/'}\n",
    "            }\n",
    "\n",
    "\n",
    "def get_directives(directive_type):\n",
    "    if os.path.exists(locations[directive_type]['pickle']):\n",
    "        print(\"Found existing data.. loading from {}\".format(locations[directive_type]['pickle']))    \n",
    "        return load_directive_data(directive_type)\n",
    "    else:\n",
    "        print(\"Didn't find data for {}.. retrieving..\".format(directive_type))\n",
    "        thief = DirectiveThief()\n",
    "        data = thief.scarf_data(locations[directive_type]['url'])\n",
    "        save_directive_data(data,directive_type)\n",
    "        return data\n",
    "\n",
    "def save_directive_data(data, directive_type):\n",
    "    with open(locations[directive_type]['pickle'],'wb') as fp:\n",
    "        return pickle.dump(data, fp, protocol=pickle.HIGHEST_PROTOCOL)\n",
    "        \n",
    "def load_directive_data(directive_type):\n",
    "    with open(locations[directive_type]['pickle'],'rb') as fp:\n",
    "        return pickle.load(fp)    "
   ]
  },
  {
   "cell_type": "markdown",
   "metadata": {},
   "source": []
  },
  {
   "cell_type": "markdown",
   "metadata": {},
   "source": [
    "### We have to tell our crawler where to start - these are the links we want.\n",
    "\n",
    "http://www.e-publishing.af.mil/#/?view=pubs&orgID=10141&catID=1&series=-1&modID=449&tabID=71"
   ]
  },
  {
   "cell_type": "code",
   "execution_count": 3,
   "metadata": {},
   "outputs": [],
   "source": [
    "import selenium\n",
    "from selenium import webdriver\n",
    "from selenium.webdriver.common.keys import Keys\n",
    "\n",
    "\n",
    "class DirectiveThief(object):\n",
    "    def __init__(self):\n",
    "        pass\n",
    "    \n",
    "    def scarf_data(self, url):\n",
    "        driver = self.setup_driver()\n",
    "        driver.get(url)\n",
    "        return self.crawl(driver)\n",
    "    \n",
    "    def setup_driver(self):\n",
    "        driver = webdriver.PhantomJS(executable_path='/usr/local/phantomjs/bin/phantomjs')\n",
    "        driver.implicitly_wait(0.25)\n",
    "        return driver\n",
    "\n",
    "    def crawl(self, driver):\n",
    "        # Start with initial links..\n",
    "        records = []\n",
    "        records += self.get_data(driver)\n",
    "\n",
    "        # Loop until it thinks it is done\n",
    "        while True:\n",
    "            nextbutton = self.get_next_button(driver)\n",
    "            if nextbutton:\n",
    "                nextbutton.click()\n",
    "                records += self.get_data(driver)\n",
    "            else:\n",
    "                return  {record['url'].split(\"/\")[-1].split(\"?\")[0]:record for record in records}\n",
    "            \n",
    "\n",
    "    def get_data(self, driver):\n",
    "        objs = []\n",
    "\n",
    "        table = driver.find_element_by_class_name('dnnGrid')        \n",
    "        table_rows = table.find_elements_by_css_selector('tr')\n",
    "        # first is headers\n",
    "        headers = []\n",
    "        for header in table_rows[0].find_elements_by_css_selector('th'):\n",
    "            headers.append(header.find_element_by_css_selector('a').text)\n",
    "\n",
    "        for row in table_rows[1:]:\n",
    "            new_obj = {}\n",
    "            tds = row.find_elements_by_css_selector('td')\n",
    "            new_obj['url'] = tds[0].find_element_by_css_selector('a').get_attribute('href')\n",
    "            new_obj['fname'] = new_obj['url'].split(\"/\")[-1].split(\"?\")[0]\n",
    "\n",
    "            for td in zip(headers, tds):\n",
    "                new_obj[td[0]] = td[1].text\n",
    "            objs.append(new_obj)\n",
    "        return objs\n",
    "    \n",
    "    def get_next_button(self, driver):\n",
    "        pagination_buttons = driver.find_element_by_class_name('PagingTable').find_elements_by_css_selector('a')\n",
    "        \n",
    "        try:\n",
    "            next_button = pagination_buttons[-2]\n",
    "            spans = driver.find_element_by_class_name('PagingTable').find_elements_by_css_selector('span')\n",
    "        except IndexError:\n",
    "            return None\n",
    "        if spans[-1].text == 'Last':\n",
    "            return None\n",
    "        else:\n",
    "            return next_button\n"
   ]
  },
  {
   "cell_type": "markdown",
   "metadata": {},
   "source": [
    "### Here we tell the crawler how to discover more search results and detect when it is done."
   ]
  },
  {
   "cell_type": "code",
   "execution_count": 4,
   "metadata": {},
   "outputs": [],
   "source": [
    "from tqdm import tqdm\n",
    "\n",
    "\n",
    "class DirectiveCorpus(object):\n",
    "    def __init__(self, datadict, directive_type):\n",
    "        self.records = datadict\n",
    "        self.raw_data_dir = os.path.join(os.getcwd(),locations[directive_type]['dir'])\n",
    "        self.txt_data_dir = os.path.join(os.getcwd(),locations[directive_type]['txt_dir'])\n",
    "        self.ensure_dir(self.raw_data_dir)\n",
    "        \n",
    "        \n",
    "    def ensure_dir(self, dir_name):\n",
    "        INSTR_PATH = os.path.join(os.getcwd(), dir_name)\n",
    "        try:\n",
    "            os.makedirs(INSTR_PATH)\n",
    "        except:\n",
    "            pass\n",
    "    \n",
    "    def assemble(self):\n",
    "        self.download_all()\n",
    "        self.convert_all()\n",
    "        self.load_contents()\n",
    "        return self.as_list()\n",
    "    \n",
    "    def download_all(self):\n",
    "        for k,v in tqdm(self.records.items()):\n",
    "            self.save_record(k,v)\n",
    "\n",
    "    def convert_all(self):\n",
    "        for k,v in tqdm(self.records.items(),desc='Converting to Txt'):\n",
    "            self.convert_to_txt(k,v)            \n",
    "\n",
    "    def load_record(self, record):\n",
    "        return self.load_file(record['txt_path'])\n",
    "        \n",
    "        \n",
    "    def load_file(self, fname):       \n",
    "        with open(fname, 'r') as myfile:\n",
    "            contents = re.sub(r'[\\t\\n\\r\\x0b\\x0c]',' ', myfile.read())\n",
    "            return contents\n",
    "            #return re.sub(\"\\s+\",' ', contents)\n",
    "        \n",
    "    def load_contents(self):\n",
    "        for k,v in tqdm(self.records.items(),desc='Loading'):\n",
    "            try:\n",
    "                self.records[k]['contents'] = self.load_record(v)\n",
    "            except KeyError as e:\n",
    "                print(\"error loading {} - contents are {}\".format(k,v))\n",
    "                \n",
    "    \n",
    "    def as_list(self):\n",
    "        thelist = []\n",
    "        for k,v in tqdm(self.records.items(), desc='Exporting'):\n",
    "            thelist.append(v)\n",
    "        return thelist\n",
    "\n",
    "                         \n",
    "    def set_pdf_fpath(self, record_id, fpath):\n",
    "        self.records[record_id]['pdf_path']= fpath\n",
    "\n",
    "    def set_txt_fpath(self, record_id, fpath):\n",
    "        self.records[record_id]['txt_path']= fpath\n",
    "        \n",
    "        \n",
    "    def convert_to_txt(self, record_id, record):\n",
    "        txt_name = record['fname'].split(\".pdf\")[0] + \".txt\"\n",
    "        fpath = os.path.join(self.txt_data_dir, txt_name)\n",
    "        pdf_path = os.path.join(self.raw_data_dir, record['fname'])\n",
    "\n",
    "        if not os.path.exists(fpath):\n",
    "            try:\n",
    "                try:\n",
    "                    os.makedirs(self.txt_data_dir)\n",
    "                except FileExistsError:\n",
    "                    pass\n",
    "                convert_pdf_to_txt(pdf_path, fpath)\n",
    "                self.set_txt_fpath(record_id, fpath)\n",
    "            except Exception as e:\n",
    "                print(e)\n",
    "        else:\n",
    "            self.set_txt_fpath(record_id, fpath)\n",
    "            pass\n",
    "        \n",
    "            #print(\"Skipping {}\".format(fpath))\n",
    "        \n",
    "    def save_record(self, record_id, record):\n",
    "        \n",
    "        fpath = os.path.join(self.raw_data_dir, record['fname'])\n",
    "        #print(fpath)\n",
    "        # check if already downloaded\n",
    "        if not os.path.isfile(fpath):\n",
    "            try:\n",
    "                response = requests.get(record['url'], stream=True)\n",
    "                response.raise_for_status()\n",
    "                with open(fpath, 'wb') as handle:\n",
    "                    for block in response.iter_content(1024):\n",
    "                        handle.write(block)\n",
    "                #self.set_pdf_fpath(record, fpath)\n",
    "            except Exception as e:\n",
    "                print(e)\n",
    "                pass\n",
    "        else:\n",
    "            pass\n",
    "            #print(\"Skipping {}\".format(fpath))\n"
   ]
  },
  {
   "cell_type": "markdown",
   "metadata": {},
   "source": [
    "### Tie it all together.."
   ]
  },
  {
   "cell_type": "code",
   "execution_count": 5,
   "metadata": {},
   "outputs": [],
   "source": [
    "\n",
    "def save_pickle(data, path, fname):\n",
    "    if not os.path.isdir(path):\n",
    "        os.makedirs(path)\n",
    "    fpath = os.path.join(path, fname)\n",
    "    with open(fpath,'wb') as fp:\n",
    "        return pickle.dump(data, fp, protocol=pickle.HIGHEST_PROTOCOL)\n",
    "        \n",
    "def load_pickle(fpath):\n",
    "    with open(fpath,'rb') as fp:\n",
    "        return pickle.load(fp)\n",
    "    \n",
    "    "
   ]
  },
  {
   "cell_type": "code",
   "execution_count": 6,
   "metadata": {},
   "outputs": [
    {
     "name": "stdout",
     "output_type": "stream",
     "text": [
      "Didn't find data for dod_instructions.. retrieving..\n"
     ]
    },
    {
     "name": "stderr",
     "output_type": "stream",
     "text": [
      " 26%|██▌       | 198/772 [00:59<02:53,  3.31it/s]"
     ]
    },
    {
     "name": "stdout",
     "output_type": "stream",
     "text": [
      "[Errno 21] Is a directory: '/home/brian/usaf_instructiondestruction/dod_instr/'\n"
     ]
    },
    {
     "name": "stderr",
     "output_type": "stream",
     "text": [
      " 29%|██▉       | 222/772 [01:22<03:24,  2.70it/s]"
     ]
    },
    {
     "name": "stdout",
     "output_type": "stream",
     "text": [
      "('Connection aborted.', ConnectionResetError(104, 'Connection reset by peer'))\n"
     ]
    },
    {
     "name": "stderr",
     "output_type": "stream",
     "text": [
      "\r",
      " 29%|██▉       | 223/772 [01:42<04:12,  2.18it/s]"
     ]
    },
    {
     "name": "stdout",
     "output_type": "stream",
     "text": [
      "('Connection aborted.', ConnectionResetError(104, 'Connection reset by peer'))\n"
     ]
    },
    {
     "name": "stderr",
     "output_type": "stream",
     "text": [
      " 29%|██▉       | 226/772 [02:02<04:55,  1.85it/s]"
     ]
    },
    {
     "name": "stdout",
     "output_type": "stream",
     "text": [
      "('Connection aborted.', ConnectionResetError(104, 'Connection reset by peer'))\n"
     ]
    },
    {
     "name": "stderr",
     "output_type": "stream",
     "text": [
      " 30%|██▉       | 231/772 [02:22<05:33,  1.62it/s]"
     ]
    },
    {
     "name": "stdout",
     "output_type": "stream",
     "text": [
      "('Connection aborted.', ConnectionResetError(104, 'Connection reset by peer'))\n"
     ]
    },
    {
     "name": "stderr",
     "output_type": "stream",
     "text": [
      " 32%|███▏      | 250/772 [02:52<06:00,  1.45it/s]"
     ]
    },
    {
     "name": "stdout",
     "output_type": "stream",
     "text": [
      "('Connection aborted.', ConnectionResetError(104, 'Connection reset by peer'))\n"
     ]
    },
    {
     "name": "stderr",
     "output_type": "stream",
     "text": [
      " 33%|███▎      | 253/772 [03:12<06:34,  1.31it/s]"
     ]
    },
    {
     "name": "stdout",
     "output_type": "stream",
     "text": [
      "('Connection aborted.', ConnectionResetError(104, 'Connection reset by peer'))\n"
     ]
    },
    {
     "name": "stderr",
     "output_type": "stream",
     "text": [
      " 33%|███▎      | 258/772 [03:32<07:03,  1.21it/s]"
     ]
    },
    {
     "name": "stdout",
     "output_type": "stream",
     "text": [
      "('Connection aborted.', ConnectionResetError(104, 'Connection reset by peer'))\n"
     ]
    },
    {
     "name": "stderr",
     "output_type": "stream",
     "text": [
      " 34%|███▍      | 263/772 [03:52<07:29,  1.13it/s]"
     ]
    },
    {
     "name": "stdout",
     "output_type": "stream",
     "text": [
      "('Connection aborted.', ConnectionResetError(104, 'Connection reset by peer'))\n"
     ]
    },
    {
     "name": "stderr",
     "output_type": "stream",
     "text": [
      " 37%|███▋      | 288/772 [04:12<07:04,  1.14it/s]"
     ]
    },
    {
     "name": "stdout",
     "output_type": "stream",
     "text": [
      "('Connection aborted.', ConnectionResetError(104, 'Connection reset by peer'))\n"
     ]
    },
    {
     "name": "stderr",
     "output_type": "stream",
     "text": [
      " 41%|████      | 318/772 [04:32<06:29,  1.17it/s]"
     ]
    },
    {
     "name": "stdout",
     "output_type": "stream",
     "text": [
      "('Connection aborted.', ConnectionResetError(104, 'Connection reset by peer'))\n"
     ]
    },
    {
     "name": "stderr",
     "output_type": "stream",
     "text": [
      " 44%|████▍     | 340/772 [04:52<06:11,  1.16it/s]"
     ]
    },
    {
     "name": "stdout",
     "output_type": "stream",
     "text": [
      "('Connection aborted.', ConnectionResetError(104, 'Connection reset by peer'))\n"
     ]
    },
    {
     "name": "stderr",
     "output_type": "stream",
     "text": [
      "\r",
      " 44%|████▍     | 341/772 [05:12<06:35,  1.09it/s]"
     ]
    },
    {
     "name": "stdout",
     "output_type": "stream",
     "text": [
      "('Connection aborted.', ConnectionResetError(104, 'Connection reset by peer'))\n"
     ]
    },
    {
     "name": "stderr",
     "output_type": "stream",
     "text": [
      " 45%|████▍     | 344/772 [05:32<06:53,  1.03it/s]"
     ]
    },
    {
     "name": "stdout",
     "output_type": "stream",
     "text": [
      "('Connection aborted.', ConnectionResetError(104, 'Connection reset by peer'))\n"
     ]
    },
    {
     "name": "stderr",
     "output_type": "stream",
     "text": [
      "\r",
      " 45%|████▍     | 345/772 [05:52<07:16,  1.02s/it]"
     ]
    },
    {
     "name": "stdout",
     "output_type": "stream",
     "text": [
      "('Connection aborted.', ConnectionResetError(104, 'Connection reset by peer'))\n"
     ]
    },
    {
     "name": "stderr",
     "output_type": "stream",
     "text": [
      " 45%|████▌     | 348/772 [06:12<07:34,  1.07s/it]"
     ]
    },
    {
     "name": "stdout",
     "output_type": "stream",
     "text": [
      "('Connection aborted.', ConnectionResetError(104, 'Connection reset by peer'))\n"
     ]
    },
    {
     "name": "stderr",
     "output_type": "stream",
     "text": [
      " 62%|██████▏   | 476/772 [07:02<04:22,  1.13it/s]"
     ]
    },
    {
     "name": "stdout",
     "output_type": "stream",
     "text": [
      "('Connection aborted.', ConnectionResetError(104, 'Connection reset by peer'))\n"
     ]
    },
    {
     "name": "stderr",
     "output_type": "stream",
     "text": [
      "\r",
      " 62%|██████▏   | 477/772 [07:22<04:33,  1.08it/s]"
     ]
    },
    {
     "name": "stdout",
     "output_type": "stream",
     "text": [
      "('Connection aborted.', ConnectionResetError(104, 'Connection reset by peer'))\n"
     ]
    },
    {
     "name": "stderr",
     "output_type": "stream",
     "text": [
      " 63%|██████▎   | 486/772 [07:25<04:22,  1.09it/s]"
     ]
    },
    {
     "name": "stdout",
     "output_type": "stream",
     "text": [
      "404 Client Error: Not Found for url: http://www.esd.whs.mil/Portals/54/Documents/DD/issuances/dodi/510581p.pdf\n"
     ]
    },
    {
     "name": "stderr",
     "output_type": "stream",
     "text": [
      " 63%|██████▎   | 489/772 [07:42<04:27,  1.06it/s]"
     ]
    },
    {
     "name": "stdout",
     "output_type": "stream",
     "text": [
      "('Connection aborted.', ConnectionResetError(104, 'Connection reset by peer'))\n"
     ]
    },
    {
     "name": "stderr",
     "output_type": "stream",
     "text": [
      " 70%|██████▉   | 540/772 [08:12<03:31,  1.10it/s]"
     ]
    },
    {
     "name": "stdout",
     "output_type": "stream",
     "text": [
      "('Connection aborted.', ConnectionResetError(104, 'Connection reset by peer'))\n"
     ]
    },
    {
     "name": "stderr",
     "output_type": "stream",
     "text": [
      " 73%|███████▎  | 564/772 [08:32<03:09,  1.10it/s]"
     ]
    },
    {
     "name": "stdout",
     "output_type": "stream",
     "text": [
      "('Connection aborted.', ConnectionResetError(104, 'Connection reset by peer'))\n"
     ]
    },
    {
     "name": "stderr",
     "output_type": "stream",
     "text": [
      " 73%|███████▎  | 567/772 [08:52<03:12,  1.06it/s]"
     ]
    },
    {
     "name": "stdout",
     "output_type": "stream",
     "text": [
      "('Connection aborted.', ConnectionResetError(104, 'Connection reset by peer'))\n"
     ]
    },
    {
     "name": "stderr",
     "output_type": "stream",
     "text": [
      "100%|██████████| 772/772 [09:58<00:00,  1.29it/s]\n",
      "Converting to Txt:  25%|██▌       | 196/772 [09:54<29:05,  3.03s/it]"
     ]
    },
    {
     "name": "stdout",
     "output_type": "stream",
     "text": [
      "[Errno 21] Is a directory: '/home/brian/usaf_instructiondestruction/dod_instr/'\n"
     ]
    },
    {
     "name": "stderr",
     "output_type": "stream",
     "text": [
      "Converting to Txt:  29%|██▊       | 221/772 [11:09<27:50,  3.03s/it]"
     ]
    },
    {
     "name": "stdout",
     "output_type": "stream",
     "text": [
      "[Errno 2] No such file or directory: '/home/brian/usaf_instructiondestruction/dod_instr/O200016v1_dodi_2016.pdf'\n",
      "[Errno 2] No such file or directory: '/home/brian/usaf_instructiondestruction/dod_instr/O200016v2_dodi_2016.pdf'\n"
     ]
    },
    {
     "name": "stderr",
     "output_type": "stream",
     "text": [
      "Converting to Txt:  29%|██▉       | 225/772 [11:12<27:15,  2.99s/it]"
     ]
    },
    {
     "name": "stdout",
     "output_type": "stream",
     "text": [
      "[Errno 2] No such file or directory: '/home/brian/usaf_instructiondestruction/dod_instr/O200022p.pdf'\n"
     ]
    },
    {
     "name": "stderr",
     "output_type": "stream",
     "text": [
      "Converting to Txt:  30%|██▉       | 230/772 [11:20<26:42,  2.96s/it]"
     ]
    },
    {
     "name": "stdout",
     "output_type": "stream",
     "text": [
      "[Errno 2] No such file or directory: '/home/brian/usaf_instructiondestruction/dod_instr/O200027p.pdf'\n"
     ]
    },
    {
     "name": "stderr",
     "output_type": "stream",
     "text": [
      "Converting to Txt:  32%|███▏      | 249/772 [11:59<25:10,  2.89s/it]"
     ]
    },
    {
     "name": "stdout",
     "output_type": "stream",
     "text": [
      "[Errno 2] No such file or directory: '/home/brian/usaf_instructiondestruction/dod_instr/O300008p.pdf'\n"
     ]
    },
    {
     "name": "stderr",
     "output_type": "stream",
     "text": [
      "Converting to Txt:  33%|███▎      | 252/772 [12:04<24:54,  2.87s/it]"
     ]
    },
    {
     "name": "stdout",
     "output_type": "stream",
     "text": [
      "[Errno 2] No such file or directory: '/home/brian/usaf_instructiondestruction/dod_instr/O300013_dodi_2017.pdf'\n"
     ]
    },
    {
     "name": "stderr",
     "output_type": "stream",
     "text": [
      "Converting to Txt:  33%|███▎      | 256/772 [12:09<24:31,  2.85s/it]"
     ]
    },
    {
     "name": "stdout",
     "output_type": "stream",
     "text": [
      "[Errno 2] No such file or directory: '/home/brian/usaf_instructiondestruction/dod_instr/O300205p.pdf'\n"
     ]
    },
    {
     "name": "stderr",
     "output_type": "stream",
     "text": [
      "Converting to Txt:  34%|███▍      | 262/772 [12:23<24:08,  2.84s/it]"
     ]
    },
    {
     "name": "stdout",
     "output_type": "stream",
     "text": [
      "[Errno 2] No such file or directory: '/home/brian/usaf_instructiondestruction/dod_instr/O302043p.pdf'\n"
     ]
    },
    {
     "name": "stderr",
     "output_type": "stream",
     "text": [
      "Converting to Txt:  37%|███▋      | 287/772 [13:20<22:33,  2.79s/it]"
     ]
    },
    {
     "name": "stdout",
     "output_type": "stream",
     "text": [
      "[Errno 2] No such file or directory: '/home/brian/usaf_instructiondestruction/dod_instr/O311507p.pdf'\n"
     ]
    },
    {
     "name": "stderr",
     "output_type": "stream",
     "text": [
      "Converting to Txt:  41%|████      | 317/772 [14:14<20:26,  2.70s/it]"
     ]
    },
    {
     "name": "stdout",
     "output_type": "stream",
     "text": [
      "[Errno 2] No such file or directory: '/home/brian/usaf_instructiondestruction/dod_instr/O330004p.pdf'\n"
     ]
    },
    {
     "name": "stderr",
     "output_type": "stream",
     "text": [
      "Converting to Txt:  44%|████▍     | 340/772 [14:38<18:36,  2.58s/it]"
     ]
    },
    {
     "name": "stdout",
     "output_type": "stream",
     "text": [
      "[Errno 2] No such file or directory: '/home/brian/usaf_instructiondestruction/dod_instr/O360003p.pdf'\n",
      "[Errno 2] No such file or directory: '/home/brian/usaf_instructiondestruction/dod_instr/O360702p.pdf'\n"
     ]
    },
    {
     "name": "stderr",
     "output_type": "stream",
     "text": [
      "\r",
      "Converting to Txt:  44%|████▍     | 343/772 [14:39<18:20,  2.56s/it]"
     ]
    },
    {
     "name": "stdout",
     "output_type": "stream",
     "text": [
      "[Errno 2] No such file or directory: '/home/brian/usaf_instructiondestruction/dod_instr/O371002p.pdf'\n",
      "[Errno 2] No such file or directory: '/home/brian/usaf_instructiondestruction/dod_instr/O371003_dodi_2017.pdf'\n"
     ]
    },
    {
     "name": "stderr",
     "output_type": "stream",
     "text": [
      "\r",
      "Converting to Txt:  45%|████▍     | 347/772 [14:42<18:00,  2.54s/it]"
     ]
    },
    {
     "name": "stdout",
     "output_type": "stream",
     "text": [
      "[Errno 2] No such file or directory: '/home/brian/usaf_instructiondestruction/dod_instr/O378001p.pdf'\n"
     ]
    },
    {
     "name": "stderr",
     "output_type": "stream",
     "text": [
      "Converting to Txt:  59%|█████▉    | 456/772 [20:19<14:05,  2.67s/it]"
     ]
    },
    {
     "name": "stdout",
     "output_type": "stream",
     "text": [
      "Unknown operator: '\\x06'\n"
     ]
    },
    {
     "name": "stderr",
     "output_type": "stream",
     "text": [
      "Converting to Txt:  61%|██████▏   | 473/772 [20:55<13:13,  2.65s/it]"
     ]
    },
    {
     "name": "stdout",
     "output_type": "stream",
     "text": [
      "[Errno 2] No such file or directory: '/home/brian/usaf_instructiondestruction/dod_instr/O510094p.pdf'\n",
      "[Errno 2] No such file or directory: '/home/brian/usaf_instructiondestruction/dod_instr/O510095p.pdf'\n"
     ]
    },
    {
     "name": "stderr",
     "output_type": "stream",
     "text": [
      "Converting to Txt:  63%|██████▎   | 484/772 [21:07<12:34,  2.62s/it]"
     ]
    },
    {
     "name": "stdout",
     "output_type": "stream",
     "text": [
      "[Errno 2] No such file or directory: '/home/brian/usaf_instructiondestruction/dod_instr/510581p.pdf'\n"
     ]
    },
    {
     "name": "stderr",
     "output_type": "stream",
     "text": [
      "\r",
      "Converting to Txt:  63%|██████▎   | 487/772 [21:12<12:24,  2.61s/it]"
     ]
    },
    {
     "name": "stdout",
     "output_type": "stream",
     "text": [
      "[Errno 2] No such file or directory: '/home/brian/usaf_instructiondestruction/dod_instr/O511011p.pdf'\n"
     ]
    },
    {
     "name": "stderr",
     "output_type": "stream",
     "text": [
      "Converting to Txt:  70%|██████▉   | 539/772 [22:52<09:53,  2.55s/it]"
     ]
    },
    {
     "name": "stdout",
     "output_type": "stream",
     "text": [
      "[Errno 2] No such file or directory: '/home/brian/usaf_instructiondestruction/dod_instr/O521063p.pdf'\n"
     ]
    },
    {
     "name": "stderr",
     "output_type": "stream",
     "text": [
      "Converting to Txt:  71%|███████   | 545/772 [23:04<09:36,  2.54s/it]"
     ]
    },
    {
     "name": "stdout",
     "output_type": "stream",
     "text": [
      "Unknown operator: '\\x06'\n"
     ]
    },
    {
     "name": "stderr",
     "output_type": "stream",
     "text": [
      "\r",
      "Converting to Txt:  71%|███████   | 546/772 [23:04<09:33,  2.54s/it]"
     ]
    },
    {
     "name": "stdout",
     "output_type": "stream",
     "text": [
      "Unknown operator: '\\x06'\n"
     ]
    },
    {
     "name": "stderr",
     "output_type": "stream",
     "text": [
      "Converting to Txt:  73%|███████▎  | 563/772 [23:44<08:48,  2.53s/it]"
     ]
    },
    {
     "name": "stdout",
     "output_type": "stream",
     "text": [
      "[Errno 2] No such file or directory: '/home/brian/usaf_instructiondestruction/dod_instr/O524021p.pdf'\n"
     ]
    },
    {
     "name": "stderr",
     "output_type": "stream",
     "text": [
      "\r",
      "Converting to Txt:  73%|███████▎  | 565/772 [23:46<08:42,  2.52s/it]"
     ]
    },
    {
     "name": "stdout",
     "output_type": "stream",
     "text": [
      "[Errno 2] No such file or directory: '/home/brian/usaf_instructiondestruction/dod_instr/O524024p.pdf'\n"
     ]
    },
    {
     "name": "stderr",
     "output_type": "stream",
     "text": [
      "Converting to Txt:  75%|███████▌  | 580/772 [24:05<07:58,  2.49s/it]"
     ]
    },
    {
     "name": "stdout",
     "output_type": "stream",
     "text": [
      "Unknown operator: '\\x06'\n"
     ]
    },
    {
     "name": "stderr",
     "output_type": "stream",
     "text": [
      "Converting to Txt:  80%|███████▉  | 616/772 [25:18<06:24,  2.46s/it]"
     ]
    },
    {
     "name": "stdout",
     "output_type": "stream",
     "text": [
      "Unknown operator: '\\x06'\n"
     ]
    },
    {
     "name": "stderr",
     "output_type": "stream",
     "text": [
      "Converting to Txt:  81%|████████▏ | 628/772 [25:42<05:53,  2.46s/it]"
     ]
    },
    {
     "name": "stdout",
     "output_type": "stream",
     "text": [
      "Unknown operator: '\\x06'\n"
     ]
    },
    {
     "name": "stderr",
     "output_type": "stream",
     "text": [
      "Converting to Txt:  82%|████████▏ | 636/772 [25:53<05:32,  2.44s/it]"
     ]
    },
    {
     "name": "stdout",
     "output_type": "stream",
     "text": [
      "Unknown operator: '\\x06'\n"
     ]
    },
    {
     "name": "stderr",
     "output_type": "stream",
     "text": [
      "Converting to Txt: 100%|██████████| 772/772 [34:25<00:00,  2.68s/it]\n",
      "Loading: 100%|██████████| 772/772 [00:00<00:00, 2875.12it/s]\n",
      "Exporting: 100%|██████████| 772/772 [00:00<00:00, 815617.81it/s]"
     ]
    },
    {
     "name": "stdout",
     "output_type": "stream",
     "text": [
      "error loading  - contents are {'url': 'http://www.esd.whs.mil/Directives/issuances/140025/', 'fname': '', 'Issuance #': 'DoDI 1400.25', 'Issuance Date': ' ', 'Issuance Subject': 'DoD Civilian Personnel Management System', 'CH. #': ' ', 'CH. Date': ' ', 'Exp. Date': ' ', 'Related Memo.': ' ', 'OPR': 'USD(P&R)'}\n",
      "error loading O200016v1_dodi_2016.pdf - contents are {'url': 'https://directives.whs.mil/issuances/O200016v1_dodi_2016.pdf', 'fname': 'O200016v1_dodi_2016.pdf', 'Issuance #': 'DoDI O-2000.16 Volume 1', 'Issuance Date': '11/17/2016', 'Issuance Subject': 'DoD Antiterrorism (AT) Program Implementation: DoD At Standards\\n(This website is not authorized to post controlled documents. DoD PKI certificate required to access this document.)', 'CH. #': 'CH 1', 'CH. Date': '5/5/2017', 'Exp. Date': ' ', 'Related Memo.': ' ', 'OPR': 'USD(P) 703-571-9255'}\n",
      "error loading O200016v2_dodi_2016.pdf - contents are {'url': 'https://directives.whs.mil/issuances/O200016v2_dodi_2016.pdf', 'fname': 'O200016v2_dodi_2016.pdf', 'Issuance #': 'DoDI O-2000.16 Volume 2', 'Issuance Date': '11/17/2016', 'Issuance Subject': 'DoD Antiterrorism (AT) Program Implementation: DoD Force Protection Condition (FPCON) System\\n(This website is not authorized to post controlled documents. DoD PKI certificate required to access this document.)', 'CH. #': 'CH 1', 'CH. Date': '5/8/2017', 'Exp. Date': ' ', 'Related Memo.': ' ', 'OPR': 'USD(P) 703-571-9255'}\n",
      "error loading O200022p.pdf - contents are {'url': 'https://directives.whs.mil/issuances/O200022p.pdf', 'fname': 'O200022p.pdf', 'Issuance #': 'DoDI O-2000.22', 'Issuance Date': '6/19/2014', 'Issuance Subject': 'Designation and Physical Protection of DoD High-Risk Personnel\\n(This website is not authorized to post controlled documents. DoD PKI certificate required to access this document.)', 'CH. #': ' ', 'CH. Date': ' ', 'Exp. Date': '6/19/2024', 'Related Memo.': ' ', 'OPR': 'USD(P) 703-571-9255'}\n",
      "error loading O200027p.pdf - contents are {'url': 'https://directives.whs.mil/issuances/O200027p.pdf', 'fname': 'O200027p.pdf', 'Issuance #': 'DoDI O-2000.27', 'Issuance Date': '12/20/2012', 'Issuance Subject': 'DoD Senior Foreign Official Visit Program (SFOVP)\\n(This website is not authorized to post controlled documents. DoD PKI certificate required to access this document.)', 'CH. #': ' ', 'CH. Date': ' ', 'Exp. Date': '12/20/2022', 'Related Memo.': ' ', 'OPR': 'DCMO / DoD Exec. Secretariat 703-692-7048'}\n",
      "error loading O300008p.pdf - contents are {'url': 'https://directives.whs.mil/issuances/O300008p.pdf', 'fname': 'O300008p.pdf', 'Issuance #': 'DoDI O-3000.08', 'Issuance Date': '1/5/2010', 'Issuance Subject': 'Balanced Survivability Assessments (BSAs)\\n(This website is not authorized to post controlled documents. DoD PKI certificate required to access this document.)', 'CH. #': 'CH 1', 'CH. Date': '11/19/2010', 'Exp. Date': ' ', 'Related Memo.': ' ', 'OPR': 'USD(AT&L) 703-697-2525'}\n",
      "error loading O300013_dodi_2017.pdf - contents are {'url': 'https://directives.whs.mil/issuances/O300013_dodi_2017.pdf', 'fname': 'O300013_dodi_2017.pdf', 'Issuance #': 'DoDI O-3000.13', 'Issuance Date': '4/4/2017', 'Issuance Subject': 'DoD Rewards Program (DoDRP)\\n(This website is not authorized to post controlled documents. DoD PKI certificate required to access this document.)', 'CH. #': ' ', 'CH. Date': ' ', 'Exp. Date': ' ', 'Related Memo.': ' ', 'OPR': 'USD(P) 703-571-9255'}\n",
      "error loading O300205p.pdf - contents are {'url': 'https://directives.whs.mil/issuances/O300205p.pdf', 'fname': 'O300205p.pdf', 'Issuance #': 'DoDI O-3002.05', 'Issuance Date': '4/12/2016', 'Issuance Subject': 'Personnel Recovery (PR) Education and Training\\n(This website is not authorized to post controlled documents. DoD PKI certificate required to access this document.)', 'CH. #': ' ', 'CH. Date': ' ', 'Exp. Date': ' ', 'Related Memo.': ' ', 'OPR': 'USD(P) 703-571-9255'}\n",
      "error loading O302043p.pdf - contents are {'url': 'https://directives.whs.mil/issuances/O302043p.pdf', 'fname': 'O302043p.pdf', 'Issuance #': 'DoDI O-3020.43', 'Issuance Date': '3/6/2007', 'Issuance Subject': 'Emergency Management and Incident Command on the Pentagon Facilities\\n(This website is not authorized to post controlled documents. DoD PKI certificate required to access this document.)', 'CH. #': ' ', 'CH. Date': ' ', 'Exp. Date': ' ', 'Related Memo.': ' ', 'OPR': 'PFPA, DCMO 703-697-2421'}\n",
      "error loading O311507p.pdf - contents are {'url': 'https://directives.whs.mil/issuances/O311507p.pdf', 'fname': 'O311507p.pdf', 'Issuance #': 'DoDI O-3115.07', 'Issuance Date': '9/15/2008', 'Issuance Subject': 'Signals Intelligence (SIGINT)\\n(This website is not authorized to post controlled documents. DoD PKI certificate required to access this document.)', 'CH. #': 'CH 1', 'CH. Date': '11/19/2010', 'Exp. Date': ' ', 'Related Memo.': ' ', 'OPR': 'USD(I)'}\n",
      "error loading O330004p.pdf - contents are {'url': 'https://directives.whs.mil/issuances/O330004p.pdf', 'fname': 'O330004p.pdf', 'Issuance #': 'DoDI O-3300.04', 'Issuance Date': '5/25/2012', 'Issuance Subject': 'Defense Biometric Enabled Intelligence (BEI) and Forensic Enabled Intelligence (FEI)\\n(This website is not authorized to post controlled documents. DoD PKI certificate required to access this document.)', 'CH. #': ' ', 'CH. Date': ' ', 'Exp. Date': '5/25/2022', 'Related Memo.': ' ', 'OPR': 'USD(I)'}\n",
      "error loading O360003p.pdf - contents are {'url': 'https://directives.whs.mil/issuances/O360003p.pdf', 'fname': 'O360003p.pdf', 'Issuance #': 'DoDI O-3600.03', 'Issuance Date': '4/22/2010', 'Issuance Subject': 'Technical Assurance Standard (TAS) for Computer Network Attack (CNA) Capabilities\\n(This website is not authorized to post controlled documents. DoD PKI certificate required to access this document.)', 'CH. #': 'CH 1', 'CH. Date': '11/19/2010', 'Exp. Date': ' ', 'Related Memo.': ' ', 'OPR': 'USD(I)'}\n",
      "error loading O360702p.pdf - contents are {'url': 'https://directives.whs.mil/issuances/O360702p.pdf', 'fname': 'O360702p.pdf', 'Issuance #': 'DoDI O-3607.02', 'Issuance Date': '6/13/2016', 'Issuance Subject': 'Military Information Support Operations (MISO)\\n(This website is not authorized to post controlled documents. DoD PKI certificate required to access this document.)', 'CH. #': ' ', 'CH. Date': ' ', 'Exp. Date': ' ', 'Related Memo.': ' ', 'OPR': 'USD(P) 703-571-9255'}\n",
      "error loading O371002p.pdf - contents are {'url': 'https://directives.whs.mil/issuances/O371002p.pdf', 'fname': 'O371002p.pdf', 'Issuance #': 'DoDI O-3710.02', 'Issuance Date': '10/20/2014', 'Issuance Subject': 'Secretary of Defense Communications (SDC)\\n(This website is not authorized to post controlled documents. DoD PKI certificate required to access this document.)', 'CH. #': ' ', 'CH. Date': ' ', 'Exp. Date': ' ', 'Related Memo.': ' ', 'OPR': 'DoD CIO'}\n",
      "error loading O371003_dodi_2017.pdf - contents are {'url': 'https://directives.whs.mil/issuances/O371003_dodi_2017.pdf', 'fname': 'O371003_dodi_2017.pdf', 'Issuance #': 'DoDI O-3710.03', 'Issuance Date': '1/12/2017', 'Issuance Subject': 'Chairman of the Joint Chiefs of Staff Airborne and Temporary Duty Communications\\n(This website is not authorized to post controlled documents. DoD PKI certificate required to access this document.)', 'CH. #': ' ', 'CH. Date': ' ', 'Exp. Date': ' ', 'Related Memo.': ' ', 'OPR': 'DoD CIO'}\n",
      "error loading O378001p.pdf - contents are {'url': 'https://directives.whs.mil/issuances/O378001p.pdf', 'fname': 'O378001p.pdf', 'Issuance #': 'DoDI O-3780.01', 'Issuance Date': '5/22/2014', 'Issuance Subject': 'Senior Leader Secure Communications Modernization (SLSCM)\\n(This website is not authorized to post controlled documents. DoD PKI certificate required to access this document.)', 'CH. #': ' ', 'CH. Date': ' ', 'Exp. Date': '5/22/2024', 'Related Memo.': ' ', 'OPR': 'DoD CIO'}\n",
      "error loading 503007p.pdf - contents are {'url': 'http://www.esd.whs.mil/Portals/54/Documents/DD/issuances/dodi/503007p.pdf', 'fname': '503007p.pdf', 'Issuance #': 'DoDI 5030.7', 'Issuance Date': '8/22/1988', 'Issuance Subject': 'Coordination of Significant Litigation and Other Matters Involving the Department of Justice', 'CH. #': ' ', 'CH. Date': ' ', 'Exp. Date': ' ', 'Related Memo.': ' ', 'OPR': 'GC, DOD 703-693-9994'}\n",
      "error loading O510094p.pdf - contents are {'url': 'https://directives.whs.mil/issuances/O510094p.pdf', 'fname': 'O510094p.pdf', 'Issuance #': 'DoDI O-5100.94', 'Issuance Date': '9/27/2011', 'Issuance Subject': 'Oversight, Coordination, Assessment, and Reporting of DoD Intelligence and Intelligence-Related Sensitive Activities\\n(This website is not authorized to post controlled documents. DoD PKI certificate required to access this document.)', 'CH. #': 'CH 1', 'CH. Date': '10/15/2013', 'Exp. Date': '9/27/2021', 'Related Memo.': ' ', 'OPR': 'USD(I)'}\n",
      "error loading O510095p.pdf - contents are {'url': 'https://directives.whs.mil/issuances/O510095p.pdf', 'fname': 'O510095p.pdf', 'Issuance #': 'DoDI O-5100.95', 'Issuance Date': '4/18/2012', 'Issuance Subject': 'Human Intelligence (HUMINT) Training-Joint Center of Excellence (HT-JCOE)\\n(This website is not authorized to post controlled documents. DoD PKI certificate required to access this document.)', 'CH. #': 'CH 1', 'CH. Date': '10/15/2013', 'Exp. Date': '4/18/2022', 'Related Memo.': ' ', 'OPR': 'USD(I)'}\n",
      "error loading 510581p.pdf - contents are {'url': 'http://www.esd.whs.mil/Portals/54/Documents/DD/issuances/dodi/510581p.pdf', 'fname': '510581p.pdf', 'Issuance #': 'DoDI C-5105.81', 'Issuance Date': '11/6/2008', 'Issuance Subject': 'Implementing Instructions for DoD Operations At U.S. Embassies (U)', 'CH. #': ' ', 'CH. Date': ' ', 'Exp. Date': ' ', 'Related Memo.': ' ', 'OPR': 'USD(P) 703-571-9255 USD(I)'}\n",
      "error loading O511011p.pdf - contents are {'url': 'https://directives.whs.mil/issuances/O511011p.pdf', 'fname': 'O511011p.pdf', 'Issuance #': 'DoDI O-5110.11', 'Issuance Date': '10/4/2010', 'Issuance Subject': 'Raven Rock Mountain Complex (RRMC)\\n(This website is not authorized to post controlled documents. DoD PKI certificate required to access this document.)', 'CH. #': ' ', 'CH. Date': ' ', 'Exp. Date': ' ', 'Related Memo.': ' ', 'OPR': 'DCMO'}\n",
      "error loading O521063p.pdf - contents are {'url': 'https://directives.whs.mil/issuances/O521063p.pdf', 'fname': 'O521063p.pdf', 'Issuance #': 'DoDI O-5210.63', 'Issuance Date': '11/21/2006', 'Issuance Subject': 'DoD Procedures for Security of Nuclear Reactors and Special Nuclear Materials (SNM)\\n(This website is not authorized to post controlled documents. DoD PKI certificate required to access this document.)', 'CH. #': ' ', 'CH. Date': ' ', 'Exp. Date': ' ', 'Related Memo.': ' ', 'OPR': 'USD(AT&L) 703-697-2525'}\n",
      "error loading 521084p.pdf - contents are {'url': 'http://www.esd.whs.mil/Portals/54/Documents/DD/issuances/dodi/521084p.pdf', 'fname': '521084p.pdf', 'Issuance #': 'DoDI 5210.84', 'Issuance Date': '1/22/1992', 'Issuance Subject': 'Security of DoD Personnel At U.S. Missions Abroad', 'CH. #': 'CH 1', 'CH. Date': '10/15/1996', 'Exp. Date': ' ', 'Related Memo.': ' ', 'OPR': 'USD(P) 703-571-9255'}\n",
      "error loading 521087p.pdf - contents are {'url': 'http://www.esd.whs.mil/Portals/54/Documents/DD/issuances/dodi/521087p.pdf', 'fname': '521087p.pdf', 'Issuance #': 'DoDI 5210.87', 'Issuance Date': '11/30/1998', 'Issuance Subject': 'Selection of DoD Military and Civilian Personnel and Contractor Employees for Assignment to Presidential Support Activities (PSAS)', 'CH. #': ' ', 'CH. Date': ' ', 'Exp. Date': ' ', 'Related Memo.': ' ', 'OPR': 'ES, OSD 703-692-7120'}\n",
      "error loading O524021p.pdf - contents are {'url': 'https://directives.whs.mil/issuances/O524021p.pdf', 'fname': 'O524021p.pdf', 'Issuance #': 'DoDI O-5240.21', 'Issuance Date': '5/14/2009', 'Issuance Subject': 'Counterintelligence (CI) Inquiries\\n(This website is not authorized to post controlled documents. DoD PKI certificate required to access this document.)', 'CH. #': 'CH 2', 'CH. Date': '10/15/2013', 'Exp. Date': '5/14/2019', 'Related Memo.': ' ', 'OPR': 'USD(I)'}\n",
      "error loading O524024p.pdf - contents are {'url': 'https://directives.whs.mil/issuances/O524024p.pdf', 'fname': 'O524024p.pdf', 'Issuance #': 'DoDI O-5240.24', 'Issuance Date': '6/8/2011', 'Issuance Subject': 'Counterintelligence (CI) Activities Supporting Research, Development, and Acquisition (RDA)\\n(This website is not authorized to post controlled documents. DoD PKI certificate required to access this document.)', 'CH. #': 'CH 1', 'CH. Date': '10/15/2013', 'Exp. Date': '6/8/2021', 'Related Memo.': ' ', 'OPR': 'USD(I)'}\n",
      "error loading 541015p.pdf - contents are {'url': 'http://www.esd.whs.mil/Portals/54/Documents/DD/issuances/dodi/541015p.pdf', 'fname': '541015p.pdf', 'Issuance #': 'DoDI 5410.15', 'Issuance Date': '3/28/1989', 'Issuance Subject': 'DoD Public Affairs Assistance to Non-Government, Non-Entertainment Oriented Print and Electronic Media', 'CH. #': ' ', 'CH. Date': ' ', 'Exp. Date': ' ', 'Related Memo.': ' ', 'OPR': 'ATSD(PA)'}\n",
      "error loading 553508p.pdf - contents are {'url': 'http://www.esd.whs.mil/Portals/54/Documents/DD/issuances/dodi/553508p.pdf', 'fname': '553508p.pdf', 'Issuance #': 'DoDI 5535.8', 'Issuance Date': '5/14/1999', 'Issuance Subject': 'DoD Technology Transfer (T2) Program', 'CH. #': ' ', 'CH. Date': ' ', 'Exp. Date': ' ', 'Related Memo.': ' ', 'OPR': 'USD(AT&L) 703-697-2525'}\n",
      "error loading 601020p.pdf - contents are {'url': 'http://www.esd.whs.mil/Portals/54/Documents/DD/issuances/dodi/601020p.pdf', 'fname': '601020p.pdf', 'Issuance #': 'DoDI 6010.20', 'Issuance Date': '6/17/1997', 'Issuance Subject': 'Admission Procedures for the Uniformed Services University of the Health Sciences (USUHS)', 'CH. #': ' ', 'CH. Date': ' ', 'Exp. Date': ' ', 'Related Memo.': ' ', 'OPR': 'USD(P&R)'}\n",
      "error loading 602505p.pdf - contents are {'url': 'http://www.esd.whs.mil/Portals/54/Documents/DD/issuances/dodi/602505p.pdf', 'fname': '602505p.pdf', 'Issuance #': 'DoDI 6025.5', 'Issuance Date': '1/6/1995', 'Issuance Subject': 'Personal Services Contracts (PSCS) for Health Care Providers (HCPS)', 'CH. #': ' ', 'CH. Date': ' ', 'Exp. Date': ' ', 'Related Memo.': ' ', 'OPR': 'USD(P&R)'}\n"
     ]
    },
    {
     "name": "stderr",
     "output_type": "stream",
     "text": [
      "\n"
     ]
    }
   ],
   "source": [
    "instr = get_directives('dod_instructions')\n",
    "instr_corpus = DirectiveCorpus(instr,'dod_instructions').assemble()\n",
    "save_pickle(instr_corpus,\"/home/brian/corpora\",\"dod_instructions.pickle\")"
   ]
  },
  {
   "cell_type": "code",
   "execution_count": 7,
   "metadata": {},
   "outputs": [
    {
     "name": "stderr",
     "output_type": "stream",
     "text": [
      "\r",
      "  0%|          | 0/50 [00:00<?, ?it/s]"
     ]
    },
    {
     "name": "stdout",
     "output_type": "stream",
     "text": [
      "Found existing data.. loading from dod_ai.pickle\n"
     ]
    },
    {
     "name": "stderr",
     "output_type": "stream",
     "text": [
      "100%|██████████| 50/50 [00:14<00:00,  3.55it/s]\n",
      "Converting to Txt: 100%|██████████| 50/50 [00:00<00:00, 38374.24it/s]\n",
      "Loading: 100%|██████████| 50/50 [00:00<00:00, 2185.54it/s]\n",
      "Exporting: 100%|██████████| 50/50 [00:00<00:00, 145939.60it/s]"
     ]
    },
    {
     "name": "stdout",
     "output_type": "stream",
     "text": [
      "('Connection aborted.', ConnectionResetError(104, 'Connection reset by peer'))\n",
      "[Errno 2] No such file or directory: '/home/brian/usaf_instructiondestruction/dod_ai/a116p_FOUO.pdf'\n",
      "error loading a116p_FOUO.pdf - contents are {'url': 'https://directives.whs.mil/issuances/a116p_FOUO.pdf', 'fname': 'a116p_FOUO.pdf', 'Issuance #': 'AI O-116', 'Issuance Date': '10/21/2014', 'Issuance Subject': 'Post-balanced Survivability Assessment (P-BSA) Program\\n(This website is not authorized to post controlled documents. DoD PKI certificate required to access this document.)', 'CH. #': ' ', 'CH. Date': ' ', 'EXP. Date': ' ', 'OPR': 'DCMO\\n703-614-8888'}\n"
     ]
    },
    {
     "name": "stderr",
     "output_type": "stream",
     "text": [
      "\n"
     ]
    }
   ],
   "source": [
    "ais = get_directives('dod_ais')\n",
    "ais_corpus = DirectiveCorpus(ais,'dod_ais').assemble()\n",
    "save_pickle(ais_corpus,\"/home/brian/corpora\",\"dod_ais.pickle\")"
   ]
  },
  {
   "cell_type": "code",
   "execution_count": 8,
   "metadata": {},
   "outputs": [
    {
     "name": "stderr",
     "output_type": "stream",
     "text": [
      "\r",
      "  0%|          | 0/175 [00:00<?, ?it/s]"
     ]
    },
    {
     "name": "stdout",
     "output_type": "stream",
     "text": [
      "Found existing data.. loading from dod_manpub.pickle\n"
     ]
    },
    {
     "name": "stderr",
     "output_type": "stream",
     "text": [
      "\r",
      "  2%|▏         | 3/175 [00:19<19:04,  6.65s/it]"
     ]
    },
    {
     "name": "stdout",
     "output_type": "stream",
     "text": [
      "('Connection aborted.', ConnectionResetError(104, 'Connection reset by peer'))\n"
     ]
    },
    {
     "name": "stderr",
     "output_type": "stream",
     "text": [
      " 11%|█▏        | 20/175 [00:29<03:51,  1.50s/it]"
     ]
    },
    {
     "name": "stdout",
     "output_type": "stream",
     "text": [
      "[Errno 21] Is a directory: '/home/brian/usaf_instructiondestruction/dod_manpub/'\n"
     ]
    },
    {
     "name": "stderr",
     "output_type": "stream",
     "text": [
      " 14%|█▎        | 24/175 [00:49<05:14,  2.08s/it]"
     ]
    },
    {
     "name": "stdout",
     "output_type": "stream",
     "text": [
      "('Connection aborted.', ConnectionResetError(104, 'Connection reset by peer'))\n"
     ]
    },
    {
     "name": "stderr",
     "output_type": "stream",
     "text": [
      " 51%|█████▏    | 90/175 [01:30<01:25,  1.00s/it]"
     ]
    },
    {
     "name": "stdout",
     "output_type": "stream",
     "text": [
      "('Connection aborted.', ConnectionResetError(104, 'Connection reset by peer'))\n"
     ]
    },
    {
     "name": "stderr",
     "output_type": "stream",
     "text": [
      " 71%|███████   | 124/175 [02:00<00:49,  1.03it/s]"
     ]
    },
    {
     "name": "stdout",
     "output_type": "stream",
     "text": [
      "('Connection aborted.', ConnectionResetError(104, 'Connection reset by peer'))\n"
     ]
    },
    {
     "name": "stderr",
     "output_type": "stream",
     "text": [
      " 98%|█████████▊| 172/175 [02:30<00:02,  1.15it/s]"
     ]
    },
    {
     "name": "stdout",
     "output_type": "stream",
     "text": [
      "('Connection aborted.', ConnectionResetError(104, 'Connection reset by peer'))\n"
     ]
    },
    {
     "name": "stderr",
     "output_type": "stream",
     "text": [
      "100%|██████████| 175/175 [02:31<00:00,  1.15it/s]\n",
      "Converting to Txt:   1%|          | 2/175 [00:25<36:09, 12.54s/it]"
     ]
    },
    {
     "name": "stdout",
     "output_type": "stream",
     "text": [
      "[Errno 2] No such file or directory: '/home/brian/usaf_instructiondestruction/dod_manpub/O100021_dodm_2017.pdf'\n"
     ]
    },
    {
     "name": "stderr",
     "output_type": "stream",
     "text": [
      "Converting to Txt:  11%|█         | 19/175 [03:22<27:44, 10.67s/it]"
     ]
    },
    {
     "name": "stdout",
     "output_type": "stream",
     "text": [
      "[Errno 21] Is a directory: '/home/brian/usaf_instructiondestruction/dod_manpub/'\n"
     ]
    },
    {
     "name": "stderr",
     "output_type": "stream",
     "text": [
      "Converting to Txt:  13%|█▎        | 22/175 [03:38<25:21,  9.94s/it]"
     ]
    },
    {
     "name": "stdout",
     "output_type": "stream",
     "text": [
      "[Errno 2] No such file or directory: '/home/brian/usaf_instructiondestruction/dod_manpub/O302044M.pdf'\n"
     ]
    },
    {
     "name": "stderr",
     "output_type": "stream",
     "text": [
      "Converting to Txt:  51%|█████     | 89/175 [15:25<14:54, 10.40s/it]"
     ]
    },
    {
     "name": "stdout",
     "output_type": "stream",
     "text": [
      "[Errno 2] No such file or directory: '/home/brian/usaf_instructiondestruction/dod_manpub/O465011_dodm_2017.pdf'\n"
     ]
    },
    {
     "name": "stderr",
     "output_type": "stream",
     "text": [
      "Converting to Txt:  70%|███████   | 123/175 [20:24<08:37,  9.96s/it]"
     ]
    },
    {
     "name": "stdout",
     "output_type": "stream",
     "text": [
      "[Errno 2] No such file or directory: '/home/brian/usaf_instructiondestruction/dod_manpub/O520513p.pdf'\n"
     ]
    },
    {
     "name": "stderr",
     "output_type": "stream",
     "text": [
      "Converting to Txt:  74%|███████▎  | 129/175 [21:25<07:38,  9.97s/it]"
     ]
    },
    {
     "name": "stdout",
     "output_type": "stream",
     "text": [
      "Unknown operator: '\\x03'\n"
     ]
    },
    {
     "name": "stderr",
     "output_type": "stream",
     "text": [
      "Converting to Txt:  98%|█████████▊| 171/175 [31:00<00:43, 10.88s/it]"
     ]
    },
    {
     "name": "stdout",
     "output_type": "stream",
     "text": [
      "[Errno 2] No such file or directory: '/home/brian/usaf_instructiondestruction/dod_manpub/O853001M.pdf'\n"
     ]
    },
    {
     "name": "stderr",
     "output_type": "stream",
     "text": [
      "Converting to Txt: 100%|██████████| 175/175 [31:38<00:00, 10.85s/it]\n",
      "Loading: 100%|██████████| 175/175 [00:00<00:00, 950.85it/s] \n",
      "Exporting: 100%|██████████| 175/175 [00:00<00:00, 533432.56it/s]\n"
     ]
    },
    {
     "name": "stdout",
     "output_type": "stream",
     "text": [
      "error loading O100021_dodm_2017.pdf - contents are {'url': 'https://directives.whs.mil/issuances/O100021_dodm_2017.pdf', 'fname': 'O100021_dodm_2017.pdf', 'Issuance #': 'DoDM O-1000.21', 'Issuance Date': '3/6/2017', 'Issuance Subject': 'Passport And Passport Agent Services\\n(This website is not authorized to post controlled documents. DoD PKI certificate required to access this document.)', 'CH. #': ' ', 'CH. Date': ' ', 'Exp. Date': ' ', 'Related Memo.': ' ', 'OPR': 'DCMO 703-601-6128'}\n",
      "error loading  - contents are {'url': 'http://www.esd.whs.mil/Directives/issuances/414025m/', 'fname': '', 'Issuance #': 'DoD 4140.25-M\\nVolume 1-3\\n(Date Varies)', 'Issuance Date': ' ', 'Issuance Subject': 'DoD Management Of Bulk Petroleum Products, Natural Gas, And Coal', 'CH. #': ' ', 'CH. Date': ' ', 'Exp. Date': ' ', 'Related Memo.': ' ', 'OPR': 'USD(AT&L) 703-697-2525'}\n",
      "error loading O302044M.pdf - contents are {'url': 'https://directives.whs.mil/issuances/O302044M.pdf', 'fname': 'O302044M.pdf', 'Issuance #': 'DoD O-3020.44-M', 'Issuance Date': '5/19/2010', 'Issuance Subject': 'OSD Defense Crisis Management (CRM) Procedures\\n(This website is not authorized to post controlled documents. DoD PKI certificate required to access this document.)', 'CH. #': 'CH 1', 'CH. Date': '11/19/2010', 'Exp. Date': ' ', 'Related Memo.': ' ', 'OPR': 'USD(P) 703-571-9255'}\n",
      "error loading O465011_dodm_2017.pdf - contents are {'url': 'https://directives.whs.mil/issuances/O465011_dodm_2017.pdf', 'fname': 'O465011_dodm_2017.pdf', 'Issuance #': 'DoDM O-4650.11', 'Issuance Date': '5/26/2017', 'Issuance Subject': 'Positioning, Navigation, And Timing (PNT) Security\\n(This website is not authorized to post controlled documents. DoD PKI certificate required to access this document.)', 'CH. #': 'CH 1', 'CH. Date': '7/12/2017', 'Exp. Date': ' ', 'Related Memo.': ' ', 'OPR': 'DoD CIO'}\n",
      "error loading O520513p.pdf - contents are {'url': 'https://directives.whs.mil/issuances/O520513p.pdf', 'fname': 'O520513p.pdf', 'Issuance #': 'DoDM O-5205.13', 'Issuance Date': '4/26/2012', 'Issuance Subject': 'Defense Industrial Base (DIB) Cyber Security And Information Assurance (CS/IA) Program Security Classification Manual (SCM)\\n(This website is not authorized to post controlled documents. DoD PKI certificate required to access this document.)', 'CH. #': ' ', 'CH. Date': ' ', 'Exp. Date': '4/26/2022', 'Related Memo.': ' ', 'OPR': 'DoD CIO'}\n",
      "error loading 522022c.pdf - contents are {'url': 'http://www.esd.whs.mil/Portals/54/Documents/DD/issuances/dodm/522022c.pdf', 'fname': '522022c.pdf', 'Issuance #': 'DoD 5220.22-C', 'Issuance Date': '10/1/1986', 'Issuance Subject': 'Carrier Supplement To Industrial Security Manual For Safeguarding Classified Information', 'CH. #': ' ', 'CH. Date': ' ', 'Exp. Date': ' ', 'Related Memo.': ' ', 'OPR': 'USD(I)'}\n",
      "error loading O853001M.pdf - contents are {'url': 'https://directives.whs.mil/issuances/O853001M.pdf', 'fname': 'O853001M.pdf', 'Issuance #': 'DoD O-8530.1-M', 'Issuance Date': '12/17/2003', 'Issuance Subject': 'Department Of Defense Computer Network Defense (CND) Service Provider Certification And Accreditation Program\\n(This website is not authorized to post controlled documents. DoD PKI certificate required to access this document.)', 'CH. #': ' ', 'CH. Date': ' ', 'Exp. Date': ' ', 'Related Memo.': ' ', 'OPR': 'DoD CIO'}\n"
     ]
    }
   ],
   "source": [
    "manpubs = get_directives('dod_manpubs')\n",
    "manpubs_corpus = DirectiveCorpus(manpubs,'dod_manpubs').assemble()\n",
    "save_pickle(manpubs_corpus,\"/home/brian/corpora\",\"dod_manpubs.pickle\")"
   ]
  },
  {
   "cell_type": "code",
   "execution_count": 9,
   "metadata": {},
   "outputs": [
    {
     "name": "stdout",
     "output_type": "stream",
     "text": [
      "Didn't find data for dod_dtms.. retrieving..\n"
     ]
    },
    {
     "name": "stderr",
     "output_type": "stream",
     "text": [
      "100%|██████████| 17/17 [00:09<00:00,  1.80it/s]\n",
      "Converting to Txt: 100%|██████████| 17/17 [00:27<00:00,  1.64s/it]\n",
      "Loading: 100%|██████████| 17/17 [00:00<00:00, 3995.69it/s]\n",
      "Exporting: 100%|██████████| 17/17 [00:00<00:00, 180514.35it/s]\n"
     ]
    }
   ],
   "source": [
    "dtm = get_directives('dod_dtms')\n",
    "dtms_corpus = DirectiveCorpus(dtm,'dod_dtms').assemble()\n",
    "save_pickle(dtms_corpus,\"/home/brian/corpora\",\"dod_dtms.pickle\")"
   ]
  },
  {
   "cell_type": "code",
   "execution_count": 10,
   "metadata": {},
   "outputs": [
    {
     "name": "stdout",
     "output_type": "stream",
     "text": [
      "Didn't find data for dod_directives.. retrieving..\n"
     ]
    },
    {
     "name": "stderr",
     "output_type": "stream",
     "text": [
      " 30%|██▉       | 94/314 [00:00<00:00, 546.34it/s]"
     ]
    },
    {
     "name": "stdout",
     "output_type": "stream",
     "text": [
      "404 Client Error: Not Found for url: http://www.esd.whs.mil/Portals/54/Documents/DD/issuances/dodd/332505p.pdf\n"
     ]
    },
    {
     "name": "stderr",
     "output_type": "stream",
     "text": [
      "100%|██████████| 314/314 [00:20<00:00, 15.42it/s]\n",
      "Converting to Txt:   0%|          | 0/314 [00:00<?, ?it/s]"
     ]
    },
    {
     "name": "stdout",
     "output_type": "stream",
     "text": [
      "('Connection aborted.', ConnectionResetError(104, 'Connection reset by peer'))\n"
     ]
    },
    {
     "name": "stderr",
     "output_type": "stream",
     "text": [
      "Converting to Txt:  30%|███       | 95/314 [02:01<04:40,  1.28s/it]"
     ]
    },
    {
     "name": "stdout",
     "output_type": "stream",
     "text": [
      "[Errno 2] No such file or directory: '/home/brian/usaf_instructiondestruction/dod_dir/332505p.pdf'\n"
     ]
    },
    {
     "name": "stderr",
     "output_type": "stream",
     "text": [
      "Converting to Txt:  41%|████▏     | 130/314 [02:47<03:56,  1.29s/it]"
     ]
    },
    {
     "name": "stdout",
     "output_type": "stream",
     "text": [
      "[Errno 2] No such file or directory: '/home/brian/usaf_instructiondestruction/dod_dir/O510019p.pdf'\n"
     ]
    },
    {
     "name": "stderr",
     "output_type": "stream",
     "text": [
      "Converting to Txt: 100%|██████████| 314/314 [07:10<00:00,  1.37s/it]\n",
      "Loading: 100%|██████████| 314/314 [00:00<00:00, 4601.57it/s]\n",
      "Exporting: 100%|██████████| 314/314 [00:00<00:00, 681330.29it/s]"
     ]
    },
    {
     "name": "stdout",
     "output_type": "stream",
     "text": [
      "error loading 332505p.pdf - contents are {'url': 'http://www.esd.whs.mil/Portals/54/Documents/DD/issuances/dodd/332505p.pdf', 'fname': '332505p.pdf', 'Issuance #': 'DoDD C-3325.05', 'Issuance Date': '2/25/2000', 'Issuance Subject': 'Classified Title', 'CH. #': ' ', 'CH. Date': ' ', 'EXP. Date': ' ', 'Related Memo.': ' ', 'OPR': 'USD(P) 703-571-9255'}\n",
      "error loading O510019p.pdf - contents are {'url': 'https://directives.whs.mil/issuances/O510019p.pdf', 'fname': 'O510019p.pdf', 'Issuance #': 'DoDD O-5100.19', 'Issuance Date': '11/12/2014', 'Issuance Subject': 'Critical Information Communications (CRITICOMM) System\\n(This website is not authorized to post controlled documents. DoD PKI certificate required to access this document.)', 'CH. #': ' ', 'CH. Date': ' ', 'EXP. Date': ' ', 'Related Memo.': ' ', 'OPR': 'USD(I)'}\n"
     ]
    },
    {
     "name": "stderr",
     "output_type": "stream",
     "text": [
      "\n"
     ]
    }
   ],
   "source": [
    "directives = get_directives('dod_directives')\n",
    "dir_corpus = DirectiveCorpus(directives,'dod_directives').assemble()\n",
    "save_pickle(dir_corpus,\"/home/brian/corpora\",\"dod_directives.pickle\")"
   ]
  },
  {
   "cell_type": "code",
   "execution_count": null,
   "metadata": {},
   "outputs": [],
   "source": []
  }
 ],
 "metadata": {
  "kernelspec": {
   "display_name": "Python 3",
   "language": "python",
   "name": "python3"
  },
  "language_info": {
   "codemirror_mode": {
    "name": "ipython",
    "version": 3
   },
   "file_extension": ".py",
   "mimetype": "text/x-python",
   "name": "python",
   "nbconvert_exporter": "python",
   "pygments_lexer": "ipython3",
   "version": "3.6.3"
  },
  "toc": {
   "colors": {
    "hover_highlight": "#DAA520",
    "navigate_num": "#000000",
    "navigate_text": "#333333",
    "running_highlight": "#FF0000",
    "selected_highlight": "#FFD700",
    "sidebar_border": "#EEEEEE",
    "wrapper_background": "#FFFFFF"
   },
   "moveMenuLeft": true,
   "nav_menu": {
    "height": "12px",
    "width": "252px"
   },
   "navigate_menu": true,
   "number_sections": true,
   "sideBar": true,
   "threshold": 4,
   "toc_cell": false,
   "toc_section_display": "block",
   "toc_window_display": false,
   "widenNotebook": false
  }
 },
 "nbformat": 4,
 "nbformat_minor": 2
}
