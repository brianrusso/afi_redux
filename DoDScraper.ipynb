{
 "cells": [
  {
   "cell_type": "markdown",
   "metadata": {},
   "source": [
    "## Scraping of DOD pubs from DTIC\n"
   ]
  },
  {
   "cell_type": "code",
   "execution_count": 1,
   "metadata": {},
   "outputs": [],
   "source": [
    "import os\n",
    "import requests\n",
    "\n",
    "locations = {'dod_directives':'dod_dir',\n",
    "            'dod_instructions':'dod_instr'}\n",
    "\n",
    "def ensure_dir(dir_name):\n",
    "    INSTR_PATH = os.path.join(os.getcwd(),dir_name)\n",
    "    try:\n",
    "        os.mkdir(INSTR_PATH)\n",
    "    except:\n",
    "        pass\n",
    "    \n",
    "for loc in locations.items():\n",
    "    ensure_dir(loc[1])"
   ]
  },
  {
   "cell_type": "code",
   "execution_count": 2,
   "metadata": {},
   "outputs": [],
   "source": [
    "def save_file(doctype, url):\n",
    "    fname = url.split(\"/\")[-1]\n",
    "    fpath = os.path.join(os.getcwd(), locations[doctype], fname)\n",
    "\n",
    "    # check if already downloaded\n",
    "    if not os.path.isfile(fpath):\n",
    "        try:\n",
    "            response = requests.get(url, stream=True)\n",
    "            response.raise_for_status()\n",
    "            with open(fpath, 'wb') as handle:\n",
    "                for block in response.iter_content(1024):\n",
    "                    handle.write(block)\n",
    "        except Exception as e:\n",
    "            print(e)\n",
    "            pass\n",
    "    else:\n",
    "        print(\"Skipping {}\".format(fpath))"
   ]
  },
  {
   "attachments": {},
   "cell_type": "markdown",
   "metadata": {},
   "source": []
  },
  {
   "cell_type": "code",
   "execution_count": 54,
   "metadata": {},
   "outputs": [],
   "source": [
    "import selenium\n",
    "from selenium import webdriver\n",
    "from selenium.webdriver.common.keys import Keys\n",
    "from time import sleep\n",
    "\n",
    "driver = webdriver.PhantomJS(executable_path='/usr/local/phantomjs/bin/phantomjs')\n",
    "driver.implicitly_wait(0.5)\n"
   ]
  },
  {
   "cell_type": "markdown",
   "metadata": {},
   "source": [
    "### We have to tell our crawler where to start - these are the links we want.\n",
    "\n",
    "http://www.e-publishing.af.mil/#/?view=pubs&orgID=10141&catID=1&series=-1&modID=449&tabID=71"
   ]
  },
  {
   "cell_type": "code",
   "execution_count": 55,
   "metadata": {},
   "outputs": [],
   "source": [
    "dodd_url = 'http://www.esd.whs.mil/Directives/issuances/dodd/'\n",
    "dodi_url = 'http://www.esd.whs.mil/Directives/issuances/dodi/'\n",
    "\n",
    "driver.get(dodi_url)"
   ]
  },
  {
   "cell_type": "markdown",
   "metadata": {},
   "source": [
    "### Here we tell the crawler how to discover more search results and detect when it is done."
   ]
  },
  {
   "cell_type": "code",
   "execution_count": 63,
   "metadata": {},
   "outputs": [],
   "source": [
    "def rip_table():\n",
    "    headers = get_hdrs()\n",
    "    return get_recs(headers)\n",
    "\n",
    "def get_hdrs():\n",
    "    table = driver.find_element_by_class_name('dnnGrid')\n",
    "    # get headers\n",
    "    header_row = table.find_element_by_class_name('dnnGridHeader')\n",
    "    headers = header_row.find_elements_by_css_selector('th')\n",
    "    # get records\n",
    "    ret = []\n",
    "    for header in headers:\n",
    "        ret.append(header.find_element_by_css_selector('a').text)\n",
    "    return ret\n",
    "\n",
    "def get_recs(headers):\n",
    "    objs = []\n",
    "    get_hdrs()\n",
    "    table = driver.find_element_by_class_name('dnnGrid')        \n",
    "    recs = table.find_elements_by_class_name('dnnGridItem')\n",
    "    recs_alt = table.find_elements_by_class_name('dnnGridAltItem')\n",
    "    for rec in recs:\n",
    "        new_obj = {}\n",
    "        tds = rec.find_elements_by_css_selector('td')\n",
    "        new_obj['url'] = tds[0].find_element_by_css_selector('a').get_attribute('href')\n",
    "        \n",
    "        for td in zip(headers, tds):\n",
    "            new_obj[td[0]] = td[1].text\n",
    "        objs.append(new_obj)\n",
    "    return objs\n",
    "    #return [link.get_attribute('href') for link in links]\n",
    "\n",
    "def get_next_button():\n",
    "    pagination_buttons = driver.find_element_by_class_name('PagingTable').find_elements_by_css_selector('a')\n",
    "    next_button = pagination_buttons[-1]\n",
    "    spans = driver.find_element_by_class_name('PagingTable').find_elements_by_css_selector('span')\n",
    "    if spans[0].text == 'First':\n",
    "        return next_button\n",
    "    elif spans[-1:].text == 'Last':\n",
    "        return None"
   ]
  },
  {
   "cell_type": "code",
   "execution_count": 64,
   "metadata": {},
   "outputs": [
    {
     "data": {
      "text/plain": [
       "[<selenium.webdriver.remote.webelement.WebElement (session=\"453567e0-e68b-11e7-9e09-1b765e82268d\", element=\":wdc:1513887158744\")>,\n",
       " <selenium.webdriver.remote.webelement.WebElement (session=\"453567e0-e68b-11e7-9e09-1b765e82268d\", element=\":wdc:1513887158745\")>,\n",
       " <selenium.webdriver.remote.webelement.WebElement (session=\"453567e0-e68b-11e7-9e09-1b765e82268d\", element=\":wdc:1513887158746\")>]"
      ]
     },
     "execution_count": 64,
     "metadata": {},
     "output_type": "execute_result"
    }
   ],
   "source": [
    "driver.find_element_by_class_name('PagingTable').find_elements_by_css_selector('span')"
   ]
  },
  {
   "cell_type": "markdown",
   "metadata": {},
   "source": [
    "### Tie it all together.."
   ]
  },
  {
   "cell_type": "code",
   "execution_count": 67,
   "metadata": {},
   "outputs": [],
   "source": [
    "def crawl():\n",
    "    # Start with initial links..\n",
    "    links = []\n",
    "    links += rip_table()\n",
    "    \n",
    "    # Loop until it thinks it is done\n",
    "    while True:\n",
    "        nextbutton = get_next_button()\n",
    "        if nextbutton:\n",
    "            nextbutton.click()\n",
    "            links += rip_table()\n",
    "        else:\n",
    "            return links\n"
   ]
  },
  {
   "cell_type": "markdown",
   "metadata": {},
   "source": [
    "## Now we can download all the documents"
   ]
  },
  {
   "cell_type": "code",
   "execution_count": 68,
   "metadata": {},
   "outputs": [
    {
     "ename": "AttributeError",
     "evalue": "'list' object has no attribute 'text'",
     "output_type": "error",
     "traceback": [
      "\u001b[0;31m---------------------------------------------------------------------------\u001b[0m",
      "\u001b[0;31mAttributeError\u001b[0m                            Traceback (most recent call last)",
      "\u001b[0;32m<ipython-input-68-97e9b1562ef5>\u001b[0m in \u001b[0;36m<module>\u001b[0;34m()\u001b[0m\n\u001b[0;32m----> 1\u001b[0;31m \u001b[0mall_links\u001b[0m \u001b[0;34m=\u001b[0m \u001b[0mcrawl\u001b[0m\u001b[0;34m(\u001b[0m\u001b[0;34m)\u001b[0m\u001b[0;34m\u001b[0m\u001b[0m\n\u001b[0m",
      "\u001b[0;32m<ipython-input-67-e246dcc5b46e>\u001b[0m in \u001b[0;36mcrawl\u001b[0;34m()\u001b[0m\n\u001b[1;32m      6\u001b[0m     \u001b[0;31m# Loop until it thinks it is done\u001b[0m\u001b[0;34m\u001b[0m\u001b[0;34m\u001b[0m\u001b[0m\n\u001b[1;32m      7\u001b[0m     \u001b[0;32mwhile\u001b[0m \u001b[0;32mTrue\u001b[0m\u001b[0;34m:\u001b[0m\u001b[0;34m\u001b[0m\u001b[0m\n\u001b[0;32m----> 8\u001b[0;31m         \u001b[0mnextbutton\u001b[0m \u001b[0;34m=\u001b[0m \u001b[0mget_next_button\u001b[0m\u001b[0;34m(\u001b[0m\u001b[0;34m)\u001b[0m\u001b[0;34m\u001b[0m\u001b[0m\n\u001b[0m\u001b[1;32m      9\u001b[0m         \u001b[0;32mif\u001b[0m \u001b[0mnextbutton\u001b[0m\u001b[0;34m:\u001b[0m\u001b[0;34m\u001b[0m\u001b[0m\n\u001b[1;32m     10\u001b[0m             \u001b[0mnextbutton\u001b[0m\u001b[0;34m.\u001b[0m\u001b[0mclick\u001b[0m\u001b[0;34m(\u001b[0m\u001b[0;34m)\u001b[0m\u001b[0;34m\u001b[0m\u001b[0m\n",
      "\u001b[0;32m<ipython-input-63-b8af79002958>\u001b[0m in \u001b[0;36mget_next_button\u001b[0;34m()\u001b[0m\n\u001b[1;32m     37\u001b[0m     \u001b[0;32mif\u001b[0m \u001b[0mspans\u001b[0m\u001b[0;34m[\u001b[0m\u001b[0;36m0\u001b[0m\u001b[0;34m]\u001b[0m\u001b[0;34m.\u001b[0m\u001b[0mtext\u001b[0m \u001b[0;34m==\u001b[0m \u001b[0;34m'First'\u001b[0m\u001b[0;34m:\u001b[0m\u001b[0;34m\u001b[0m\u001b[0m\n\u001b[1;32m     38\u001b[0m         \u001b[0;32mreturn\u001b[0m \u001b[0mnext_button\u001b[0m\u001b[0;34m\u001b[0m\u001b[0m\n\u001b[0;32m---> 39\u001b[0;31m     \u001b[0;32melif\u001b[0m \u001b[0mspans\u001b[0m\u001b[0;34m[\u001b[0m\u001b[0;34m-\u001b[0m\u001b[0;36m1\u001b[0m\u001b[0;34m:\u001b[0m\u001b[0;34m]\u001b[0m\u001b[0;34m.\u001b[0m\u001b[0mtext\u001b[0m \u001b[0;34m==\u001b[0m \u001b[0;34m'Last'\u001b[0m\u001b[0;34m:\u001b[0m\u001b[0;34m\u001b[0m\u001b[0m\n\u001b[0m\u001b[1;32m     40\u001b[0m         \u001b[0;32mreturn\u001b[0m \u001b[0;32mNone\u001b[0m\u001b[0;34m\u001b[0m\u001b[0m\n",
      "\u001b[0;31mAttributeError\u001b[0m: 'list' object has no attribute 'text'"
     ]
    }
   ],
   "source": [
    "all_links = crawl()"
   ]
  },
  {
   "cell_type": "code",
   "execution_count": null,
   "metadata": {},
   "outputs": [],
   "source": [
    "all_links[3]"
   ]
  },
  {
   "cell_type": "code",
   "execution_count": null,
   "metadata": {},
   "outputs": [],
   "source": [
    "[save_file(link) for link in all_links]"
   ]
  },
  {
   "cell_type": "code",
   "execution_count": null,
   "metadata": {},
   "outputs": [],
   "source": [
    "print(\"We downloaded {} files\".format(len(all_links)))"
   ]
  },
  {
   "cell_type": "markdown",
   "metadata": {},
   "source": [
    "### Intermediate PDF -> txt not shown.. uninteresting.. here's a file"
   ]
  },
  {
   "cell_type": "code",
   "execution_count": null,
   "metadata": {},
   "outputs": [],
   "source": [
    "with open('/home/brian/usaf_instructiondestruction/afi_txt/afh10-222v14.txt') as fp:\n",
    "    print(fp.read())"
   ]
  },
  {
   "cell_type": "code",
   "execution_count": null,
   "metadata": {},
   "outputs": [],
   "source": []
  }
 ],
 "metadata": {
  "kernelspec": {
   "display_name": "Python 3",
   "language": "python",
   "name": "python3"
  },
  "language_info": {
   "codemirror_mode": {
    "name": "ipython",
    "version": 3
   },
   "file_extension": ".py",
   "mimetype": "text/x-python",
   "name": "python",
   "nbconvert_exporter": "python",
   "pygments_lexer": "ipython3",
   "version": "3.6.3"
  },
  "toc": {
   "colors": {
    "hover_highlight": "#DAA520",
    "navigate_num": "#000000",
    "navigate_text": "#333333",
    "running_highlight": "#FF0000",
    "selected_highlight": "#FFD700",
    "sidebar_border": "#EEEEEE",
    "wrapper_background": "#FFFFFF"
   },
   "moveMenuLeft": true,
   "nav_menu": {
    "height": "12px",
    "width": "252px"
   },
   "navigate_menu": true,
   "number_sections": true,
   "sideBar": true,
   "threshold": 4,
   "toc_cell": false,
   "toc_section_display": "block",
   "toc_window_display": false,
   "widenNotebook": false
  }
 },
 "nbformat": 4,
 "nbformat_minor": 2
}
