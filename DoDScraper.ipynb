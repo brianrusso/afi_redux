{
 "cells": [
  {
   "cell_type": "markdown",
   "metadata": {},
   "source": [
    "## Scraping of DOD pubs from DTIC\n"
   ]
  },
  {
   "cell_type": "code",
   "execution_count": 1,
   "metadata": {},
   "outputs": [
    {
     "ename": "NameError",
     "evalue": "name 'locations' is not defined",
     "output_type": "error",
     "traceback": [
      "\u001b[0;31m---------------------------------------------------------------------------\u001b[0m",
      "\u001b[0;31mNameError\u001b[0m                                 Traceback (most recent call last)",
      "\u001b[0;32m<ipython-input-1-dcb774c8a221>\u001b[0m in \u001b[0;36m<module>\u001b[0;34m()\u001b[0m\n\u001b[1;32m     11\u001b[0m         \u001b[0;32mpass\u001b[0m\u001b[0;34m\u001b[0m\u001b[0m\n\u001b[1;32m     12\u001b[0m \u001b[0;34m\u001b[0m\u001b[0m\n\u001b[0;32m---> 13\u001b[0;31m \u001b[0;32mfor\u001b[0m \u001b[0mloc\u001b[0m \u001b[0;32min\u001b[0m \u001b[0mlocations\u001b[0m\u001b[0;34m.\u001b[0m\u001b[0mitems\u001b[0m\u001b[0;34m(\u001b[0m\u001b[0;34m)\u001b[0m\u001b[0;34m:\u001b[0m\u001b[0;34m\u001b[0m\u001b[0m\n\u001b[0m\u001b[1;32m     14\u001b[0m     \u001b[0mensure_dir\u001b[0m\u001b[0;34m(\u001b[0m\u001b[0mloc\u001b[0m\u001b[0;34m[\u001b[0m\u001b[0;36m1\u001b[0m\u001b[0;34m]\u001b[0m\u001b[0;34m)\u001b[0m\u001b[0;34m\u001b[0m\u001b[0m\n",
      "\u001b[0;31mNameError\u001b[0m: name 'locations' is not defined"
     ]
    }
   ],
   "source": [
    "import os\n",
    "import requests\n",
    "\n",
    "\n",
    "\n",
    "def ensure_dir(dir_name):\n",
    "    INSTR_PATH = os.path.join(os.getcwd(),dir_name)\n",
    "    try:\n",
    "        os.mkdir(INSTR_PATH)\n",
    "    except:\n",
    "        pass\n",
    "    \n"
   ]
  },
  {
   "cell_type": "code",
   "execution_count": null,
   "metadata": {},
   "outputs": [],
   "source": [
    "import pickle\n",
    "\n",
    "locations = {'dod_directives': {'pickle':'dod_dir.pickle',\n",
    "                                'dir':'dod_dir',\n",
    "                                'url':'http://www.esd.whs.mil/Directives/issuances/dodd/'},\n",
    "            'dod_instructions':{'pickle':'dod_instr.pickle',\n",
    "                                'dir':'dod_instr',\n",
    "                                'url':'http://www.esd.whs.mil/Directives/issuances/dodi/'}}\n",
    "\n",
    "#for loc in locations.items():\n",
    "#    ensure_dir(loc['dir'])\n",
    "\n",
    "def get_directives(directive_type):\n",
    "    try:\n",
    "        data = load_directive_data(directive_type)\n",
    "    except:\n",
    "        print(\"Didn't find data.. retrieving..\")\n",
    "        thief = DirectiveThief()\n",
    "        data = thief.scarf_data(locations[directive_type]['url'])\n",
    "        save_directive_data(data,directive_type)\n",
    "        return data\n",
    "    print(\"Found existing data.. loading from {}\".format(locations[directive_type]['pickle']))    \n",
    "    return data\n",
    "    \n",
    "\n",
    "\n",
    "def save_directive_data(data, directive_type):\n",
    "    with open(locations[directive_type]['pickle'],'wb') as fp:\n",
    "        return pickle.dump(data, fp, protocol=pickle.HIGHEST_PROTOCOL)\n",
    "        \n",
    "def load_directive_data(directive_type):\n",
    "    with open(locations[directive_type]['pickle'],'rb') as fp:\n",
    "        return pickle.load(fp)    "
   ]
  },
  {
   "cell_type": "code",
   "execution_count": 5,
   "metadata": {},
   "outputs": [],
   "source": [
    "def save_file(doctype, url):\n",
    "    fname = url.split(\"/\")[-1]\n",
    "    fpath = os.path.join(os.getcwd(), locations[doctype], fname)\n",
    "\n",
    "    # check if already downloaded\n",
    "    if not os.path.isfile(fpath):\n",
    "        try:\n",
    "            response = requests.get(url, stream=True)\n",
    "            response.raise_for_status()\n",
    "            with open(fpath, 'wb') as handle:\n",
    "                for block in response.iter_content(1024):\n",
    "                    handle.write(block)\n",
    "        except Exception as e:\n",
    "            print(e)\n",
    "            pass\n",
    "    else:\n",
    "        print(\"Skipping {}\".format(fpath))"
   ]
  },
  {
   "attachments": {},
   "cell_type": "markdown",
   "metadata": {},
   "source": []
  },
  {
   "cell_type": "markdown",
   "metadata": {},
   "source": [
    "### We have to tell our crawler where to start - these are the links we want.\n",
    "\n",
    "http://www.e-publishing.af.mil/#/?view=pubs&orgID=10141&catID=1&series=-1&modID=449&tabID=71"
   ]
  },
  {
   "cell_type": "code",
   "execution_count": 6,
   "metadata": {},
   "outputs": [],
   "source": [
    "import selenium\n",
    "from selenium import webdriver\n",
    "from selenium.webdriver.common.keys import Keys\n",
    "\n",
    "\n",
    "class DirectiveThief(object):\n",
    "    def __init__(self):\n",
    "        pass\n",
    "    \n",
    "    def scarf_data(self, url):\n",
    "        driver = self.setup_driver()\n",
    "        driver.get(url)\n",
    "        return self.crawl(driver)\n",
    "    \n",
    "    def setup_driver(self):\n",
    "        driver = webdriver.PhantomJS(executable_path='/usr/local/phantomjs/bin/phantomjs')\n",
    "        driver.implicitly_wait(0.25)\n",
    "        return driver\n",
    "\n",
    "    def crawl(self, driver):\n",
    "        # Start with initial links..\n",
    "        links = []\n",
    "        links += self.get_data(driver)\n",
    "\n",
    "        # Loop until it thinks it is done\n",
    "        while True:\n",
    "            nextbutton = self.get_next_button(driver)\n",
    "            if nextbutton:\n",
    "                nextbutton.click()\n",
    "                links += self.get_data(driver)\n",
    "            else:\n",
    "                return links\n",
    "\n",
    "    def get_data(self, driver):\n",
    "        objs = []\n",
    "\n",
    "        table = driver.find_element_by_class_name('dnnGrid')        \n",
    "        table_rows = table.find_elements_by_css_selector('tr')\n",
    "        # first is headers\n",
    "        headers = []\n",
    "        for header in table_rows[0].find_elements_by_css_selector('th'):\n",
    "            headers.append(header.find_element_by_css_selector('a').text)\n",
    "\n",
    "        for row in table_rows[1:]:\n",
    "            new_obj = {}\n",
    "            tds = row.find_elements_by_css_selector('td')\n",
    "            new_obj['url'] = tds[0].find_element_by_css_selector('a').get_attribute('href')\n",
    "\n",
    "            for td in zip(headers, tds):\n",
    "                new_obj[td[0]] = td[1].text\n",
    "            objs.append(new_obj)\n",
    "        return objs\n",
    "    \n",
    "    def get_next_button(self, driver):\n",
    "        pagination_buttons = driver.find_element_by_class_name('PagingTable').find_elements_by_css_selector('a')\n",
    "        next_button = pagination_buttons[-2]\n",
    "        spans = driver.find_element_by_class_name('PagingTable').find_elements_by_css_selector('span')\n",
    "\n",
    "        if spans[-1].text == 'Last':\n",
    "            return None\n",
    "        else:\n",
    "            return next_button\n"
   ]
  },
  {
   "cell_type": "markdown",
   "metadata": {},
   "source": [
    "### Here we tell the crawler how to discover more search results and detect when it is done."
   ]
  },
  {
   "cell_type": "code",
   "execution_count": 7,
   "metadata": {},
   "outputs": [
    {
     "name": "stdout",
     "output_type": "stream",
     "text": [
      "Found existing data.. loading from dod_instr.pickle\n"
     ]
    }
   ],
   "source": [
    "instr = get_directives('dod_instructions')\n",
    "\n"
   ]
  },
  {
   "cell_type": "markdown",
   "metadata": {},
   "source": [
    "### Tie it all together.."
   ]
  },
  {
   "cell_type": "code",
   "execution_count": null,
   "metadata": {},
   "outputs": [
    {
     "name": "stdout",
     "output_type": "stream",
     "text": [
      "Found existing data.. loading from dod_dir.pickle\n",
      "Didn't find data.. retrieving..\n"
     ]
    }
   ],
   "source": [
    "directives = get_directives('dod_directives')"
   ]
  },
  {
   "cell_type": "markdown",
   "metadata": {},
   "source": [
    "## Now we can download all the documents"
   ]
  },
  {
   "cell_type": "code",
   "execution_count": null,
   "metadata": {},
   "outputs": [],
   "source": []
  },
  {
   "cell_type": "code",
   "execution_count": null,
   "metadata": {},
   "outputs": [],
   "source": [
    "data[5]"
   ]
  },
  {
   "cell_type": "code",
   "execution_count": null,
   "metadata": {},
   "outputs": [],
   "source": [
    "#[save_file(link) for link in all_links]"
   ]
  },
  {
   "cell_type": "code",
   "execution_count": null,
   "metadata": {},
   "outputs": [],
   "source": [
    "print(\"We downloaded {} files\".format(len(all_links)))"
   ]
  },
  {
   "cell_type": "markdown",
   "metadata": {},
   "source": [
    "### Intermediate PDF -> txt not shown.. uninteresting.. here's a file"
   ]
  },
  {
   "cell_type": "code",
   "execution_count": null,
   "metadata": {},
   "outputs": [],
   "source": [
    "with open('/home/brian/usaf_instructiondestruction/afi_txt/afh10-222v14.txt') as fp:\n",
    "    print(fp.read())"
   ]
  }
 ],
 "metadata": {
  "kernelspec": {
   "display_name": "Python 3",
   "language": "python",
   "name": "python3"
  },
  "language_info": {
   "codemirror_mode": {
    "name": "ipython",
    "version": 3
   },
   "file_extension": ".py",
   "mimetype": "text/x-python",
   "name": "python",
   "nbconvert_exporter": "python",
   "pygments_lexer": "ipython3",
   "version": "3.6.3"
  },
  "toc": {
   "colors": {
    "hover_highlight": "#DAA520",
    "navigate_num": "#000000",
    "navigate_text": "#333333",
    "running_highlight": "#FF0000",
    "selected_highlight": "#FFD700",
    "sidebar_border": "#EEEEEE",
    "wrapper_background": "#FFFFFF"
   },
   "moveMenuLeft": true,
   "nav_menu": {
    "height": "12px",
    "width": "252px"
   },
   "navigate_menu": true,
   "number_sections": true,
   "sideBar": true,
   "threshold": 4,
   "toc_cell": false,
   "toc_section_display": "block",
   "toc_window_display": false,
   "widenNotebook": false
  }
 },
 "nbformat": 4,
 "nbformat_minor": 2
}
