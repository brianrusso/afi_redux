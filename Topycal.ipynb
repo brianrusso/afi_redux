{
 "cells": [
  {
   "cell_type": "code",
   "execution_count": 1,
   "metadata": {},
   "outputs": [],
   "source": [
    "import topycal\n",
    "import os\n",
    "import glob\n",
    "import random\n",
    "\n",
    "INSTR_PATH = os.path.join(os.getcwd(),\"afi_txt\")"
   ]
  },
  {
   "cell_type": "code",
   "execution_count": 2,
   "metadata": {},
   "outputs": [],
   "source": [
    "from concurrent.futures import ThreadPoolExecutor, wait, as_completed\n",
    "def do_fn_on_iter(fn, iterator, num_threads=6):\n",
    "    futures = []\n",
    "    if isinstance(num_threads, str):\n",
    "        num_threads = int(num_threads)\n",
    "    with ThreadPoolExecutor(max_workers=num_threads) as executor:\n",
    "        for elem in iterator:\n",
    "            futures.append(executor.submit(fn, elem))\n",
    "    results = []\n",
    "    for x in as_completed(futures):\n",
    "        results.append(x.result())\n",
    "    return results\n"
   ]
  },
  {
   "cell_type": "code",
   "execution_count": 3,
   "metadata": {},
   "outputs": [],
   "source": [
    "def get_file_list(limit=500, shuffle=True):\n",
    "    files = glob.glob(\"{}/*.txt\".format(INSTR_PATH))\n",
    "    if shuffle:\n",
    "        random.shuffle(files)\n",
    "    if limit:\n",
    "        return files[0:limit]\n",
    "    else:\n",
    "        return files\n",
    "    #data = myfile.read()\n",
    "    \n",
    "def read_file(fname):\n",
    "    with open(fname, errors='replace') as fd:\n",
    "        return fd.read()"
   ]
  },
  {
   "cell_type": "code",
   "execution_count": 4,
   "metadata": {},
   "outputs": [],
   "source": [
    "file_list = get_file_list(limit=500)\n"
   ]
  },
  {
   "cell_type": "code",
   "execution_count": 5,
   "metadata": {},
   "outputs": [],
   "source": [
    "import re\n",
    "\n",
    "def load_file(fname):\n",
    "    with open(fname, 'r') as myfile:\n",
    "        return (fname,re.sub(r'[\\t\\n\\r\\x0b\\x0c]',' ',myfile.read()))\n",
    "\n",
    "def load_corpus(file_list):\n",
    "    return {f[0]:f[1] for f in do_fn_on_iter(load_file, file_list)}    "
   ]
  },
  {
   "cell_type": "code",
   "execution_count": 6,
   "metadata": {},
   "outputs": [],
   "source": [
    "corpus_dict = load_corpus(file_list)"
   ]
  },
  {
   "cell_type": "code",
   "execution_count": 7,
   "metadata": {},
   "outputs": [],
   "source": [
    "import spacy\n",
    "nlp = spacy.load(\"en_core_web_md\")"
   ]
  },
  {
   "cell_type": "code",
   "execution_count": null,
   "metadata": {},
   "outputs": [],
   "source": [
    "from tqdm import tqdm\n",
    "\n",
    "class MarketBaskets(object):\n",
    "    def __init__(self):\n",
    "        self.lut = {}\n",
    "    \n",
    "    def put_in_basket(sentence, doc):\n",
    "        pass\n",
    "\n",
    "from collections import defaultdict\n",
    "import mmh3\n",
    "\n",
    "MIN_SENT_LEN = 30\n",
    "\n",
    "def do_market_basket_analysis(doc_dict):\n",
    "    baskets = defaultdict(set)\n",
    "    for k,v in tqdm(doc_dict.items()):\n",
    "        for sent in nlp(v).sents:\n",
    "            if len(sent) > MIN_SENT_LEN:\n",
    "                baskets[mmh3.hash64(sent.text.strip())].add(k)\n",
    "    return baskets"
   ]
  },
  {
   "cell_type": "code",
   "execution_count": null,
   "metadata": {},
   "outputs": [
    {
     "name": "stderr",
     "output_type": "stream",
     "text": [
      " 26%|██▌       | 129/500 [02:50<08:11,  1.32s/it]"
     ]
    }
   ],
   "source": [
    "f = do_market_basket_analysis(corpus_dict)"
   ]
  },
  {
   "cell_type": "code",
   "execution_count": null,
   "metadata": {},
   "outputs": [],
   "source": [
    "# trim baskets only 1 long.\n",
    "MIN_BASKET_LEN = 1\n",
    "def trim_baskets(baskets):\n",
    "    return {k:v for k,v in tqdm(baskets.items()) if len(v) > MIN_BASKET_LEN}\n"
   ]
  },
  {
   "cell_type": "code",
   "execution_count": null,
   "metadata": {},
   "outputs": [],
   "source": [
    "g = trim_baskets(f)"
   ]
  },
  {
   "cell_type": "code",
   "execution_count": null,
   "metadata": {},
   "outputs": [],
   "source": [
    "len(list(g.items()))"
   ]
  },
  {
   "cell_type": "code",
   "execution_count": null,
   "metadata": {},
   "outputs": [],
   "source": [
    "g"
   ]
  },
  {
   "cell_type": "code",
   "execution_count": null,
   "metadata": {},
   "outputs": [],
   "source": []
  }
 ],
 "metadata": {
  "kernelspec": {
   "display_name": "Python 3",
   "language": "python",
   "name": "python3"
  },
  "language_info": {
   "codemirror_mode": {
    "name": "ipython",
    "version": 3
   },
   "file_extension": ".py",
   "mimetype": "text/x-python",
   "name": "python",
   "nbconvert_exporter": "python",
   "pygments_lexer": "ipython3",
   "version": "3.6.3"
  },
  "toc": {
   "colors": {
    "hover_highlight": "#DAA520",
    "navigate_num": "#000000",
    "navigate_text": "#333333",
    "running_highlight": "#FF0000",
    "selected_highlight": "#FFD700",
    "sidebar_border": "#EEEEEE",
    "wrapper_background": "#FFFFFF"
   },
   "moveMenuLeft": true,
   "nav_menu": {
    "height": "12px",
    "width": "252px"
   },
   "navigate_menu": true,
   "number_sections": true,
   "sideBar": true,
   "threshold": 4,
   "toc_cell": false,
   "toc_section_display": "block",
   "toc_window_display": false,
   "widenNotebook": false
  }
 },
 "nbformat": 4,
 "nbformat_minor": 2
}
